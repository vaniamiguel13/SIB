{
 "cells": [
  {
   "cell_type": "code",
   "execution_count": 4,
   "outputs": [],
   "source": [
    "import numpy as np\n",
    "import pandas as pd"
   ],
   "metadata": {
    "collapsed": false
   }
  },
  {
   "cell_type": "markdown",
   "source": [
    "# Preprocessing\n"
   ],
   "metadata": {
    "collapsed": false
   }
  },
  {
   "cell_type": "markdown",
   "source": [],
   "metadata": {
    "collapsed": false
   }
  },
  {
   "cell_type": "code",
   "execution_count": 2,
   "outputs": [],
   "source": [
    "train = pd.read_csv(\"train.csv\")\n",
    "test = pd.read_csv(\"test.csv\")\n",
    "\n",
    "updates = pd.read_csv(\"train_updates_20220929.csv\")"
   ],
   "metadata": {
    "collapsed": false
   }
  },
  {
   "cell_type": "markdown",
   "source": [
    " Definiram-se os dados de teste e treino e, ainda, se definiu dados de treino atualizados, de modo a corrigir-se alguns dos dados de treino."
   ],
   "metadata": {
    "collapsed": false
   }
  },
  {
   "cell_type": "code",
   "execution_count": 3,
   "outputs": [
    {
     "data": {
      "text/plain": "       seq_id                                   protein_sequence   pH  \\\n0           0  AAAAKAAALALLGEAPEVVDIWLPAGWRQPFRVFRLERKGDGVLVG...  7.0   \n1           1  AAADGEPLHNEEERAGAGQVGRSLPQESEEQRTGSRPRRRRDLGSR...  7.0   \n2           2  AAAFSTPRATSYRILSSAGSGSTRADAPQVRRLHTTRDLLAKDYYA...  7.0   \n3           3  AAASGLRTAIPAQPLRHLLQPAPRPCLRPFGLLSVRAGSARRSGLL...  7.0   \n4           4  AAATKSGPRRQSQGASVRTFTPFYFLVEPVDTLSVRGSSVILNCSA...  7.0   \n...       ...                                                ...  ...   \n31385   31385  YYMYSGGGSALAAGGGGAGRKGDWNDIDSIKKKDLHHSRGDEKAQG...  7.0   \n31386   31386  YYNDQHRLSSYSVETAMFLSWERAIVKPGAMFKKAVIGFNCNVDLI...  7.0   \n31387   31387  YYQRTLGAELLYKISFGEMPKSAQDSAENCPSGMQFPDTAIAHANV...  7.0   \n31388   31388  YYSFSDNITTVFLSRQAIDDDHSLSLGTISDVVESENGVVAADDAR...  7.0   \n31389   31389  YYVPDEYWQSLEVAHKLTFGYGYLTWEWVQGIRSYVYPLLIAGLYK...  7.0   \n\n                             data_source    tm  \n0      doi.org/10.1038/s41592-020-0801-4  75.7  \n1      doi.org/10.1038/s41592-020-0801-4  50.5  \n2      doi.org/10.1038/s41592-020-0801-4  40.5  \n3      doi.org/10.1038/s41592-020-0801-4  47.2  \n4      doi.org/10.1038/s41592-020-0801-4  49.5  \n...                                  ...   ...  \n31385  doi.org/10.1038/s41592-020-0801-4  51.8  \n31386  doi.org/10.1038/s41592-020-0801-4  37.2  \n31387  doi.org/10.1038/s41592-020-0801-4  64.6  \n31388  doi.org/10.1038/s41592-020-0801-4  50.7  \n31389  doi.org/10.1038/s41592-020-0801-4  37.6  \n\n[31390 rows x 5 columns]",
      "text/html": "<div>\n<style scoped>\n    .dataframe tbody tr th:only-of-type {\n        vertical-align: middle;\n    }\n\n    .dataframe tbody tr th {\n        vertical-align: top;\n    }\n\n    .dataframe thead th {\n        text-align: right;\n    }\n</style>\n<table border=\"1\" class=\"dataframe\">\n  <thead>\n    <tr style=\"text-align: right;\">\n      <th></th>\n      <th>seq_id</th>\n      <th>protein_sequence</th>\n      <th>pH</th>\n      <th>data_source</th>\n      <th>tm</th>\n    </tr>\n  </thead>\n  <tbody>\n    <tr>\n      <th>0</th>\n      <td>0</td>\n      <td>AAAAKAAALALLGEAPEVVDIWLPAGWRQPFRVFRLERKGDGVLVG...</td>\n      <td>7.0</td>\n      <td>doi.org/10.1038/s41592-020-0801-4</td>\n      <td>75.7</td>\n    </tr>\n    <tr>\n      <th>1</th>\n      <td>1</td>\n      <td>AAADGEPLHNEEERAGAGQVGRSLPQESEEQRTGSRPRRRRDLGSR...</td>\n      <td>7.0</td>\n      <td>doi.org/10.1038/s41592-020-0801-4</td>\n      <td>50.5</td>\n    </tr>\n    <tr>\n      <th>2</th>\n      <td>2</td>\n      <td>AAAFSTPRATSYRILSSAGSGSTRADAPQVRRLHTTRDLLAKDYYA...</td>\n      <td>7.0</td>\n      <td>doi.org/10.1038/s41592-020-0801-4</td>\n      <td>40.5</td>\n    </tr>\n    <tr>\n      <th>3</th>\n      <td>3</td>\n      <td>AAASGLRTAIPAQPLRHLLQPAPRPCLRPFGLLSVRAGSARRSGLL...</td>\n      <td>7.0</td>\n      <td>doi.org/10.1038/s41592-020-0801-4</td>\n      <td>47.2</td>\n    </tr>\n    <tr>\n      <th>4</th>\n      <td>4</td>\n      <td>AAATKSGPRRQSQGASVRTFTPFYFLVEPVDTLSVRGSSVILNCSA...</td>\n      <td>7.0</td>\n      <td>doi.org/10.1038/s41592-020-0801-4</td>\n      <td>49.5</td>\n    </tr>\n    <tr>\n      <th>...</th>\n      <td>...</td>\n      <td>...</td>\n      <td>...</td>\n      <td>...</td>\n      <td>...</td>\n    </tr>\n    <tr>\n      <th>31385</th>\n      <td>31385</td>\n      <td>YYMYSGGGSALAAGGGGAGRKGDWNDIDSIKKKDLHHSRGDEKAQG...</td>\n      <td>7.0</td>\n      <td>doi.org/10.1038/s41592-020-0801-4</td>\n      <td>51.8</td>\n    </tr>\n    <tr>\n      <th>31386</th>\n      <td>31386</td>\n      <td>YYNDQHRLSSYSVETAMFLSWERAIVKPGAMFKKAVIGFNCNVDLI...</td>\n      <td>7.0</td>\n      <td>doi.org/10.1038/s41592-020-0801-4</td>\n      <td>37.2</td>\n    </tr>\n    <tr>\n      <th>31387</th>\n      <td>31387</td>\n      <td>YYQRTLGAELLYKISFGEMPKSAQDSAENCPSGMQFPDTAIAHANV...</td>\n      <td>7.0</td>\n      <td>doi.org/10.1038/s41592-020-0801-4</td>\n      <td>64.6</td>\n    </tr>\n    <tr>\n      <th>31388</th>\n      <td>31388</td>\n      <td>YYSFSDNITTVFLSRQAIDDDHSLSLGTISDVVESENGVVAADDAR...</td>\n      <td>7.0</td>\n      <td>doi.org/10.1038/s41592-020-0801-4</td>\n      <td>50.7</td>\n    </tr>\n    <tr>\n      <th>31389</th>\n      <td>31389</td>\n      <td>YYVPDEYWQSLEVAHKLTFGYGYLTWEWVQGIRSYVYPLLIAGLYK...</td>\n      <td>7.0</td>\n      <td>doi.org/10.1038/s41592-020-0801-4</td>\n      <td>37.6</td>\n    </tr>\n  </tbody>\n</table>\n<p>31390 rows × 5 columns</p>\n</div>"
     },
     "execution_count": 3,
     "metadata": {},
     "output_type": "execute_result"
    }
   ],
   "source": [
    "train"
   ],
   "metadata": {
    "collapsed": false
   }
  },
  {
   "cell_type": "code",
   "execution_count": 5,
   "outputs": [
    {
     "data": {
      "text/plain": "      seq_id protein_sequence  pH  data_source  tm\n0         69              NaN NaN          NaN NaN\n1         70              NaN NaN          NaN NaN\n2         71              NaN NaN          NaN NaN\n3         72              NaN NaN          NaN NaN\n4         73              NaN NaN          NaN NaN\n...      ...              ...  ..          ...  ..\n2429   30738              NaN NaN          NaN NaN\n2430   30739              NaN NaN          NaN NaN\n2431   30740              NaN NaN          NaN NaN\n2432   30741              NaN NaN          NaN NaN\n2433   30742              NaN NaN          NaN NaN\n\n[2434 rows x 5 columns]",
      "text/html": "<div>\n<style scoped>\n    .dataframe tbody tr th:only-of-type {\n        vertical-align: middle;\n    }\n\n    .dataframe tbody tr th {\n        vertical-align: top;\n    }\n\n    .dataframe thead th {\n        text-align: right;\n    }\n</style>\n<table border=\"1\" class=\"dataframe\">\n  <thead>\n    <tr style=\"text-align: right;\">\n      <th></th>\n      <th>seq_id</th>\n      <th>protein_sequence</th>\n      <th>pH</th>\n      <th>data_source</th>\n      <th>tm</th>\n    </tr>\n  </thead>\n  <tbody>\n    <tr>\n      <th>0</th>\n      <td>69</td>\n      <td>NaN</td>\n      <td>NaN</td>\n      <td>NaN</td>\n      <td>NaN</td>\n    </tr>\n    <tr>\n      <th>1</th>\n      <td>70</td>\n      <td>NaN</td>\n      <td>NaN</td>\n      <td>NaN</td>\n      <td>NaN</td>\n    </tr>\n    <tr>\n      <th>2</th>\n      <td>71</td>\n      <td>NaN</td>\n      <td>NaN</td>\n      <td>NaN</td>\n      <td>NaN</td>\n    </tr>\n    <tr>\n      <th>3</th>\n      <td>72</td>\n      <td>NaN</td>\n      <td>NaN</td>\n      <td>NaN</td>\n      <td>NaN</td>\n    </tr>\n    <tr>\n      <th>4</th>\n      <td>73</td>\n      <td>NaN</td>\n      <td>NaN</td>\n      <td>NaN</td>\n      <td>NaN</td>\n    </tr>\n    <tr>\n      <th>...</th>\n      <td>...</td>\n      <td>...</td>\n      <td>...</td>\n      <td>...</td>\n      <td>...</td>\n    </tr>\n    <tr>\n      <th>2429</th>\n      <td>30738</td>\n      <td>NaN</td>\n      <td>NaN</td>\n      <td>NaN</td>\n      <td>NaN</td>\n    </tr>\n    <tr>\n      <th>2430</th>\n      <td>30739</td>\n      <td>NaN</td>\n      <td>NaN</td>\n      <td>NaN</td>\n      <td>NaN</td>\n    </tr>\n    <tr>\n      <th>2431</th>\n      <td>30740</td>\n      <td>NaN</td>\n      <td>NaN</td>\n      <td>NaN</td>\n      <td>NaN</td>\n    </tr>\n    <tr>\n      <th>2432</th>\n      <td>30741</td>\n      <td>NaN</td>\n      <td>NaN</td>\n      <td>NaN</td>\n      <td>NaN</td>\n    </tr>\n    <tr>\n      <th>2433</th>\n      <td>30742</td>\n      <td>NaN</td>\n      <td>NaN</td>\n      <td>NaN</td>\n      <td>NaN</td>\n    </tr>\n  </tbody>\n</table>\n<p>2434 rows × 5 columns</p>\n</div>"
     },
     "execution_count": 5,
     "metadata": {},
     "output_type": "execute_result"
    }
   ],
   "source": [
    "updates"
   ],
   "metadata": {
    "collapsed": false
   }
  },
  {
   "cell_type": "code",
   "execution_count": 5,
   "outputs": [
    {
     "name": "stdout",
     "output_type": "stream",
     "text": [
      "Entries to update (num_rows): (2434,)\n",
      "Entries to delete (shape): (2409, 5)\n",
      "Entries to change (shape): (25, 5)\n"
     ]
    }
   ],
   "source": [
    "print(f\"Entries to update (num_rows): {updates['pH'].shape}\")\n",
    "\n",
    "mask = updates[\"pH\"].isna()\n",
    "\n",
    "to_delete = updates.loc[mask,:]\n",
    "to_change = updates.loc[-mask,:]\n",
    "\n",
    "print(f\"Entries to delete (shape): {to_delete.shape}\")\n",
    "print(f\"Entries to change (shape): {to_change.shape}\")"
   ],
   "metadata": {
    "collapsed": false
   }
  },
  {
   "cell_type": "markdown",
   "source": [
    "Verificou-se o número de dados para deletar e para modificar."
   ],
   "metadata": {
    "collapsed": false
   }
  },
  {
   "cell_type": "code",
   "execution_count": 6,
   "outputs": [],
   "source": [
    "# First, change rows with data arrangement errors\n",
    "train.loc[to_change.index, [\"pH\", \"tm\"]] = updates.loc[to_change.index, [\"pH\", \"tm\"]]"
   ],
   "metadata": {
    "collapsed": false
   }
  },
  {
   "cell_type": "code",
   "execution_count": 7,
   "outputs": [
    {
     "name": "stdout",
     "output_type": "stream",
     "text": [
      "Number of entries (original data): 31390\n",
      "Number of entries (after cut): 28981\n"
     ]
    }
   ],
   "source": [
    "# Next, remove rows with data issues\n",
    "print(f\"Number of entries (original data): {train.shape[0]}\")\n",
    "train_cut = train.drop(to_delete.index)\n",
    "print(f\"Number of entries (after cut): {train_cut.shape[0]}\")"
   ],
   "metadata": {
    "collapsed": false
   }
  },
  {
   "cell_type": "markdown",
   "source": [
    "Após a realização das modificações foram eliminadas 2409 entradas."
   ],
   "metadata": {
    "collapsed": false
   }
  },
  {
   "cell_type": "code",
   "execution_count": 8,
   "outputs": [
    {
     "data": {
      "text/plain": "       seq_id                                   protein_sequence   pH  \\\n25         25  AAPDEITTAWPVNVGPLNPHLYTPNQMFAQSMVYEPLVKYQADGSV...  7.0   \n28         28  AARRFSGPRNQRQQGGGDPGLMHGKTVLITGANSGLGRATAAELLR...  7.0   \n29         29  AASSPEADFVKKTISSHKIVIFSKSYCPYCKKAKSVFRELDQVPYV...  7.0   \n30         30  AATFAYSQSQKRSSSSPGGGSNHGWNNWGKAAALASTTPLVHVASV...  5.5   \n33         33  AAVLVTFIGGLYFITHHKKEESETLQSQKVTGNGLPPKPEERWRYI...  7.0   \n...       ...                                                ...  ...   \n31385   31385  YYMYSGGGSALAAGGGGAGRKGDWNDIDSIKKKDLHHSRGDEKAQG...  7.0   \n31386   31386  YYNDQHRLSSYSVETAMFLSWERAIVKPGAMFKKAVIGFNCNVDLI...  7.0   \n31387   31387  YYQRTLGAELLYKISFGEMPKSAQDSAENCPSGMQFPDTAIAHANV...  7.0   \n31388   31388  YYSFSDNITTVFLSRQAIDDDHSLSLGTISDVVESENGVVAADDAR...  7.0   \n31389   31389  YYVPDEYWQSLEVAHKLTFGYGYLTWEWVQGIRSYVYPLLIAGLYK...  7.0   \n\n                             data_source    tm  \n25     doi.org/10.1038/s41592-020-0801-4  48.4  \n28     doi.org/10.1038/s41592-020-0801-4  48.4  \n29     doi.org/10.1038/s41592-020-0801-4  49.0  \n30     doi.org/10.1038/s41592-020-0801-4  55.6  \n33     doi.org/10.1038/s41592-020-0801-4  48.4  \n...                                  ...   ...  \n31385  doi.org/10.1038/s41592-020-0801-4  51.8  \n31386  doi.org/10.1038/s41592-020-0801-4  37.2  \n31387  doi.org/10.1038/s41592-020-0801-4  64.6  \n31388  doi.org/10.1038/s41592-020-0801-4  50.7  \n31389  doi.org/10.1038/s41592-020-0801-4  37.6  \n\n[28981 rows x 5 columns]",
      "text/html": "<div>\n<style scoped>\n    .dataframe tbody tr th:only-of-type {\n        vertical-align: middle;\n    }\n\n    .dataframe tbody tr th {\n        vertical-align: top;\n    }\n\n    .dataframe thead th {\n        text-align: right;\n    }\n</style>\n<table border=\"1\" class=\"dataframe\">\n  <thead>\n    <tr style=\"text-align: right;\">\n      <th></th>\n      <th>seq_id</th>\n      <th>protein_sequence</th>\n      <th>pH</th>\n      <th>data_source</th>\n      <th>tm</th>\n    </tr>\n  </thead>\n  <tbody>\n    <tr>\n      <th>25</th>\n      <td>25</td>\n      <td>AAPDEITTAWPVNVGPLNPHLYTPNQMFAQSMVYEPLVKYQADGSV...</td>\n      <td>7.0</td>\n      <td>doi.org/10.1038/s41592-020-0801-4</td>\n      <td>48.4</td>\n    </tr>\n    <tr>\n      <th>28</th>\n      <td>28</td>\n      <td>AARRFSGPRNQRQQGGGDPGLMHGKTVLITGANSGLGRATAAELLR...</td>\n      <td>7.0</td>\n      <td>doi.org/10.1038/s41592-020-0801-4</td>\n      <td>48.4</td>\n    </tr>\n    <tr>\n      <th>29</th>\n      <td>29</td>\n      <td>AASSPEADFVKKTISSHKIVIFSKSYCPYCKKAKSVFRELDQVPYV...</td>\n      <td>7.0</td>\n      <td>doi.org/10.1038/s41592-020-0801-4</td>\n      <td>49.0</td>\n    </tr>\n    <tr>\n      <th>30</th>\n      <td>30</td>\n      <td>AATFAYSQSQKRSSSSPGGGSNHGWNNWGKAAALASTTPLVHVASV...</td>\n      <td>5.5</td>\n      <td>doi.org/10.1038/s41592-020-0801-4</td>\n      <td>55.6</td>\n    </tr>\n    <tr>\n      <th>33</th>\n      <td>33</td>\n      <td>AAVLVTFIGGLYFITHHKKEESETLQSQKVTGNGLPPKPEERWRYI...</td>\n      <td>7.0</td>\n      <td>doi.org/10.1038/s41592-020-0801-4</td>\n      <td>48.4</td>\n    </tr>\n    <tr>\n      <th>...</th>\n      <td>...</td>\n      <td>...</td>\n      <td>...</td>\n      <td>...</td>\n      <td>...</td>\n    </tr>\n    <tr>\n      <th>31385</th>\n      <td>31385</td>\n      <td>YYMYSGGGSALAAGGGGAGRKGDWNDIDSIKKKDLHHSRGDEKAQG...</td>\n      <td>7.0</td>\n      <td>doi.org/10.1038/s41592-020-0801-4</td>\n      <td>51.8</td>\n    </tr>\n    <tr>\n      <th>31386</th>\n      <td>31386</td>\n      <td>YYNDQHRLSSYSVETAMFLSWERAIVKPGAMFKKAVIGFNCNVDLI...</td>\n      <td>7.0</td>\n      <td>doi.org/10.1038/s41592-020-0801-4</td>\n      <td>37.2</td>\n    </tr>\n    <tr>\n      <th>31387</th>\n      <td>31387</td>\n      <td>YYQRTLGAELLYKISFGEMPKSAQDSAENCPSGMQFPDTAIAHANV...</td>\n      <td>7.0</td>\n      <td>doi.org/10.1038/s41592-020-0801-4</td>\n      <td>64.6</td>\n    </tr>\n    <tr>\n      <th>31388</th>\n      <td>31388</td>\n      <td>YYSFSDNITTVFLSRQAIDDDHSLSLGTISDVVESENGVVAADDAR...</td>\n      <td>7.0</td>\n      <td>doi.org/10.1038/s41592-020-0801-4</td>\n      <td>50.7</td>\n    </tr>\n    <tr>\n      <th>31389</th>\n      <td>31389</td>\n      <td>YYVPDEYWQSLEVAHKLTFGYGYLTWEWVQGIRSYVYPLLIAGLYK...</td>\n      <td>7.0</td>\n      <td>doi.org/10.1038/s41592-020-0801-4</td>\n      <td>37.6</td>\n    </tr>\n  </tbody>\n</table>\n<p>28981 rows × 5 columns</p>\n</div>"
     },
     "execution_count": 8,
     "metadata": {},
     "output_type": "execute_result"
    }
   ],
   "source": [
    "train_cut"
   ],
   "metadata": {
    "collapsed": false
   }
  },
  {
   "cell_type": "markdown",
   "source": [
    "Realizou-se a verificação das alterações realizadas aos dados de treino e a presença de NaNs -> verificou-se a existência de dados omissos (3494)."
   ],
   "metadata": {
    "collapsed": false
   }
  },
  {
   "cell_type": "code",
   "execution_count": 9,
   "outputs": [
    {
     "name": "stdout",
     "output_type": "stream",
     "text": [
      "Number of rows still containing NaNs: 3494\n"
     ]
    },
    {
     "data": {
      "text/plain": "       seq_id                                   protein_sequence   pH  \\\n25         25  AAPDEITTAWPVNVGPLNPHLYTPNQMFAQSMVYEPLVKYQADGSV...  7.0   \n28         28  AARRFSGPRNQRQQGGGDPGLMHGKTVLITGANSGLGRATAAELLR...  7.0   \n29         29  AASSPEADFVKKTISSHKIVIFSKSYCPYCKKAKSVFRELDQVPYV...  7.0   \n30         30  AATFAYSQSQKRSSSSPGGGSNHGWNNWGKAAALASTTPLVHVASV...  5.5   \n33         33  AAVLVTFIGGLYFITHHKKEESETLQSQKVTGNGLPPKPEERWRYI...  7.0   \n...       ...                                                ...  ...   \n31385   31385  YYMYSGGGSALAAGGGGAGRKGDWNDIDSIKKKDLHHSRGDEKAQG...  7.0   \n31386   31386  YYNDQHRLSSYSVETAMFLSWERAIVKPGAMFKKAVIGFNCNVDLI...  7.0   \n31387   31387  YYQRTLGAELLYKISFGEMPKSAQDSAENCPSGMQFPDTAIAHANV...  7.0   \n31388   31388  YYSFSDNITTVFLSRQAIDDDHSLSLGTISDVVESENGVVAADDAR...  7.0   \n31389   31389  YYVPDEYWQSLEVAHKLTFGYGYLTWEWVQGIRSYVYPLLIAGLYK...  7.0   \n\n                             data_source    tm  \n25     doi.org/10.1038/s41592-020-0801-4  48.4  \n28     doi.org/10.1038/s41592-020-0801-4  48.4  \n29     doi.org/10.1038/s41592-020-0801-4  49.0  \n30     doi.org/10.1038/s41592-020-0801-4  55.6  \n33     doi.org/10.1038/s41592-020-0801-4  48.4  \n...                                  ...   ...  \n31385  doi.org/10.1038/s41592-020-0801-4  51.8  \n31386  doi.org/10.1038/s41592-020-0801-4  37.2  \n31387  doi.org/10.1038/s41592-020-0801-4  64.6  \n31388  doi.org/10.1038/s41592-020-0801-4  50.7  \n31389  doi.org/10.1038/s41592-020-0801-4  37.6  \n\n[25487 rows x 5 columns]",
      "text/html": "<div>\n<style scoped>\n    .dataframe tbody tr th:only-of-type {\n        vertical-align: middle;\n    }\n\n    .dataframe tbody tr th {\n        vertical-align: top;\n    }\n\n    .dataframe thead th {\n        text-align: right;\n    }\n</style>\n<table border=\"1\" class=\"dataframe\">\n  <thead>\n    <tr style=\"text-align: right;\">\n      <th></th>\n      <th>seq_id</th>\n      <th>protein_sequence</th>\n      <th>pH</th>\n      <th>data_source</th>\n      <th>tm</th>\n    </tr>\n  </thead>\n  <tbody>\n    <tr>\n      <th>25</th>\n      <td>25</td>\n      <td>AAPDEITTAWPVNVGPLNPHLYTPNQMFAQSMVYEPLVKYQADGSV...</td>\n      <td>7.0</td>\n      <td>doi.org/10.1038/s41592-020-0801-4</td>\n      <td>48.4</td>\n    </tr>\n    <tr>\n      <th>28</th>\n      <td>28</td>\n      <td>AARRFSGPRNQRQQGGGDPGLMHGKTVLITGANSGLGRATAAELLR...</td>\n      <td>7.0</td>\n      <td>doi.org/10.1038/s41592-020-0801-4</td>\n      <td>48.4</td>\n    </tr>\n    <tr>\n      <th>29</th>\n      <td>29</td>\n      <td>AASSPEADFVKKTISSHKIVIFSKSYCPYCKKAKSVFRELDQVPYV...</td>\n      <td>7.0</td>\n      <td>doi.org/10.1038/s41592-020-0801-4</td>\n      <td>49.0</td>\n    </tr>\n    <tr>\n      <th>30</th>\n      <td>30</td>\n      <td>AATFAYSQSQKRSSSSPGGGSNHGWNNWGKAAALASTTPLVHVASV...</td>\n      <td>5.5</td>\n      <td>doi.org/10.1038/s41592-020-0801-4</td>\n      <td>55.6</td>\n    </tr>\n    <tr>\n      <th>33</th>\n      <td>33</td>\n      <td>AAVLVTFIGGLYFITHHKKEESETLQSQKVTGNGLPPKPEERWRYI...</td>\n      <td>7.0</td>\n      <td>doi.org/10.1038/s41592-020-0801-4</td>\n      <td>48.4</td>\n    </tr>\n    <tr>\n      <th>...</th>\n      <td>...</td>\n      <td>...</td>\n      <td>...</td>\n      <td>...</td>\n      <td>...</td>\n    </tr>\n    <tr>\n      <th>31385</th>\n      <td>31385</td>\n      <td>YYMYSGGGSALAAGGGGAGRKGDWNDIDSIKKKDLHHSRGDEKAQG...</td>\n      <td>7.0</td>\n      <td>doi.org/10.1038/s41592-020-0801-4</td>\n      <td>51.8</td>\n    </tr>\n    <tr>\n      <th>31386</th>\n      <td>31386</td>\n      <td>YYNDQHRLSSYSVETAMFLSWERAIVKPGAMFKKAVIGFNCNVDLI...</td>\n      <td>7.0</td>\n      <td>doi.org/10.1038/s41592-020-0801-4</td>\n      <td>37.2</td>\n    </tr>\n    <tr>\n      <th>31387</th>\n      <td>31387</td>\n      <td>YYQRTLGAELLYKISFGEMPKSAQDSAENCPSGMQFPDTAIAHANV...</td>\n      <td>7.0</td>\n      <td>doi.org/10.1038/s41592-020-0801-4</td>\n      <td>64.6</td>\n    </tr>\n    <tr>\n      <th>31388</th>\n      <td>31388</td>\n      <td>YYSFSDNITTVFLSRQAIDDDHSLSLGTISDVVESENGVVAADDAR...</td>\n      <td>7.0</td>\n      <td>doi.org/10.1038/s41592-020-0801-4</td>\n      <td>50.7</td>\n    </tr>\n    <tr>\n      <th>31389</th>\n      <td>31389</td>\n      <td>YYVPDEYWQSLEVAHKLTFGYGYLTWEWVQGIRSYVYPLLIAGLYK...</td>\n      <td>7.0</td>\n      <td>doi.org/10.1038/s41592-020-0801-4</td>\n      <td>37.6</td>\n    </tr>\n  </tbody>\n</table>\n<p>25487 rows × 5 columns</p>\n</div>"
     },
     "execution_count": 9,
     "metadata": {},
     "output_type": "execute_result"
    }
   ],
   "source": [
    "# check if there are still NaNs and remove them\n",
    "idxs = train_cut[train_cut.isna().any(axis=1)].index\n",
    "print(f\"Number of rows still containing NaNs: {len(idxs)}\")\n",
    "train_cut.drop(index=idxs, inplace=True)\n",
    "train_cut"
   ],
   "metadata": {
    "collapsed": false
   }
  },
  {
   "cell_type": "markdown",
   "source": [
    "Voltou-se a realizar a eliminação das linhas com NaNs."
   ],
   "metadata": {
    "collapsed": false
   }
  },
  {
   "cell_type": "code",
   "execution_count": 10,
   "outputs": [
    {
     "data": {
      "text/plain": "       seq_id                                   protein_sequence   pH  \\\n0          25  AAPDEITTAWPVNVGPLNPHLYTPNQMFAQSMVYEPLVKYQADGSV...  7.0   \n1          28  AARRFSGPRNQRQQGGGDPGLMHGKTVLITGANSGLGRATAAELLR...  7.0   \n2          29  AASSPEADFVKKTISSHKIVIFSKSYCPYCKKAKSVFRELDQVPYV...  7.0   \n3          30  AATFAYSQSQKRSSSSPGGGSNHGWNNWGKAAALASTTPLVHVASV...  5.5   \n4          33  AAVLVTFIGGLYFITHHKKEESETLQSQKVTGNGLPPKPEERWRYI...  7.0   \n...       ...                                                ...  ...   \n25482   31385  YYMYSGGGSALAAGGGGAGRKGDWNDIDSIKKKDLHHSRGDEKAQG...  7.0   \n25483   31386  YYNDQHRLSSYSVETAMFLSWERAIVKPGAMFKKAVIGFNCNVDLI...  7.0   \n25484   31387  YYQRTLGAELLYKISFGEMPKSAQDSAENCPSGMQFPDTAIAHANV...  7.0   \n25485   31388  YYSFSDNITTVFLSRQAIDDDHSLSLGTISDVVESENGVVAADDAR...  7.0   \n25486   31389  YYVPDEYWQSLEVAHKLTFGYGYLTWEWVQGIRSYVYPLLIAGLYK...  7.0   \n\n                             data_source    tm  \n0      doi.org/10.1038/s41592-020-0801-4  48.4  \n1      doi.org/10.1038/s41592-020-0801-4  48.4  \n2      doi.org/10.1038/s41592-020-0801-4  49.0  \n3      doi.org/10.1038/s41592-020-0801-4  55.6  \n4      doi.org/10.1038/s41592-020-0801-4  48.4  \n...                                  ...   ...  \n25482  doi.org/10.1038/s41592-020-0801-4  51.8  \n25483  doi.org/10.1038/s41592-020-0801-4  37.2  \n25484  doi.org/10.1038/s41592-020-0801-4  64.6  \n25485  doi.org/10.1038/s41592-020-0801-4  50.7  \n25486  doi.org/10.1038/s41592-020-0801-4  37.6  \n\n[25487 rows x 5 columns]",
      "text/html": "<div>\n<style scoped>\n    .dataframe tbody tr th:only-of-type {\n        vertical-align: middle;\n    }\n\n    .dataframe tbody tr th {\n        vertical-align: top;\n    }\n\n    .dataframe thead th {\n        text-align: right;\n    }\n</style>\n<table border=\"1\" class=\"dataframe\">\n  <thead>\n    <tr style=\"text-align: right;\">\n      <th></th>\n      <th>seq_id</th>\n      <th>protein_sequence</th>\n      <th>pH</th>\n      <th>data_source</th>\n      <th>tm</th>\n    </tr>\n  </thead>\n  <tbody>\n    <tr>\n      <th>0</th>\n      <td>25</td>\n      <td>AAPDEITTAWPVNVGPLNPHLYTPNQMFAQSMVYEPLVKYQADGSV...</td>\n      <td>7.0</td>\n      <td>doi.org/10.1038/s41592-020-0801-4</td>\n      <td>48.4</td>\n    </tr>\n    <tr>\n      <th>1</th>\n      <td>28</td>\n      <td>AARRFSGPRNQRQQGGGDPGLMHGKTVLITGANSGLGRATAAELLR...</td>\n      <td>7.0</td>\n      <td>doi.org/10.1038/s41592-020-0801-4</td>\n      <td>48.4</td>\n    </tr>\n    <tr>\n      <th>2</th>\n      <td>29</td>\n      <td>AASSPEADFVKKTISSHKIVIFSKSYCPYCKKAKSVFRELDQVPYV...</td>\n      <td>7.0</td>\n      <td>doi.org/10.1038/s41592-020-0801-4</td>\n      <td>49.0</td>\n    </tr>\n    <tr>\n      <th>3</th>\n      <td>30</td>\n      <td>AATFAYSQSQKRSSSSPGGGSNHGWNNWGKAAALASTTPLVHVASV...</td>\n      <td>5.5</td>\n      <td>doi.org/10.1038/s41592-020-0801-4</td>\n      <td>55.6</td>\n    </tr>\n    <tr>\n      <th>4</th>\n      <td>33</td>\n      <td>AAVLVTFIGGLYFITHHKKEESETLQSQKVTGNGLPPKPEERWRYI...</td>\n      <td>7.0</td>\n      <td>doi.org/10.1038/s41592-020-0801-4</td>\n      <td>48.4</td>\n    </tr>\n    <tr>\n      <th>...</th>\n      <td>...</td>\n      <td>...</td>\n      <td>...</td>\n      <td>...</td>\n      <td>...</td>\n    </tr>\n    <tr>\n      <th>25482</th>\n      <td>31385</td>\n      <td>YYMYSGGGSALAAGGGGAGRKGDWNDIDSIKKKDLHHSRGDEKAQG...</td>\n      <td>7.0</td>\n      <td>doi.org/10.1038/s41592-020-0801-4</td>\n      <td>51.8</td>\n    </tr>\n    <tr>\n      <th>25483</th>\n      <td>31386</td>\n      <td>YYNDQHRLSSYSVETAMFLSWERAIVKPGAMFKKAVIGFNCNVDLI...</td>\n      <td>7.0</td>\n      <td>doi.org/10.1038/s41592-020-0801-4</td>\n      <td>37.2</td>\n    </tr>\n    <tr>\n      <th>25484</th>\n      <td>31387</td>\n      <td>YYQRTLGAELLYKISFGEMPKSAQDSAENCPSGMQFPDTAIAHANV...</td>\n      <td>7.0</td>\n      <td>doi.org/10.1038/s41592-020-0801-4</td>\n      <td>64.6</td>\n    </tr>\n    <tr>\n      <th>25485</th>\n      <td>31388</td>\n      <td>YYSFSDNITTVFLSRQAIDDDHSLSLGTISDVVESENGVVAADDAR...</td>\n      <td>7.0</td>\n      <td>doi.org/10.1038/s41592-020-0801-4</td>\n      <td>50.7</td>\n    </tr>\n    <tr>\n      <th>25486</th>\n      <td>31389</td>\n      <td>YYVPDEYWQSLEVAHKLTFGYGYLTWEWVQGIRSYVYPLLIAGLYK...</td>\n      <td>7.0</td>\n      <td>doi.org/10.1038/s41592-020-0801-4</td>\n      <td>37.6</td>\n    </tr>\n  </tbody>\n</table>\n<p>25487 rows × 5 columns</p>\n</div>"
     },
     "execution_count": 10,
     "metadata": {},
     "output_type": "execute_result"
    }
   ],
   "source": [
    "# Reset indexes\n",
    "train_cut.reset_index(drop=True, inplace=True)\n",
    "train_cut"
   ],
   "metadata": {
    "collapsed": false
   }
  },
  {
   "cell_type": "markdown",
   "source": [
    "Verificaram-se os parâmetros estatísticos para as colunas pH e tm. Analisando cada coluna observou-se que os valores médios e medianos são semelhates, que se elimanaram todos os valores omissos e que a distribuição nas duas colunas é relativamente uniforme (baixo skewness)."
   ],
   "metadata": {
    "collapsed": false
   }
  },
  {
   "cell_type": "code",
   "execution_count": 11,
   "outputs": [
    {
     "data": {
      "text/plain": "                 pH            tm\ncount  25487.000000  25487.000000\nmean       6.903579     51.436933\nstd        0.752407     12.190382\nmin        1.990000      0.000000\n25%        7.000000     43.650000\n50%        7.000000     48.700000\n75%        7.000000     54.500000\nmax       11.000000    130.000000",
      "text/html": "<div>\n<style scoped>\n    .dataframe tbody tr th:only-of-type {\n        vertical-align: middle;\n    }\n\n    .dataframe tbody tr th {\n        vertical-align: top;\n    }\n\n    .dataframe thead th {\n        text-align: right;\n    }\n</style>\n<table border=\"1\" class=\"dataframe\">\n  <thead>\n    <tr style=\"text-align: right;\">\n      <th></th>\n      <th>pH</th>\n      <th>tm</th>\n    </tr>\n  </thead>\n  <tbody>\n    <tr>\n      <th>count</th>\n      <td>25487.000000</td>\n      <td>25487.000000</td>\n    </tr>\n    <tr>\n      <th>mean</th>\n      <td>6.903579</td>\n      <td>51.436933</td>\n    </tr>\n    <tr>\n      <th>std</th>\n      <td>0.752407</td>\n      <td>12.190382</td>\n    </tr>\n    <tr>\n      <th>min</th>\n      <td>1.990000</td>\n      <td>0.000000</td>\n    </tr>\n    <tr>\n      <th>25%</th>\n      <td>7.000000</td>\n      <td>43.650000</td>\n    </tr>\n    <tr>\n      <th>50%</th>\n      <td>7.000000</td>\n      <td>48.700000</td>\n    </tr>\n    <tr>\n      <th>75%</th>\n      <td>7.000000</td>\n      <td>54.500000</td>\n    </tr>\n    <tr>\n      <th>max</th>\n      <td>11.000000</td>\n      <td>130.000000</td>\n    </tr>\n  </tbody>\n</table>\n</div>"
     },
     "execution_count": 11,
     "metadata": {},
     "output_type": "execute_result"
    }
   ],
   "source": [
    "train_cut.describe().loc[:,[\"pH\",\"tm\"]]"
   ],
   "metadata": {
    "collapsed": false
   }
  },
  {
   "cell_type": "markdown",
   "source": [
    "# Feature extraction"
   ],
   "metadata": {
    "collapsed": false
   }
  },
  {
   "cell_type": "markdown",
   "source": [
    "Seguimos com o passo da extração de features, com a esperança de obter um conjunto de descritores correlacionados com a variável dependente (termostabilidade), capazes de a prever com algoritmos adequados.\n",
    "\n",
    "Para isto, utilizámos funções do BioPython e ProPy:"
   ],
   "metadata": {
    "collapsed": false
   }
  },
  {
   "cell_type": "code",
   "execution_count": 12,
   "outputs": [],
   "source": [
    "#!pip install propy3\n",
    "#!conda install propy3"
   ],
   "metadata": {
    "collapsed": false
   }
  },
  {
   "cell_type": "code",
   "execution_count": 2,
   "outputs": [],
   "source": [
    "from Bio.SeqUtils.ProtParam import ProteinAnalysis\n",
    "from propy.PyPro import GetProDes"
   ],
   "metadata": {
    "collapsed": false
   }
  },
  {
   "cell_type": "markdown",
   "source": [
    "#### Descriptors\n",
    "- sequence length (1 feature) -- <b>pypro3</b> (propy.PyPro)\n",
    "- aminoacid composition (20 features) -- <b>pypro3</b> (propy.PyPro)\n",
    "- dipeptide composition (400 features) -- <b>pypro3</b> (propy.PyPro)\n",
    "- tripeptide composition (8000 features) -- <b>pypro3</b> (propy.PyPro)\n",
    "- ctd descriptors -> composition, transition, distribution (147 features) -- <b>pypro3</b> (propy.PyPro)\n",
    "- molecular weight (1 feature) -- <b>Biopython</b> (Bio.SeqUtils.ProtParam)\n",
    "- aromaticity (1 feature) -- <b>Biopython</b> (Bio.SeqUtils.ProtParam)\n",
    "- instability index (1 feature) -- <b>Biopython</b> (Bio.SeqUtils.ProtParam)\n",
    "- isoelectric point (1 feature) -- <b>Biopython</b> (Bio.SeqUtils.ProtParam)\n",
    "- secondary structure fraction -> helix, turn, sheet (3 features) -- <b>Biopython</b> (Bio.SeqUtils.ProtParam)\n",
    "- molar extinction coefficient -> reduced, oxidized (2 features) -- <b>Biopython</b> (Bio.SeqUtils.ProtParam)\n",
    "- geary autocorrelation descriptors (240 features) -- <b>pypro3</b> (propy.PyPro)\n",
    "- moran autocorrelation descriptors (240 features) -- <b>pypro3</b> (propy.PyPro)\n",
    "- normalized moreau-broto autocorrelation descriptors (240 features) -- <b>pypro3</b> (propy.PyPro)<br><br>\n",
    "\n",
    "- Total number of features: <b>9297</b>\n",
    "\n",
    "\n",
    "Extraímos inicialmente o tamanho de cada sequência (**'sequence length´**), seguido pela sua composição de aminoácidos individuais (**'aminoacid composition'**), e todos os dipéptidos ('dipeptide composition') e tripéptidos possíveis (**'tripeptide composition'**).\n",
    "\n",
    "**'ctd descriptors'** são um conjunto de descritores relativamente às propriedades dos aminoácidos, como hidrofobicidade, polaridade, carga, etc. Para cada propriedade, os aminoácidos de cada proteína são agrupadas numa de 3 grupos, sendo calculadas a composição (percentagem de aminoácidos), transição (percentagem de transições de um grupo para outro), e distribuição (índices de cada categoria ao longo da sequência presentes em cada quartil são devolvidos e divididos pelo número total dessa categoria presente na sequência).\n",
    "\n",
    "Seguem-se o peso molecular de cada proteína (**'molecular weight'**), frequência relativa de aminoácidos aromáticos (Phe, Trp e Tyr) (**'aromaticity'**), valor indicativo da instabilidade da proteína, onde valores altos significam proteínas mais instáveis (**'instability index'**), e o pH onde a carga global da proteína é neutra (**'isoelectric point'**).\n",
    "\n",
    "**'secondary structure fraction'** refere-se à fração de aminoácidos na sequência que costumam estar presentes em hélices, 'turns' ou folhas. **'molar extinction coefficiente´** é uma medida do quão forte uma espécie química absorve luz numa dada onda de luz (considera cisteínas e pontes dissulfito).\n",
    "\n",
    "Por fim, **'greary autocorrelation'**, **'moran autocorrelation'** e **'normalized moreau_broto autocorrelation'** são diferentes cálculos da distribuição espacial de um conjunto de descritores estruturais e fisioquímicos.\n",
    "\n",
    "Para extrair estes descritores, foram criadas funções auxiliares para devolver os resultados em forma de dicionário. Desta forma é mais simples posteriormente juntar os resultados para criar um novo DataFrame do pandas.\n"
   ],
   "metadata": {
    "collapsed": false
   }
  },
  {
   "cell_type": "markdown",
   "source": [
    "#### Compute descriptors"
   ],
   "metadata": {
    "collapsed": false
   }
  },
  {
   "cell_type": "code",
   "execution_count": 14,
   "outputs": [],
   "source": [
    "# sequence lenght (1 feature)\n",
    "def get_length(protein: str) -> dict:\n",
    "    return {\"SeqLength\": len(protein)}"
   ],
   "metadata": {
    "collapsed": false
   }
  },
  {
   "cell_type": "code",
   "execution_count": 15,
   "outputs": [],
   "source": [
    "# aminoacid composition (20 features)\n",
    "def get_aminoacid_composition(protein: str) -> dict:\n",
    "    return GetProDes(protein).GetAAComp()"
   ],
   "metadata": {
    "collapsed": false
   }
  },
  {
   "cell_type": "code",
   "execution_count": 16,
   "outputs": [],
   "source": [
    "# dipeptide composition (400 features)\n",
    "def get_dipeptide_composition(protein: str) -> dict:\n",
    "    return GetProDes(protein).GetDPComp()"
   ],
   "metadata": {
    "collapsed": false
   }
  },
  {
   "cell_type": "code",
   "execution_count": 17,
   "id": "d5968555-c1ff-475f-9c1a-c00ff0785e05",
   "metadata": {},
   "outputs": [],
   "source": [
    "# tripeptide composition (8000 features)\n",
    "def get_tripeptide_composition(protein: str) -> dict:\n",
    "    return GetProDes(protein).GetTPComp()"
   ]
  },
  {
   "cell_type": "code",
   "execution_count": 18,
   "id": "1f44c015-7d97-4f52-aa64-056e5e98cf5c",
   "metadata": {},
   "outputs": [],
   "source": [
    "# ctd descriptors (147 features)\n",
    "def get_ctd_descriptors(protein: str) -> dict:\n",
    "    return GetProDes(protein).GetCTD()"
   ]
  },
  {
   "cell_type": "code",
   "execution_count": 19,
   "id": "23203487-26a2-49f9-bca4-54cd397d4d90",
   "metadata": {},
   "outputs": [],
   "source": [
    "# molecular weight (1 feature)\n",
    "def get_molecular_weight(protein: str) -> dict:\n",
    "    X = ProteinAnalysis(protein)\n",
    "    return {\"MolecularWeight\": X.molecular_weight()}"
   ]
  },
  {
   "cell_type": "code",
   "execution_count": 20,
   "id": "a54efc8f-0d80-489c-b4be-6a1baed7499e",
   "metadata": {},
   "outputs": [],
   "source": [
    "# aromaticity (1 feature)\n",
    "def get_aromaticity(protein: str) -> dict:\n",
    "    X = ProteinAnalysis(protein)\n",
    "    return {\"Aromaticity\": X.aromaticity()}"
   ]
  },
  {
   "cell_type": "code",
   "execution_count": 21,
   "id": "50fa4b4d-c397-441e-843c-c8da14e6ff49",
   "metadata": {},
   "outputs": [],
   "source": [
    "# instability index (1 feature)\n",
    "def get_instability_index(protein: str) -> dict:\n",
    "    X = ProteinAnalysis(protein)\n",
    "    return {\"InstabilityIndex\": X.instability_index()}"
   ]
  },
  {
   "cell_type": "code",
   "execution_count": 22,
   "id": "200c064b-585b-40d7-b8e9-cdc01e3e2284",
   "metadata": {},
   "outputs": [],
   "source": [
    "# isoelectric point (1 feature)\n",
    "def get_isoelectric_point(protein: str) -> dict:\n",
    "    X = ProteinAnalysis(protein)\n",
    "    return {\"IsoelectricPoint\": X.isoelectric_point()}"
   ]
  },
  {
   "cell_type": "code",
   "execution_count": 23,
   "id": "97d38b6b-796b-4eea-8e1a-dfdd71627c1c",
   "metadata": {},
   "outputs": [],
   "source": [
    "# secondary structure fraction (3 features)\n",
    "def get_secondary_structure_fraction(protein: str) -> dict:\n",
    "    X = ProteinAnalysis(protein)\n",
    "    helix, turn, sheet = X.secondary_structure_fraction()\n",
    "    return {\"HelixSSF\": helix, \"TurnSSF\": turn, \"SheetSSF\": sheet}"
   ]
  },
  {
   "cell_type": "code",
   "execution_count": 24,
   "id": "25b3da4b-cda1-4c3a-9dbb-5e9fc6ec2eed",
   "metadata": {},
   "outputs": [],
   "source": [
    "# molar extinction coefficient (2 features)\n",
    "def get_molar_extinction_coefficient(protein: str) -> dict:\n",
    "    X = ProteinAnalysis(protein)\n",
    "    reduced, oxidized = X.molar_extinction_coefficient()\n",
    "    return {\"ReducedMEC\": reduced, \"OxidizedMEC\": oxidized}"
   ]
  },
  {
   "cell_type": "code",
   "execution_count": 25,
   "id": "db2afdd6-0485-446a-becd-96cfde5cc2c1",
   "metadata": {},
   "outputs": [],
   "source": [
    "# geary autocorrelation descriptors (240 features)\n",
    "def get_geary_autocorrelation_descriptors(protein: str) -> dict:\n",
    "    return GetProDes(protein).GetGearyAuto()"
   ]
  },
  {
   "cell_type": "code",
   "execution_count": 26,
   "id": "d096e273-28de-4131-974b-9cc80054dd9d",
   "metadata": {},
   "outputs": [],
   "source": [
    "# moran autocorrelation descriptors (240 features)\n",
    "def get_moran_autocorrelation_descriptors(protein: str) -> dict:\n",
    "    return GetProDes(protein).GetMoranAuto()"
   ]
  },
  {
   "cell_type": "code",
   "execution_count": 27,
   "id": "7a870587-2594-4f67-9978-ae0757736821",
   "metadata": {},
   "outputs": [],
   "source": [
    "# moreau-broto autocorrelation descriptors (240 features)\n",
    "def get_moreau_broto_autocorrelation_descriptors(protein: str) -> dict:\n",
    "    return GetProDes(protein).GetMoreauBrotoAuto()"
   ]
  },
  {
   "cell_type": "markdown",
   "id": "c4196419-2b2d-4127-bcb6-56074c9bf253",
   "metadata": {},
   "source": [
    "#### Compute descriptors for all sequences"
   ]
  },
  {
   "cell_type": "code",
   "execution_count": 48,
   "outputs": [
    {
     "data": {
      "text/plain": "   seq_id                                   protein_sequence   pH  \\\n0      25  AAPDEITTAWPVNVGPLNPHLYTPNQMFAQSMVYEPLVKYQADGSV...  7.0   \n1      28  AARRFSGPRNQRQQGGGDPGLMHGKTVLITGANSGLGRATAAELLR...  7.0   \n2      29  AASSPEADFVKKTISSHKIVIFSKSYCPYCKKAKSVFRELDQVPYV...  7.0   \n3      30  AATFAYSQSQKRSSSSPGGGSNHGWNNWGKAAALASTTPLVHVASV...  5.5   \n4      33  AAVLVTFIGGLYFITHHKKEESETLQSQKVTGNGLPPKPEERWRYI...  7.0   \n\n                         data_source    tm  \n0  doi.org/10.1038/s41592-020-0801-4  48.4  \n1  doi.org/10.1038/s41592-020-0801-4  48.4  \n2  doi.org/10.1038/s41592-020-0801-4  49.0  \n3  doi.org/10.1038/s41592-020-0801-4  55.6  \n4  doi.org/10.1038/s41592-020-0801-4  48.4  ",
      "text/html": "<div>\n<style scoped>\n    .dataframe tbody tr th:only-of-type {\n        vertical-align: middle;\n    }\n\n    .dataframe tbody tr th {\n        vertical-align: top;\n    }\n\n    .dataframe thead th {\n        text-align: right;\n    }\n</style>\n<table border=\"1\" class=\"dataframe\">\n  <thead>\n    <tr style=\"text-align: right;\">\n      <th></th>\n      <th>seq_id</th>\n      <th>protein_sequence</th>\n      <th>pH</th>\n      <th>data_source</th>\n      <th>tm</th>\n    </tr>\n  </thead>\n  <tbody>\n    <tr>\n      <th>0</th>\n      <td>25</td>\n      <td>AAPDEITTAWPVNVGPLNPHLYTPNQMFAQSMVYEPLVKYQADGSV...</td>\n      <td>7.0</td>\n      <td>doi.org/10.1038/s41592-020-0801-4</td>\n      <td>48.4</td>\n    </tr>\n    <tr>\n      <th>1</th>\n      <td>28</td>\n      <td>AARRFSGPRNQRQQGGGDPGLMHGKTVLITGANSGLGRATAAELLR...</td>\n      <td>7.0</td>\n      <td>doi.org/10.1038/s41592-020-0801-4</td>\n      <td>48.4</td>\n    </tr>\n    <tr>\n      <th>2</th>\n      <td>29</td>\n      <td>AASSPEADFVKKTISSHKIVIFSKSYCPYCKKAKSVFRELDQVPYV...</td>\n      <td>7.0</td>\n      <td>doi.org/10.1038/s41592-020-0801-4</td>\n      <td>49.0</td>\n    </tr>\n    <tr>\n      <th>3</th>\n      <td>30</td>\n      <td>AATFAYSQSQKRSSSSPGGGSNHGWNNWGKAAALASTTPLVHVASV...</td>\n      <td>5.5</td>\n      <td>doi.org/10.1038/s41592-020-0801-4</td>\n      <td>55.6</td>\n    </tr>\n    <tr>\n      <th>4</th>\n      <td>33</td>\n      <td>AAVLVTFIGGLYFITHHKKEESETLQSQKVTGNGLPPKPEERWRYI...</td>\n      <td>7.0</td>\n      <td>doi.org/10.1038/s41592-020-0801-4</td>\n      <td>48.4</td>\n    </tr>\n  </tbody>\n</table>\n</div>"
     },
     "execution_count": 48,
     "metadata": {},
     "output_type": "execute_result"
    }
   ],
   "source": [
    "train_cut.head()"
   ],
   "metadata": {
    "collapsed": false
   }
  },
  {
   "cell_type": "markdown",
   "source": [
    "Criámos uma função que junta as funções anteriores todas, de forma a criar um novo dataset, juntando os descritores do dataset original (nomeadamente o 'pH' e 'tm') com os novos descritores inferidos a partir de cada sequência do dataset ('protein_sequence').\n",
    "\n",
    "Uma vez que este processo demora bastante a correr, utilizámos a função 'tqdm' para visualizar o progresso da extração."
   ],
   "metadata": {
    "collapsed": false
   }
  },
  {
   "cell_type": "code",
   "execution_count": 28,
   "id": "ba67e06b-599b-4177-a11b-22d40a9106c7",
   "metadata": {},
   "outputs": [],
   "source": [
    "from tqdm.notebook import tqdm"
   ]
  },
  {
   "cell_type": "code",
   "execution_count": 29,
   "id": "53756ad5-cda8-45b0-974e-8e705480c49e",
   "metadata": {},
   "outputs": [],
   "source": [
    "# compute all descriptors (9297 features)\n",
    "def get_dataset_with_features(dataset: pd.DataFrame) -> pd.DataFrame:\n",
    "    # get protein sequences from dataset and initialize an empty protein_features list\n",
    "    proteins = np.array(dataset.protein_sequence, dtype=\"str\")\n",
    "    protein_features = []\n",
    "    for protein in tqdm(proteins):\n",
    "        # compute features for each protein\n",
    "        length = get_length(protein)\n",
    "        aa_comp = get_aminoacid_composition(protein)\n",
    "        dp_comp = get_dipeptide_composition(protein)\n",
    "        tp_comp = get_tripeptide_composition(protein)\n",
    "        ctd = get_ctd_descriptors(protein)\n",
    "        mw = get_molecular_weight(protein)\n",
    "        arom = get_aromaticity(protein)\n",
    "        ii = get_instability_index(protein)\n",
    "        iso_p = get_isoelectric_point(protein)\n",
    "        ssf = get_secondary_structure_fraction(protein)\n",
    "        mec = get_molar_extinction_coefficient(protein)\n",
    "        geary = get_geary_autocorrelation_descriptors(protein)\n",
    "        moran = get_moran_autocorrelation_descriptors(protein)\n",
    "        moreau_broto = get_moreau_broto_autocorrelation_descriptors(protein)\n",
    "        # merge dictionaries and add result to protein_features\n",
    "        features = dict(length, **aa_comp, **dp_comp, **tp_comp,  **ctd, **mw, **arom, **ii, **iso_p, **ssf, **mec,\n",
    "                        **geary, **moran, **moreau_broto)\n",
    "        protein_features.append(features)\n",
    "    # return pandas DataFrame with results\n",
    "    features_df = pd.DataFrame(protein_features)\n",
    "    features_df.insert(0, \"seq_id\", dataset.seq_id)\n",
    "    return pd.concat([features_df, dataset.loc[:,[\"pH\",\"tm\"]]], axis=1) #Removeu-se, 'protein_sequence', e 'data_source'"
   ]
  },
  {
   "cell_type": "code",
   "execution_count": 30,
   "id": "52c95307-4645-4e0a-9089-30afc091a7de",
   "metadata": {
    "collapsed": true,
    "jupyter": {
     "outputs_hidden": true
    },
    "tags": []
   },
   "outputs": [
    {
     "data": {
      "text/plain": "  0%|          | 0/25487 [00:00<?, ?it/s]",
      "application/vnd.jupyter.widget-view+json": {
       "version_major": 2,
       "version_minor": 0,
       "model_id": "6d7a767a2b3341549779536df3d8ae4f"
      }
     },
     "metadata": {},
     "output_type": "display_data"
    },
    {
     "data": {
      "text/plain": "       seq_id  SeqLength       A      R      N      D      C      E       Q  \\\n0          25        501  10.379  4.192  4.591  5.589  0.000  6.387   5.389   \n1          28        313   7.987  7.668  4.473  3.834  2.236  7.029   3.834   \n2          29        109   7.339  3.670  1.835  6.422  1.835  9.174   2.752   \n3          30        329   7.295  3.343  6.991  7.599  0.304  6.079   3.343   \n4          33        278  10.432  7.554  2.878  2.158  0.719  8.273  15.108   \n...       ...        ...     ...    ...    ...    ...    ...    ...     ...   \n25482   31385        549   6.011  7.650  4.372  6.922  2.186  5.647   4.372   \n25483   31386        469   7.889  5.330  4.051  4.478  1.066  6.183   3.412   \n25484   31387        128  10.156  2.344  3.906  5.469  0.781  5.469   6.250   \n25485   31388        593   7.926  4.216  4.216  5.734  0.843  6.071   2.024   \n25486   31389        537   6.331  5.214  3.724  2.793  0.931  5.959   3.352   \n\n           G  ...  MoreauBrotoAuto_Mutability23  MoreauBrotoAuto_Mutability24  \\\n0      4.990  ...                        -0.058                        -0.057   \n1      9.904  ...                         0.019                         0.017   \n2      8.257  ...                         0.087                         0.079   \n3      8.815  ...                         0.074                         0.077   \n4      5.396  ...                         0.057                         0.051   \n...      ...  ...                           ...                           ...   \n25482  9.290  ...                        -0.006                        -0.004   \n25483  5.757  ...                        -0.049                        -0.048   \n25484  8.594  ...                         0.098                         0.097   \n25485  8.769  ...                         0.030                         0.029   \n25486  4.469  ...                         0.063                         0.063   \n\n       MoreauBrotoAuto_Mutability25  MoreauBrotoAuto_Mutability26  \\\n0                            -0.058                        -0.056   \n1                             0.014                         0.017   \n2                             0.068                         0.051   \n3                             0.074                         0.073   \n4                             0.053                         0.052   \n...                             ...                           ...   \n25482                        -0.003                        -0.002   \n25483                        -0.048                        -0.048   \n25484                         0.100                         0.115   \n25485                         0.029                         0.030   \n25486                         0.064                         0.065   \n\n       MoreauBrotoAuto_Mutability27  MoreauBrotoAuto_Mutability28  \\\n0                            -0.056                        -0.056   \n1                             0.014                         0.012   \n2                             0.065                         0.059   \n3                             0.074                         0.078   \n4                             0.050                         0.050   \n...                             ...                           ...   \n25482                        -0.003                        -0.002   \n25483                        -0.048                        -0.046   \n25484                         0.099                         0.107   \n25485                         0.030                         0.030   \n25486                         0.067                         0.064   \n\n       MoreauBrotoAuto_Mutability29  MoreauBrotoAuto_Mutability30  \\\n0                            -0.056                        -0.057   \n1                             0.013                         0.010   \n2                             0.050                         0.048   \n3                             0.081                         0.082   \n4                             0.051                         0.049   \n...                             ...                           ...   \n25482                        -0.002                        -0.005   \n25483                        -0.044                        -0.046   \n25484                         0.102                         0.097   \n25485                         0.030                         0.031   \n25486                         0.066                         0.065   \n\n                             data_source    tm  \n0      doi.org/10.1038/s41592-020-0801-4  48.4  \n1      doi.org/10.1038/s41592-020-0801-4  48.4  \n2      doi.org/10.1038/s41592-020-0801-4  49.0  \n3      doi.org/10.1038/s41592-020-0801-4  55.6  \n4      doi.org/10.1038/s41592-020-0801-4  48.4  \n...                                  ...   ...  \n25482  doi.org/10.1038/s41592-020-0801-4  51.8  \n25483  doi.org/10.1038/s41592-020-0801-4  37.2  \n25484  doi.org/10.1038/s41592-020-0801-4  64.6  \n25485  doi.org/10.1038/s41592-020-0801-4  50.7  \n25486  doi.org/10.1038/s41592-020-0801-4  37.6  \n\n[25487 rows x 900 columns]",
      "text/html": "<div>\n<style scoped>\n    .dataframe tbody tr th:only-of-type {\n        vertical-align: middle;\n    }\n\n    .dataframe tbody tr th {\n        vertical-align: top;\n    }\n\n    .dataframe thead th {\n        text-align: right;\n    }\n</style>\n<table border=\"1\" class=\"dataframe\">\n  <thead>\n    <tr style=\"text-align: right;\">\n      <th></th>\n      <th>seq_id</th>\n      <th>SeqLength</th>\n      <th>A</th>\n      <th>R</th>\n      <th>N</th>\n      <th>D</th>\n      <th>C</th>\n      <th>E</th>\n      <th>Q</th>\n      <th>G</th>\n      <th>...</th>\n      <th>MoreauBrotoAuto_Mutability23</th>\n      <th>MoreauBrotoAuto_Mutability24</th>\n      <th>MoreauBrotoAuto_Mutability25</th>\n      <th>MoreauBrotoAuto_Mutability26</th>\n      <th>MoreauBrotoAuto_Mutability27</th>\n      <th>MoreauBrotoAuto_Mutability28</th>\n      <th>MoreauBrotoAuto_Mutability29</th>\n      <th>MoreauBrotoAuto_Mutability30</th>\n      <th>data_source</th>\n      <th>tm</th>\n    </tr>\n  </thead>\n  <tbody>\n    <tr>\n      <th>0</th>\n      <td>25</td>\n      <td>501</td>\n      <td>10.379</td>\n      <td>4.192</td>\n      <td>4.591</td>\n      <td>5.589</td>\n      <td>0.000</td>\n      <td>6.387</td>\n      <td>5.389</td>\n      <td>4.990</td>\n      <td>...</td>\n      <td>-0.058</td>\n      <td>-0.057</td>\n      <td>-0.058</td>\n      <td>-0.056</td>\n      <td>-0.056</td>\n      <td>-0.056</td>\n      <td>-0.056</td>\n      <td>-0.057</td>\n      <td>doi.org/10.1038/s41592-020-0801-4</td>\n      <td>48.4</td>\n    </tr>\n    <tr>\n      <th>1</th>\n      <td>28</td>\n      <td>313</td>\n      <td>7.987</td>\n      <td>7.668</td>\n      <td>4.473</td>\n      <td>3.834</td>\n      <td>2.236</td>\n      <td>7.029</td>\n      <td>3.834</td>\n      <td>9.904</td>\n      <td>...</td>\n      <td>0.019</td>\n      <td>0.017</td>\n      <td>0.014</td>\n      <td>0.017</td>\n      <td>0.014</td>\n      <td>0.012</td>\n      <td>0.013</td>\n      <td>0.010</td>\n      <td>doi.org/10.1038/s41592-020-0801-4</td>\n      <td>48.4</td>\n    </tr>\n    <tr>\n      <th>2</th>\n      <td>29</td>\n      <td>109</td>\n      <td>7.339</td>\n      <td>3.670</td>\n      <td>1.835</td>\n      <td>6.422</td>\n      <td>1.835</td>\n      <td>9.174</td>\n      <td>2.752</td>\n      <td>8.257</td>\n      <td>...</td>\n      <td>0.087</td>\n      <td>0.079</td>\n      <td>0.068</td>\n      <td>0.051</td>\n      <td>0.065</td>\n      <td>0.059</td>\n      <td>0.050</td>\n      <td>0.048</td>\n      <td>doi.org/10.1038/s41592-020-0801-4</td>\n      <td>49.0</td>\n    </tr>\n    <tr>\n      <th>3</th>\n      <td>30</td>\n      <td>329</td>\n      <td>7.295</td>\n      <td>3.343</td>\n      <td>6.991</td>\n      <td>7.599</td>\n      <td>0.304</td>\n      <td>6.079</td>\n      <td>3.343</td>\n      <td>8.815</td>\n      <td>...</td>\n      <td>0.074</td>\n      <td>0.077</td>\n      <td>0.074</td>\n      <td>0.073</td>\n      <td>0.074</td>\n      <td>0.078</td>\n      <td>0.081</td>\n      <td>0.082</td>\n      <td>doi.org/10.1038/s41592-020-0801-4</td>\n      <td>55.6</td>\n    </tr>\n    <tr>\n      <th>4</th>\n      <td>33</td>\n      <td>278</td>\n      <td>10.432</td>\n      <td>7.554</td>\n      <td>2.878</td>\n      <td>2.158</td>\n      <td>0.719</td>\n      <td>8.273</td>\n      <td>15.108</td>\n      <td>5.396</td>\n      <td>...</td>\n      <td>0.057</td>\n      <td>0.051</td>\n      <td>0.053</td>\n      <td>0.052</td>\n      <td>0.050</td>\n      <td>0.050</td>\n      <td>0.051</td>\n      <td>0.049</td>\n      <td>doi.org/10.1038/s41592-020-0801-4</td>\n      <td>48.4</td>\n    </tr>\n    <tr>\n      <th>...</th>\n      <td>...</td>\n      <td>...</td>\n      <td>...</td>\n      <td>...</td>\n      <td>...</td>\n      <td>...</td>\n      <td>...</td>\n      <td>...</td>\n      <td>...</td>\n      <td>...</td>\n      <td>...</td>\n      <td>...</td>\n      <td>...</td>\n      <td>...</td>\n      <td>...</td>\n      <td>...</td>\n      <td>...</td>\n      <td>...</td>\n      <td>...</td>\n      <td>...</td>\n      <td>...</td>\n    </tr>\n    <tr>\n      <th>25482</th>\n      <td>31385</td>\n      <td>549</td>\n      <td>6.011</td>\n      <td>7.650</td>\n      <td>4.372</td>\n      <td>6.922</td>\n      <td>2.186</td>\n      <td>5.647</td>\n      <td>4.372</td>\n      <td>9.290</td>\n      <td>...</td>\n      <td>-0.006</td>\n      <td>-0.004</td>\n      <td>-0.003</td>\n      <td>-0.002</td>\n      <td>-0.003</td>\n      <td>-0.002</td>\n      <td>-0.002</td>\n      <td>-0.005</td>\n      <td>doi.org/10.1038/s41592-020-0801-4</td>\n      <td>51.8</td>\n    </tr>\n    <tr>\n      <th>25483</th>\n      <td>31386</td>\n      <td>469</td>\n      <td>7.889</td>\n      <td>5.330</td>\n      <td>4.051</td>\n      <td>4.478</td>\n      <td>1.066</td>\n      <td>6.183</td>\n      <td>3.412</td>\n      <td>5.757</td>\n      <td>...</td>\n      <td>-0.049</td>\n      <td>-0.048</td>\n      <td>-0.048</td>\n      <td>-0.048</td>\n      <td>-0.048</td>\n      <td>-0.046</td>\n      <td>-0.044</td>\n      <td>-0.046</td>\n      <td>doi.org/10.1038/s41592-020-0801-4</td>\n      <td>37.2</td>\n    </tr>\n    <tr>\n      <th>25484</th>\n      <td>31387</td>\n      <td>128</td>\n      <td>10.156</td>\n      <td>2.344</td>\n      <td>3.906</td>\n      <td>5.469</td>\n      <td>0.781</td>\n      <td>5.469</td>\n      <td>6.250</td>\n      <td>8.594</td>\n      <td>...</td>\n      <td>0.098</td>\n      <td>0.097</td>\n      <td>0.100</td>\n      <td>0.115</td>\n      <td>0.099</td>\n      <td>0.107</td>\n      <td>0.102</td>\n      <td>0.097</td>\n      <td>doi.org/10.1038/s41592-020-0801-4</td>\n      <td>64.6</td>\n    </tr>\n    <tr>\n      <th>25485</th>\n      <td>31388</td>\n      <td>593</td>\n      <td>7.926</td>\n      <td>4.216</td>\n      <td>4.216</td>\n      <td>5.734</td>\n      <td>0.843</td>\n      <td>6.071</td>\n      <td>2.024</td>\n      <td>8.769</td>\n      <td>...</td>\n      <td>0.030</td>\n      <td>0.029</td>\n      <td>0.029</td>\n      <td>0.030</td>\n      <td>0.030</td>\n      <td>0.030</td>\n      <td>0.030</td>\n      <td>0.031</td>\n      <td>doi.org/10.1038/s41592-020-0801-4</td>\n      <td>50.7</td>\n    </tr>\n    <tr>\n      <th>25486</th>\n      <td>31389</td>\n      <td>537</td>\n      <td>6.331</td>\n      <td>5.214</td>\n      <td>3.724</td>\n      <td>2.793</td>\n      <td>0.931</td>\n      <td>5.959</td>\n      <td>3.352</td>\n      <td>4.469</td>\n      <td>...</td>\n      <td>0.063</td>\n      <td>0.063</td>\n      <td>0.064</td>\n      <td>0.065</td>\n      <td>0.067</td>\n      <td>0.064</td>\n      <td>0.066</td>\n      <td>0.065</td>\n      <td>doi.org/10.1038/s41592-020-0801-4</td>\n      <td>37.6</td>\n    </tr>\n  </tbody>\n</table>\n<p>25487 rows × 900 columns</p>\n</div>"
     },
     "execution_count": 30,
     "metadata": {},
     "output_type": "execute_result"
    }
   ],
   "source": [
    "train = get_dataset_with_features(train_cut)\n",
    "train"
   ]
  },
  {
   "cell_type": "markdown",
   "source": [
    "Para facilitar o processo de recolha dos descritores, guardou-se os resultados num ficheiro csv para ser mais prático e rápido recolher a informação sempre que se corre este notebook."
   ],
   "metadata": {
    "collapsed": false
   }
  },
  {
   "cell_type": "code",
   "execution_count": 3,
   "id": "6b920449-1c7c-4607-914d-29f7a56713df",
   "metadata": {},
   "outputs": [
    {
     "ename": "NameError",
     "evalue": "name 'train' is not defined",
     "output_type": "error",
     "traceback": [
      "\u001B[1;31m---------------------------------------------------------------------------\u001B[0m",
      "\u001B[1;31mNameError\u001B[0m                                 Traceback (most recent call last)",
      "\u001B[1;32m<ipython-input-3-048cec40ba11>\u001B[0m in \u001B[0;36m<module>\u001B[1;34m\u001B[0m\n\u001B[0;32m      1\u001B[0m \u001B[1;31m# export data_train to csv\u001B[0m\u001B[1;33m\u001B[0m\u001B[1;33m\u001B[0m\u001B[1;33m\u001B[0m\u001B[0m\n\u001B[1;32m----> 2\u001B[1;33m \u001B[0mtrain\u001B[0m\u001B[1;33m.\u001B[0m\u001B[0mto_csv\u001B[0m\u001B[1;33m(\u001B[0m\u001B[1;34m\"data_train.csv\"\u001B[0m\u001B[1;33m)\u001B[0m\u001B[1;33m\u001B[0m\u001B[1;33m\u001B[0m\u001B[0m\n\u001B[0m",
      "\u001B[1;31mNameError\u001B[0m: name 'train' is not defined"
     ]
    }
   ],
   "source": [
    "# export data_train to csv\n",
    "train.to_csv(\"data_train.csv\")"
   ]
  },
  {
   "cell_type": "markdown",
   "source": [
    "Todos os passos efetuados anteriormente podem ser saltados, sendo possível correr 'de novo' o notebook a partir deste ponto."
   ],
   "metadata": {
    "collapsed": false
   }
  },
  {
   "cell_type": "markdown",
   "id": "ac551f0e-11e3-4c6c-a9e8-b08bae94686f",
   "metadata": {},
   "source": [
    "#### Exploratory analysis"
   ]
  },
  {
   "cell_type": "code",
   "execution_count": 2,
   "id": "ba1feacc-2b9d-4cef-82e2-a162b335ef8d",
   "metadata": {},
   "outputs": [],
   "source": [
    "import matplotlib.pyplot as plt\n",
    "import scipy.stats"
   ]
  },
  {
   "cell_type": "code",
   "execution_count": 3,
   "id": "72a05c82-f719-499a-a4ff-12a4bc0360fd",
   "metadata": {},
   "outputs": [],
   "source": [
    "train = pd.read_csv(\"data_train.csv\")"
   ]
  },
  {
   "cell_type": "code",
   "execution_count": 4,
   "outputs": [
    {
     "data": {
      "text/plain": "         Unnamed: 0        seq_id     SeqLength             A             R  \\\ncount  28696.000000  28696.000000  28696.000000  28696.000000  28696.000000   \nmean   14347.500000  16805.942257    450.583775      7.933964      5.422100   \nstd     8283.965999   8351.341517    660.478906      2.826397      2.264102   \nmin        0.000000     25.000000      5.000000      0.000000      0.000000   \n25%     7173.750000   9589.750000    195.000000      5.938000      3.950750   \n50%    14347.500000  16767.500000    335.000000      7.692000      5.205000   \n75%    21521.250000  24006.250000    526.000000      9.494000      6.627000   \nmax    28695.000000  31389.000000  32767.000000     29.866000     24.540000   \n\n                  N             D             C             E             Q  \\\ncount  28696.000000  28696.000000  28696.000000  28696.000000  28696.000000   \nmean       4.263457      5.527051      1.460943      7.105625      4.064779   \nstd        1.838423      1.772346      1.322568      2.513279      1.888433   \nmin        0.000000      0.000000      0.000000      0.000000      0.000000   \n25%        3.061000      4.361000      0.637000      5.556000      2.932000   \n50%        4.110000      5.429000      1.220000      6.923000      3.823000   \n75%        5.263000      6.473000      1.935000      8.451000      5.000000   \nmax       31.990000     20.530000     16.071000     24.658000     24.346000   \n\n       ...  MoreauBrotoAuto_Mutability23  MoreauBrotoAuto_Mutability24  \\\ncount  ...                  28696.000000                  28696.000000   \nmean   ...                      0.021212                      0.020981   \nstd    ...                      0.067654                      0.069089   \nmin    ...                     -0.959000                     -2.066000   \n25%    ...                     -0.020000                     -0.020000   \n50%    ...                      0.019000                      0.019000   \n75%    ...                      0.062000                      0.062000   \nmax    ...                      0.644000                      0.641000   \n\n       MoreauBrotoAuto_Mutability25  MoreauBrotoAuto_Mutability26  \\\ncount                  28696.000000                  28696.000000   \nmean                       0.020948                      0.021123   \nstd                        0.068423                      0.068465   \nmin                       -1.015000                     -0.362000   \n25%                       -0.020000                     -0.021000   \n50%                        0.019000                      0.019000   \n75%                        0.062000                      0.062000   \nmax                        0.638000                      0.700000   \n\n       MoreauBrotoAuto_Mutability27  MoreauBrotoAuto_Mutability28  \\\ncount                  28696.000000                  28696.000000   \nmean                       0.020842                      0.021070   \nstd                        0.069619                      0.069951   \nmin                       -0.355000                     -0.366000   \n25%                       -0.021000                     -0.021000   \n50%                        0.019000                      0.019000   \n75%                        0.061000                      0.061000   \nmax                        0.638000                      0.593000   \n\n       MoreauBrotoAuto_Mutability29  MoreauBrotoAuto_Mutability30  \\\ncount                  28696.000000                  28696.000000   \nmean                       0.020869                      0.021026   \nstd                        0.070658                      0.070678   \nmin                       -0.382000                     -0.399000   \n25%                       -0.021000                     -0.021000   \n50%                        0.019000                      0.019000   \n75%                        0.061000                      0.061000   \nmax                        0.879000                      0.855000   \n\n                 pH            tm  \ncount  28696.000000  28696.000000  \nmean       6.852437     49.079321  \nstd        1.168815     14.210971  \nmin        1.990000     -1.000000  \n25%        7.000000     41.900000  \n50%        7.000000     48.000000  \n75%        7.000000     53.800000  \nmax       64.900000    130.000000  \n\n[8 rows x 9301 columns]",
      "text/html": "<div>\n<style scoped>\n    .dataframe tbody tr th:only-of-type {\n        vertical-align: middle;\n    }\n\n    .dataframe tbody tr th {\n        vertical-align: top;\n    }\n\n    .dataframe thead th {\n        text-align: right;\n    }\n</style>\n<table border=\"1\" class=\"dataframe\">\n  <thead>\n    <tr style=\"text-align: right;\">\n      <th></th>\n      <th>Unnamed: 0</th>\n      <th>seq_id</th>\n      <th>SeqLength</th>\n      <th>A</th>\n      <th>R</th>\n      <th>N</th>\n      <th>D</th>\n      <th>C</th>\n      <th>E</th>\n      <th>Q</th>\n      <th>...</th>\n      <th>MoreauBrotoAuto_Mutability23</th>\n      <th>MoreauBrotoAuto_Mutability24</th>\n      <th>MoreauBrotoAuto_Mutability25</th>\n      <th>MoreauBrotoAuto_Mutability26</th>\n      <th>MoreauBrotoAuto_Mutability27</th>\n      <th>MoreauBrotoAuto_Mutability28</th>\n      <th>MoreauBrotoAuto_Mutability29</th>\n      <th>MoreauBrotoAuto_Mutability30</th>\n      <th>pH</th>\n      <th>tm</th>\n    </tr>\n  </thead>\n  <tbody>\n    <tr>\n      <th>count</th>\n      <td>28696.000000</td>\n      <td>28696.000000</td>\n      <td>28696.000000</td>\n      <td>28696.000000</td>\n      <td>28696.000000</td>\n      <td>28696.000000</td>\n      <td>28696.000000</td>\n      <td>28696.000000</td>\n      <td>28696.000000</td>\n      <td>28696.000000</td>\n      <td>...</td>\n      <td>28696.000000</td>\n      <td>28696.000000</td>\n      <td>28696.000000</td>\n      <td>28696.000000</td>\n      <td>28696.000000</td>\n      <td>28696.000000</td>\n      <td>28696.000000</td>\n      <td>28696.000000</td>\n      <td>28696.000000</td>\n      <td>28696.000000</td>\n    </tr>\n    <tr>\n      <th>mean</th>\n      <td>14347.500000</td>\n      <td>16805.942257</td>\n      <td>450.583775</td>\n      <td>7.933964</td>\n      <td>5.422100</td>\n      <td>4.263457</td>\n      <td>5.527051</td>\n      <td>1.460943</td>\n      <td>7.105625</td>\n      <td>4.064779</td>\n      <td>...</td>\n      <td>0.021212</td>\n      <td>0.020981</td>\n      <td>0.020948</td>\n      <td>0.021123</td>\n      <td>0.020842</td>\n      <td>0.021070</td>\n      <td>0.020869</td>\n      <td>0.021026</td>\n      <td>6.852437</td>\n      <td>49.079321</td>\n    </tr>\n    <tr>\n      <th>std</th>\n      <td>8283.965999</td>\n      <td>8351.341517</td>\n      <td>660.478906</td>\n      <td>2.826397</td>\n      <td>2.264102</td>\n      <td>1.838423</td>\n      <td>1.772346</td>\n      <td>1.322568</td>\n      <td>2.513279</td>\n      <td>1.888433</td>\n      <td>...</td>\n      <td>0.067654</td>\n      <td>0.069089</td>\n      <td>0.068423</td>\n      <td>0.068465</td>\n      <td>0.069619</td>\n      <td>0.069951</td>\n      <td>0.070658</td>\n      <td>0.070678</td>\n      <td>1.168815</td>\n      <td>14.210971</td>\n    </tr>\n    <tr>\n      <th>min</th>\n      <td>0.000000</td>\n      <td>25.000000</td>\n      <td>5.000000</td>\n      <td>0.000000</td>\n      <td>0.000000</td>\n      <td>0.000000</td>\n      <td>0.000000</td>\n      <td>0.000000</td>\n      <td>0.000000</td>\n      <td>0.000000</td>\n      <td>...</td>\n      <td>-0.959000</td>\n      <td>-2.066000</td>\n      <td>-1.015000</td>\n      <td>-0.362000</td>\n      <td>-0.355000</td>\n      <td>-0.366000</td>\n      <td>-0.382000</td>\n      <td>-0.399000</td>\n      <td>1.990000</td>\n      <td>-1.000000</td>\n    </tr>\n    <tr>\n      <th>25%</th>\n      <td>7173.750000</td>\n      <td>9589.750000</td>\n      <td>195.000000</td>\n      <td>5.938000</td>\n      <td>3.950750</td>\n      <td>3.061000</td>\n      <td>4.361000</td>\n      <td>0.637000</td>\n      <td>5.556000</td>\n      <td>2.932000</td>\n      <td>...</td>\n      <td>-0.020000</td>\n      <td>-0.020000</td>\n      <td>-0.020000</td>\n      <td>-0.021000</td>\n      <td>-0.021000</td>\n      <td>-0.021000</td>\n      <td>-0.021000</td>\n      <td>-0.021000</td>\n      <td>7.000000</td>\n      <td>41.900000</td>\n    </tr>\n    <tr>\n      <th>50%</th>\n      <td>14347.500000</td>\n      <td>16767.500000</td>\n      <td>335.000000</td>\n      <td>7.692000</td>\n      <td>5.205000</td>\n      <td>4.110000</td>\n      <td>5.429000</td>\n      <td>1.220000</td>\n      <td>6.923000</td>\n      <td>3.823000</td>\n      <td>...</td>\n      <td>0.019000</td>\n      <td>0.019000</td>\n      <td>0.019000</td>\n      <td>0.019000</td>\n      <td>0.019000</td>\n      <td>0.019000</td>\n      <td>0.019000</td>\n      <td>0.019000</td>\n      <td>7.000000</td>\n      <td>48.000000</td>\n    </tr>\n    <tr>\n      <th>75%</th>\n      <td>21521.250000</td>\n      <td>24006.250000</td>\n      <td>526.000000</td>\n      <td>9.494000</td>\n      <td>6.627000</td>\n      <td>5.263000</td>\n      <td>6.473000</td>\n      <td>1.935000</td>\n      <td>8.451000</td>\n      <td>5.000000</td>\n      <td>...</td>\n      <td>0.062000</td>\n      <td>0.062000</td>\n      <td>0.062000</td>\n      <td>0.062000</td>\n      <td>0.061000</td>\n      <td>0.061000</td>\n      <td>0.061000</td>\n      <td>0.061000</td>\n      <td>7.000000</td>\n      <td>53.800000</td>\n    </tr>\n    <tr>\n      <th>max</th>\n      <td>28695.000000</td>\n      <td>31389.000000</td>\n      <td>32767.000000</td>\n      <td>29.866000</td>\n      <td>24.540000</td>\n      <td>31.990000</td>\n      <td>20.530000</td>\n      <td>16.071000</td>\n      <td>24.658000</td>\n      <td>24.346000</td>\n      <td>...</td>\n      <td>0.644000</td>\n      <td>0.641000</td>\n      <td>0.638000</td>\n      <td>0.700000</td>\n      <td>0.638000</td>\n      <td>0.593000</td>\n      <td>0.879000</td>\n      <td>0.855000</td>\n      <td>64.900000</td>\n      <td>130.000000</td>\n    </tr>\n  </tbody>\n</table>\n<p>8 rows × 9301 columns</p>\n</div>"
     },
     "execution_count": 4,
     "metadata": {},
     "output_type": "execute_result"
    }
   ],
   "source": [
    "train.describe()"
   ],
   "metadata": {
    "collapsed": false
   }
  },
  {
   "cell_type": "markdown",
   "source": [
    "Após observar a descrição da coluna do pH, observamos que o valor máximo é 64.9, que não é um valor aceitável de pH (valor máximo de 14).\n",
    "\n",
    "Devido a tal discrepância, procurou-se todas as ocorrências onde o valor do pH é superior a 14, eliminando as respetivas linhas:"
   ],
   "metadata": {
    "collapsed": false
   }
  },
  {
   "cell_type": "code",
   "execution_count": 5,
   "outputs": [],
   "source": [
    "train = train[(train[\"pH\"]<14) & (train[\"pH\"]>0)]\n",
    "#train.describe()"
   ],
   "metadata": {
    "collapsed": false
   }
  },
  {
   "cell_type": "markdown",
   "source": [
    "Observamos que foram eliminadas 7 linhas (passou de 28696 para 28689)."
   ],
   "metadata": {
    "collapsed": false
   }
  },
  {
   "cell_type": "code",
   "execution_count": 6,
   "id": "d320c4bc-94d8-42a0-96b5-73dca33a969e",
   "metadata": {},
   "outputs": [],
   "source": [
    "# split X and y\n",
    "X_train = train.iloc[:,2:-1] #Remove sequence id from the X dataset\n",
    "y_train = train[\"tm\"]"
   ]
  },
  {
   "cell_type": "code",
   "execution_count": 19,
   "id": "ee94aa7b",
   "metadata": {
    "collapsed": false,
    "jupyter": {
     "outputs_hidden": false
    }
   },
   "outputs": [
    {
     "data": {
      "text/plain": "   SeqLength       A      R      N      D      C      E       Q      G      H  \\\n0        501  10.379  4.192  4.591  5.589  0.000  6.387   5.389  4.990  1.996   \n1        313   7.987  7.668  4.473  3.834  2.236  7.029   3.834  9.904  2.236   \n2        109   7.339  3.670  1.835  6.422  1.835  9.174   2.752  8.257  1.835   \n3        329   7.295  3.343  6.991  7.599  0.304  6.079   3.343  8.815  2.128   \n4        278  10.432  7.554  2.878  2.158  0.719  8.273  15.108  5.396  1.439   \n\n   ...  MoreauBrotoAuto_Mutability22  MoreauBrotoAuto_Mutability23  \\\n0  ...                        -0.060                        -0.058   \n1  ...                         0.020                         0.019   \n2  ...                         0.086                         0.087   \n3  ...                         0.079                         0.074   \n4  ...                         0.063                         0.057   \n\n   MoreauBrotoAuto_Mutability24  MoreauBrotoAuto_Mutability25  \\\n0                        -0.057                        -0.058   \n1                         0.017                         0.014   \n2                         0.079                         0.068   \n3                         0.077                         0.074   \n4                         0.051                         0.053   \n\n   MoreauBrotoAuto_Mutability26  MoreauBrotoAuto_Mutability27  \\\n0                        -0.056                        -0.056   \n1                         0.017                         0.014   \n2                         0.051                         0.065   \n3                         0.073                         0.074   \n4                         0.052                         0.050   \n\n   MoreauBrotoAuto_Mutability28  MoreauBrotoAuto_Mutability29  \\\n0                        -0.056                        -0.056   \n1                         0.012                         0.013   \n2                         0.059                         0.050   \n3                         0.078                         0.081   \n4                         0.050                         0.051   \n\n   MoreauBrotoAuto_Mutability30   pH  \n0                        -0.057  7.0  \n1                         0.010  7.0  \n2                         0.048  7.0  \n3                         0.082  5.5  \n4                         0.049  7.0  \n\n[5 rows x 9298 columns]",
      "text/html": "<div>\n<style scoped>\n    .dataframe tbody tr th:only-of-type {\n        vertical-align: middle;\n    }\n\n    .dataframe tbody tr th {\n        vertical-align: top;\n    }\n\n    .dataframe thead th {\n        text-align: right;\n    }\n</style>\n<table border=\"1\" class=\"dataframe\">\n  <thead>\n    <tr style=\"text-align: right;\">\n      <th></th>\n      <th>SeqLength</th>\n      <th>A</th>\n      <th>R</th>\n      <th>N</th>\n      <th>D</th>\n      <th>C</th>\n      <th>E</th>\n      <th>Q</th>\n      <th>G</th>\n      <th>H</th>\n      <th>...</th>\n      <th>MoreauBrotoAuto_Mutability22</th>\n      <th>MoreauBrotoAuto_Mutability23</th>\n      <th>MoreauBrotoAuto_Mutability24</th>\n      <th>MoreauBrotoAuto_Mutability25</th>\n      <th>MoreauBrotoAuto_Mutability26</th>\n      <th>MoreauBrotoAuto_Mutability27</th>\n      <th>MoreauBrotoAuto_Mutability28</th>\n      <th>MoreauBrotoAuto_Mutability29</th>\n      <th>MoreauBrotoAuto_Mutability30</th>\n      <th>pH</th>\n    </tr>\n  </thead>\n  <tbody>\n    <tr>\n      <th>0</th>\n      <td>501</td>\n      <td>10.379</td>\n      <td>4.192</td>\n      <td>4.591</td>\n      <td>5.589</td>\n      <td>0.000</td>\n      <td>6.387</td>\n      <td>5.389</td>\n      <td>4.990</td>\n      <td>1.996</td>\n      <td>...</td>\n      <td>-0.060</td>\n      <td>-0.058</td>\n      <td>-0.057</td>\n      <td>-0.058</td>\n      <td>-0.056</td>\n      <td>-0.056</td>\n      <td>-0.056</td>\n      <td>-0.056</td>\n      <td>-0.057</td>\n      <td>7.0</td>\n    </tr>\n    <tr>\n      <th>1</th>\n      <td>313</td>\n      <td>7.987</td>\n      <td>7.668</td>\n      <td>4.473</td>\n      <td>3.834</td>\n      <td>2.236</td>\n      <td>7.029</td>\n      <td>3.834</td>\n      <td>9.904</td>\n      <td>2.236</td>\n      <td>...</td>\n      <td>0.020</td>\n      <td>0.019</td>\n      <td>0.017</td>\n      <td>0.014</td>\n      <td>0.017</td>\n      <td>0.014</td>\n      <td>0.012</td>\n      <td>0.013</td>\n      <td>0.010</td>\n      <td>7.0</td>\n    </tr>\n    <tr>\n      <th>2</th>\n      <td>109</td>\n      <td>7.339</td>\n      <td>3.670</td>\n      <td>1.835</td>\n      <td>6.422</td>\n      <td>1.835</td>\n      <td>9.174</td>\n      <td>2.752</td>\n      <td>8.257</td>\n      <td>1.835</td>\n      <td>...</td>\n      <td>0.086</td>\n      <td>0.087</td>\n      <td>0.079</td>\n      <td>0.068</td>\n      <td>0.051</td>\n      <td>0.065</td>\n      <td>0.059</td>\n      <td>0.050</td>\n      <td>0.048</td>\n      <td>7.0</td>\n    </tr>\n    <tr>\n      <th>3</th>\n      <td>329</td>\n      <td>7.295</td>\n      <td>3.343</td>\n      <td>6.991</td>\n      <td>7.599</td>\n      <td>0.304</td>\n      <td>6.079</td>\n      <td>3.343</td>\n      <td>8.815</td>\n      <td>2.128</td>\n      <td>...</td>\n      <td>0.079</td>\n      <td>0.074</td>\n      <td>0.077</td>\n      <td>0.074</td>\n      <td>0.073</td>\n      <td>0.074</td>\n      <td>0.078</td>\n      <td>0.081</td>\n      <td>0.082</td>\n      <td>5.5</td>\n    </tr>\n    <tr>\n      <th>4</th>\n      <td>278</td>\n      <td>10.432</td>\n      <td>7.554</td>\n      <td>2.878</td>\n      <td>2.158</td>\n      <td>0.719</td>\n      <td>8.273</td>\n      <td>15.108</td>\n      <td>5.396</td>\n      <td>1.439</td>\n      <td>...</td>\n      <td>0.063</td>\n      <td>0.057</td>\n      <td>0.051</td>\n      <td>0.053</td>\n      <td>0.052</td>\n      <td>0.050</td>\n      <td>0.050</td>\n      <td>0.051</td>\n      <td>0.049</td>\n      <td>7.0</td>\n    </tr>\n  </tbody>\n</table>\n<p>5 rows × 9298 columns</p>\n</div>"
     },
     "execution_count": 19,
     "metadata": {},
     "output_type": "execute_result"
    }
   ],
   "source": [
    "X_train.head()"
   ]
  },
  {
   "cell_type": "markdown",
   "source": [
    "#### Outlier treatment (dependant variable)"
   ],
   "metadata": {
    "collapsed": false
   }
  },
  {
   "cell_type": "code",
   "execution_count": null,
   "outputs": [],
   "source": [
    "Vânia"
   ],
   "metadata": {
    "collapsed": false
   }
  },
  {
   "cell_type": "code",
   "execution_count": 7,
   "outputs": [],
   "source": [
    "from scipy import stats\n",
    "\n",
    "X_train = X_train[(np.abs(stats.zscore(y_train)) < 3)]\n",
    "y_train = y_train[(np.abs(stats.zscore(y_train)) < 3)]"
   ],
   "metadata": {
    "collapsed": false
   }
  },
  {
   "cell_type": "markdown",
   "source": [
    "#### Standardization\n",
    "\n",
    "VER JUNTOS!!!!"
   ],
   "metadata": {
    "collapsed": false
   }
  },
  {
   "cell_type": "code",
   "execution_count": 112,
   "outputs": [
    {
     "data": {
      "text/plain": "       SeqLength       A      R      N      D      C      E       Q      G  \\\n0            501  10.379  4.192  4.591  5.589  0.000  6.387   5.389  4.990   \n1            313   7.987  7.668  4.473  3.834  2.236  7.029   3.834  9.904   \n2            109   7.339  3.670  1.835  6.422  1.835  9.174   2.752  8.257   \n3            329   7.295  3.343  6.991  7.599  0.304  6.079   3.343  8.815   \n4            278  10.432  7.554  2.878  2.158  0.719  8.273  15.108  5.396   \n...          ...     ...    ...    ...    ...    ...    ...     ...    ...   \n28691        549   6.011  7.650  4.372  6.922  2.186  5.647   4.372  9.290   \n28692        469   7.889  5.330  4.051  4.478  1.066  6.183   3.412  5.757   \n28693        128  10.156  2.344  3.906  5.469  0.781  5.469   6.250  8.594   \n28694        593   7.926  4.216  4.216  5.734  0.843  6.071   2.024  8.769   \n28695        537   6.331  5.214  3.724  2.793  0.931  5.959   3.352  4.469   \n\n           H  ...  MoreauBrotoAuto_Mutability22  MoreauBrotoAuto_Mutability23  \\\n0      1.996  ...                        -0.060                        -0.058   \n1      2.236  ...                         0.020                         0.019   \n2      1.835  ...                         0.086                         0.087   \n3      2.128  ...                         0.079                         0.074   \n4      1.439  ...                         0.063                         0.057   \n...      ...  ...                           ...                           ...   \n28691  2.732  ...                        -0.005                        -0.006   \n28692  4.691  ...                        -0.047                        -0.049   \n28693  1.562  ...                         0.104                         0.098   \n28694  1.855  ...                         0.028                         0.030   \n28695  3.911  ...                         0.062                         0.063   \n\n       MoreauBrotoAuto_Mutability24  MoreauBrotoAuto_Mutability25  \\\n0                            -0.057                        -0.058   \n1                             0.017                         0.014   \n2                             0.079                         0.068   \n3                             0.077                         0.074   \n4                             0.051                         0.053   \n...                             ...                           ...   \n28691                        -0.004                        -0.003   \n28692                        -0.048                        -0.048   \n28693                         0.097                         0.100   \n28694                         0.029                         0.029   \n28695                         0.063                         0.064   \n\n       MoreauBrotoAuto_Mutability26  MoreauBrotoAuto_Mutability27  \\\n0                            -0.056                        -0.056   \n1                             0.017                         0.014   \n2                             0.051                         0.065   \n3                             0.073                         0.074   \n4                             0.052                         0.050   \n...                             ...                           ...   \n28691                        -0.002                        -0.003   \n28692                        -0.048                        -0.048   \n28693                         0.115                         0.099   \n28694                         0.030                         0.030   \n28695                         0.065                         0.067   \n\n       MoreauBrotoAuto_Mutability28  MoreauBrotoAuto_Mutability29  \\\n0                            -0.056                        -0.056   \n1                             0.012                         0.013   \n2                             0.059                         0.050   \n3                             0.078                         0.081   \n4                             0.050                         0.051   \n...                             ...                           ...   \n28691                        -0.002                        -0.002   \n28692                        -0.046                        -0.044   \n28693                         0.107                         0.102   \n28694                         0.030                         0.030   \n28695                         0.064                         0.066   \n\n       MoreauBrotoAuto_Mutability30   pH  \n0                            -0.057  7.0  \n1                             0.010  7.0  \n2                             0.048  7.0  \n3                             0.082  5.5  \n4                             0.049  7.0  \n...                             ...  ...  \n28691                        -0.005  7.0  \n28692                        -0.046  7.0  \n28693                         0.097  7.0  \n28694                         0.031  7.0  \n28695                         0.065  7.0  \n\n[28403 rows x 9298 columns]",
      "text/html": "<div>\n<style scoped>\n    .dataframe tbody tr th:only-of-type {\n        vertical-align: middle;\n    }\n\n    .dataframe tbody tr th {\n        vertical-align: top;\n    }\n\n    .dataframe thead th {\n        text-align: right;\n    }\n</style>\n<table border=\"1\" class=\"dataframe\">\n  <thead>\n    <tr style=\"text-align: right;\">\n      <th></th>\n      <th>SeqLength</th>\n      <th>A</th>\n      <th>R</th>\n      <th>N</th>\n      <th>D</th>\n      <th>C</th>\n      <th>E</th>\n      <th>Q</th>\n      <th>G</th>\n      <th>H</th>\n      <th>...</th>\n      <th>MoreauBrotoAuto_Mutability22</th>\n      <th>MoreauBrotoAuto_Mutability23</th>\n      <th>MoreauBrotoAuto_Mutability24</th>\n      <th>MoreauBrotoAuto_Mutability25</th>\n      <th>MoreauBrotoAuto_Mutability26</th>\n      <th>MoreauBrotoAuto_Mutability27</th>\n      <th>MoreauBrotoAuto_Mutability28</th>\n      <th>MoreauBrotoAuto_Mutability29</th>\n      <th>MoreauBrotoAuto_Mutability30</th>\n      <th>pH</th>\n    </tr>\n  </thead>\n  <tbody>\n    <tr>\n      <th>0</th>\n      <td>501</td>\n      <td>10.379</td>\n      <td>4.192</td>\n      <td>4.591</td>\n      <td>5.589</td>\n      <td>0.000</td>\n      <td>6.387</td>\n      <td>5.389</td>\n      <td>4.990</td>\n      <td>1.996</td>\n      <td>...</td>\n      <td>-0.060</td>\n      <td>-0.058</td>\n      <td>-0.057</td>\n      <td>-0.058</td>\n      <td>-0.056</td>\n      <td>-0.056</td>\n      <td>-0.056</td>\n      <td>-0.056</td>\n      <td>-0.057</td>\n      <td>7.0</td>\n    </tr>\n    <tr>\n      <th>1</th>\n      <td>313</td>\n      <td>7.987</td>\n      <td>7.668</td>\n      <td>4.473</td>\n      <td>3.834</td>\n      <td>2.236</td>\n      <td>7.029</td>\n      <td>3.834</td>\n      <td>9.904</td>\n      <td>2.236</td>\n      <td>...</td>\n      <td>0.020</td>\n      <td>0.019</td>\n      <td>0.017</td>\n      <td>0.014</td>\n      <td>0.017</td>\n      <td>0.014</td>\n      <td>0.012</td>\n      <td>0.013</td>\n      <td>0.010</td>\n      <td>7.0</td>\n    </tr>\n    <tr>\n      <th>2</th>\n      <td>109</td>\n      <td>7.339</td>\n      <td>3.670</td>\n      <td>1.835</td>\n      <td>6.422</td>\n      <td>1.835</td>\n      <td>9.174</td>\n      <td>2.752</td>\n      <td>8.257</td>\n      <td>1.835</td>\n      <td>...</td>\n      <td>0.086</td>\n      <td>0.087</td>\n      <td>0.079</td>\n      <td>0.068</td>\n      <td>0.051</td>\n      <td>0.065</td>\n      <td>0.059</td>\n      <td>0.050</td>\n      <td>0.048</td>\n      <td>7.0</td>\n    </tr>\n    <tr>\n      <th>3</th>\n      <td>329</td>\n      <td>7.295</td>\n      <td>3.343</td>\n      <td>6.991</td>\n      <td>7.599</td>\n      <td>0.304</td>\n      <td>6.079</td>\n      <td>3.343</td>\n      <td>8.815</td>\n      <td>2.128</td>\n      <td>...</td>\n      <td>0.079</td>\n      <td>0.074</td>\n      <td>0.077</td>\n      <td>0.074</td>\n      <td>0.073</td>\n      <td>0.074</td>\n      <td>0.078</td>\n      <td>0.081</td>\n      <td>0.082</td>\n      <td>5.5</td>\n    </tr>\n    <tr>\n      <th>4</th>\n      <td>278</td>\n      <td>10.432</td>\n      <td>7.554</td>\n      <td>2.878</td>\n      <td>2.158</td>\n      <td>0.719</td>\n      <td>8.273</td>\n      <td>15.108</td>\n      <td>5.396</td>\n      <td>1.439</td>\n      <td>...</td>\n      <td>0.063</td>\n      <td>0.057</td>\n      <td>0.051</td>\n      <td>0.053</td>\n      <td>0.052</td>\n      <td>0.050</td>\n      <td>0.050</td>\n      <td>0.051</td>\n      <td>0.049</td>\n      <td>7.0</td>\n    </tr>\n    <tr>\n      <th>...</th>\n      <td>...</td>\n      <td>...</td>\n      <td>...</td>\n      <td>...</td>\n      <td>...</td>\n      <td>...</td>\n      <td>...</td>\n      <td>...</td>\n      <td>...</td>\n      <td>...</td>\n      <td>...</td>\n      <td>...</td>\n      <td>...</td>\n      <td>...</td>\n      <td>...</td>\n      <td>...</td>\n      <td>...</td>\n      <td>...</td>\n      <td>...</td>\n      <td>...</td>\n      <td>...</td>\n    </tr>\n    <tr>\n      <th>28691</th>\n      <td>549</td>\n      <td>6.011</td>\n      <td>7.650</td>\n      <td>4.372</td>\n      <td>6.922</td>\n      <td>2.186</td>\n      <td>5.647</td>\n      <td>4.372</td>\n      <td>9.290</td>\n      <td>2.732</td>\n      <td>...</td>\n      <td>-0.005</td>\n      <td>-0.006</td>\n      <td>-0.004</td>\n      <td>-0.003</td>\n      <td>-0.002</td>\n      <td>-0.003</td>\n      <td>-0.002</td>\n      <td>-0.002</td>\n      <td>-0.005</td>\n      <td>7.0</td>\n    </tr>\n    <tr>\n      <th>28692</th>\n      <td>469</td>\n      <td>7.889</td>\n      <td>5.330</td>\n      <td>4.051</td>\n      <td>4.478</td>\n      <td>1.066</td>\n      <td>6.183</td>\n      <td>3.412</td>\n      <td>5.757</td>\n      <td>4.691</td>\n      <td>...</td>\n      <td>-0.047</td>\n      <td>-0.049</td>\n      <td>-0.048</td>\n      <td>-0.048</td>\n      <td>-0.048</td>\n      <td>-0.048</td>\n      <td>-0.046</td>\n      <td>-0.044</td>\n      <td>-0.046</td>\n      <td>7.0</td>\n    </tr>\n    <tr>\n      <th>28693</th>\n      <td>128</td>\n      <td>10.156</td>\n      <td>2.344</td>\n      <td>3.906</td>\n      <td>5.469</td>\n      <td>0.781</td>\n      <td>5.469</td>\n      <td>6.250</td>\n      <td>8.594</td>\n      <td>1.562</td>\n      <td>...</td>\n      <td>0.104</td>\n      <td>0.098</td>\n      <td>0.097</td>\n      <td>0.100</td>\n      <td>0.115</td>\n      <td>0.099</td>\n      <td>0.107</td>\n      <td>0.102</td>\n      <td>0.097</td>\n      <td>7.0</td>\n    </tr>\n    <tr>\n      <th>28694</th>\n      <td>593</td>\n      <td>7.926</td>\n      <td>4.216</td>\n      <td>4.216</td>\n      <td>5.734</td>\n      <td>0.843</td>\n      <td>6.071</td>\n      <td>2.024</td>\n      <td>8.769</td>\n      <td>1.855</td>\n      <td>...</td>\n      <td>0.028</td>\n      <td>0.030</td>\n      <td>0.029</td>\n      <td>0.029</td>\n      <td>0.030</td>\n      <td>0.030</td>\n      <td>0.030</td>\n      <td>0.030</td>\n      <td>0.031</td>\n      <td>7.0</td>\n    </tr>\n    <tr>\n      <th>28695</th>\n      <td>537</td>\n      <td>6.331</td>\n      <td>5.214</td>\n      <td>3.724</td>\n      <td>2.793</td>\n      <td>0.931</td>\n      <td>5.959</td>\n      <td>3.352</td>\n      <td>4.469</td>\n      <td>3.911</td>\n      <td>...</td>\n      <td>0.062</td>\n      <td>0.063</td>\n      <td>0.063</td>\n      <td>0.064</td>\n      <td>0.065</td>\n      <td>0.067</td>\n      <td>0.064</td>\n      <td>0.066</td>\n      <td>0.065</td>\n      <td>7.0</td>\n    </tr>\n  </tbody>\n</table>\n<p>28403 rows × 9298 columns</p>\n</div>"
     },
     "execution_count": 112,
     "metadata": {},
     "output_type": "execute_result"
    }
   ],
   "source": [
    "X_train"
   ],
   "metadata": {
    "collapsed": false
   }
  },
  {
   "cell_type": "code",
   "execution_count": 8,
   "outputs": [],
   "source": [
    "#Standardizar os valores\n",
    "from sklearn import preprocessing\n",
    "\n",
    "#Para se utilizar nos modelos de aprendizagem supervisionada\n",
    "X_train_sc = preprocessing.MinMaxScaler().fit_transform(X_train)\n",
    "X_train_sc = pd.DataFrame(data=X_train_sc, columns=X_train.columns)\n",
    "\n",
    "#Apenas para aplicar o PCA (remoção de outliers nos dados das variáveis independentes)\n",
    "X_train_sc_z = pd.DataFrame(data=preprocessing.scale(X_train), columns=X_train.columns)\n",
    "\n",
    "#O feature \"tri-peptide\" é (quase) binário. Pode ser standardizado também?"
   ],
   "metadata": {
    "collapsed": false
   }
  },
  {
   "cell_type": "code",
   "execution_count": 117,
   "outputs": [
    {
     "data": {
      "text/plain": "   SeqLength         A         R         N         D         C         E  \\\n0   0.015139  0.347519  0.170823  0.143514  0.272236  0.000000  0.259023   \n1   0.009401  0.267428  0.312469  0.139825  0.186751  0.139133  0.285060   \n2   0.003174  0.245731  0.149552  0.057362  0.312811  0.114181  0.372050   \n3   0.009890  0.244258  0.136227  0.218537  0.370141  0.018916  0.246533   \n4   0.008333  0.349294  0.307824  0.089966  0.105114  0.044739  0.335510   \n\n          Q         G         H  ...  MoreauBrotoAuto_Mutability22  \\\n0  0.221351  0.081911  0.136395  ...                      0.538762   \n1  0.157480  0.162574  0.152795  ...                      0.590879   \n2  0.113037  0.135538  0.125393  ...                      0.633876   \n3  0.137312  0.144698  0.145415  ...                      0.629316   \n4  0.620554  0.088575  0.098333  ...                      0.618893   \n\n   MoreauBrotoAuto_Mutability23  MoreauBrotoAuto_Mutability24  \\\n0                      0.562071                      0.742150   \n1                      0.610106                      0.769487   \n2                      0.652527                      0.792390   \n3                      0.644417                      0.791651   \n4                      0.633812                      0.782047   \n\n   MoreauBrotoAuto_Mutability25  MoreauBrotoAuto_Mutability26  \\\n0                      0.578947                      0.288136   \n1                      0.622505                      0.356874   \n2                      0.655172                      0.388889   \n3                      0.658802                      0.409605   \n4                      0.646098                      0.389831   \n\n   MoreauBrotoAuto_Mutability27  MoreauBrotoAuto_Mutability28  \\\n0                      0.301108                      0.323253   \n1                      0.371601                      0.394161   \n2                      0.422961                      0.443170   \n3                      0.432024                      0.462982   \n4                      0.407855                      0.433785   \n\n   MoreauBrotoAuto_Mutability29  MoreauBrotoAuto_Mutability30        pH  \n0                      0.258525                      0.272727  0.556049  \n1                      0.313243                      0.326156  0.556049  \n2                      0.342585                      0.356459  0.556049  \n3                      0.367169                      0.383573  0.389567  \n4                      0.343378                      0.357257  0.556049  \n\n[5 rows x 9298 columns]",
      "text/html": "<div>\n<style scoped>\n    .dataframe tbody tr th:only-of-type {\n        vertical-align: middle;\n    }\n\n    .dataframe tbody tr th {\n        vertical-align: top;\n    }\n\n    .dataframe thead th {\n        text-align: right;\n    }\n</style>\n<table border=\"1\" class=\"dataframe\">\n  <thead>\n    <tr style=\"text-align: right;\">\n      <th></th>\n      <th>SeqLength</th>\n      <th>A</th>\n      <th>R</th>\n      <th>N</th>\n      <th>D</th>\n      <th>C</th>\n      <th>E</th>\n      <th>Q</th>\n      <th>G</th>\n      <th>H</th>\n      <th>...</th>\n      <th>MoreauBrotoAuto_Mutability22</th>\n      <th>MoreauBrotoAuto_Mutability23</th>\n      <th>MoreauBrotoAuto_Mutability24</th>\n      <th>MoreauBrotoAuto_Mutability25</th>\n      <th>MoreauBrotoAuto_Mutability26</th>\n      <th>MoreauBrotoAuto_Mutability27</th>\n      <th>MoreauBrotoAuto_Mutability28</th>\n      <th>MoreauBrotoAuto_Mutability29</th>\n      <th>MoreauBrotoAuto_Mutability30</th>\n      <th>pH</th>\n    </tr>\n  </thead>\n  <tbody>\n    <tr>\n      <th>0</th>\n      <td>0.015139</td>\n      <td>0.347519</td>\n      <td>0.170823</td>\n      <td>0.143514</td>\n      <td>0.272236</td>\n      <td>0.000000</td>\n      <td>0.259023</td>\n      <td>0.221351</td>\n      <td>0.081911</td>\n      <td>0.136395</td>\n      <td>...</td>\n      <td>0.538762</td>\n      <td>0.562071</td>\n      <td>0.742150</td>\n      <td>0.578947</td>\n      <td>0.288136</td>\n      <td>0.301108</td>\n      <td>0.323253</td>\n      <td>0.258525</td>\n      <td>0.272727</td>\n      <td>0.556049</td>\n    </tr>\n    <tr>\n      <th>1</th>\n      <td>0.009401</td>\n      <td>0.267428</td>\n      <td>0.312469</td>\n      <td>0.139825</td>\n      <td>0.186751</td>\n      <td>0.139133</td>\n      <td>0.285060</td>\n      <td>0.157480</td>\n      <td>0.162574</td>\n      <td>0.152795</td>\n      <td>...</td>\n      <td>0.590879</td>\n      <td>0.610106</td>\n      <td>0.769487</td>\n      <td>0.622505</td>\n      <td>0.356874</td>\n      <td>0.371601</td>\n      <td>0.394161</td>\n      <td>0.313243</td>\n      <td>0.326156</td>\n      <td>0.556049</td>\n    </tr>\n    <tr>\n      <th>2</th>\n      <td>0.003174</td>\n      <td>0.245731</td>\n      <td>0.149552</td>\n      <td>0.057362</td>\n      <td>0.312811</td>\n      <td>0.114181</td>\n      <td>0.372050</td>\n      <td>0.113037</td>\n      <td>0.135538</td>\n      <td>0.125393</td>\n      <td>...</td>\n      <td>0.633876</td>\n      <td>0.652527</td>\n      <td>0.792390</td>\n      <td>0.655172</td>\n      <td>0.388889</td>\n      <td>0.422961</td>\n      <td>0.443170</td>\n      <td>0.342585</td>\n      <td>0.356459</td>\n      <td>0.556049</td>\n    </tr>\n    <tr>\n      <th>3</th>\n      <td>0.009890</td>\n      <td>0.244258</td>\n      <td>0.136227</td>\n      <td>0.218537</td>\n      <td>0.370141</td>\n      <td>0.018916</td>\n      <td>0.246533</td>\n      <td>0.137312</td>\n      <td>0.144698</td>\n      <td>0.145415</td>\n      <td>...</td>\n      <td>0.629316</td>\n      <td>0.644417</td>\n      <td>0.791651</td>\n      <td>0.658802</td>\n      <td>0.409605</td>\n      <td>0.432024</td>\n      <td>0.462982</td>\n      <td>0.367169</td>\n      <td>0.383573</td>\n      <td>0.389567</td>\n    </tr>\n    <tr>\n      <th>4</th>\n      <td>0.008333</td>\n      <td>0.349294</td>\n      <td>0.307824</td>\n      <td>0.089966</td>\n      <td>0.105114</td>\n      <td>0.044739</td>\n      <td>0.335510</td>\n      <td>0.620554</td>\n      <td>0.088575</td>\n      <td>0.098333</td>\n      <td>...</td>\n      <td>0.618893</td>\n      <td>0.633812</td>\n      <td>0.782047</td>\n      <td>0.646098</td>\n      <td>0.389831</td>\n      <td>0.407855</td>\n      <td>0.433785</td>\n      <td>0.343378</td>\n      <td>0.357257</td>\n      <td>0.556049</td>\n    </tr>\n  </tbody>\n</table>\n<p>5 rows × 9298 columns</p>\n</div>"
     },
     "execution_count": 117,
     "metadata": {},
     "output_type": "execute_result"
    }
   ],
   "source": [
    "X_train_sc.head()"
   ],
   "metadata": {
    "collapsed": false
   }
  },
  {
   "cell_type": "code",
   "execution_count": 118,
   "outputs": [
    {
     "data": {
      "text/plain": "   SeqLength         A         R         N         D         C         E  \\\n0   0.073179  0.884308 -0.540551  0.166229  0.028724 -1.113421 -0.280073   \n1  -0.210196  0.031288  1.007495  0.101659 -0.964606  0.580559 -0.024101   \n2  -0.517688 -0.199798 -0.773025 -1.341856  0.500202  0.276763  0.831132   \n3  -0.186079 -0.215489 -0.918656  1.479510  1.166384 -0.883113 -0.402876   \n4  -0.262952  0.903208  0.956725 -0.771125 -1.913223 -0.568711  0.471894   \n\n          Q         G         H  ...  MoreauBrotoAuto_Mutability22  \\\n0  0.692977 -0.764141 -0.144585  ...                     -1.198806   \n1 -0.131609  1.167583  0.065466  ...                     -0.021403   \n2 -0.705373  0.520137 -0.285494  ...                      0.949954   \n3 -0.391977  0.739490 -0.029057  ...                      0.846931   \n4  5.846773 -0.604540 -0.632079  ...                      0.611450   \n\n   MoreauBrotoAuto_Mutability23  MoreauBrotoAuto_Mutability24  \\\n0                     -1.178724                     -1.136078   \n1                     -0.038921                     -0.063606   \n2                      0.967659                      0.834952   \n3                      0.775225                      0.805967   \n4                      0.523580                      0.429152   \n\n   MoreauBrotoAuto_Mutability25  MoreauBrotoAuto_Mutability26  \\\n0                     -1.161830                     -1.134499   \n1                     -0.107821                     -0.066506   \n2                      0.682685                      0.430915   \n3                      0.770519                      0.752776   \n4                      0.463100                      0.445545   \n\n   MoreauBrotoAuto_Mutability27  MoreauBrotoAuto_Mutability28  \\\n0                     -1.111612                     -1.110298   \n1                     -0.104390                     -0.136385   \n2                      0.629443                      0.536761   \n3                      0.758942                      0.808884   \n4                      0.413609                      0.407861   \n\n   MoreauBrotoAuto_Mutability29  MoreauBrotoAuto_Mutability30        pH  \n0                     -1.095428                     -1.111168  0.178177  \n1                     -0.117148                     -0.161443  0.178177  \n2                      0.407436                      0.377208  0.178177  \n3                      0.846953                      0.859158 -1.506388  \n4                      0.421614                      0.391383  0.178177  \n\n[5 rows x 9298 columns]",
      "text/html": "<div>\n<style scoped>\n    .dataframe tbody tr th:only-of-type {\n        vertical-align: middle;\n    }\n\n    .dataframe tbody tr th {\n        vertical-align: top;\n    }\n\n    .dataframe thead th {\n        text-align: right;\n    }\n</style>\n<table border=\"1\" class=\"dataframe\">\n  <thead>\n    <tr style=\"text-align: right;\">\n      <th></th>\n      <th>SeqLength</th>\n      <th>A</th>\n      <th>R</th>\n      <th>N</th>\n      <th>D</th>\n      <th>C</th>\n      <th>E</th>\n      <th>Q</th>\n      <th>G</th>\n      <th>H</th>\n      <th>...</th>\n      <th>MoreauBrotoAuto_Mutability22</th>\n      <th>MoreauBrotoAuto_Mutability23</th>\n      <th>MoreauBrotoAuto_Mutability24</th>\n      <th>MoreauBrotoAuto_Mutability25</th>\n      <th>MoreauBrotoAuto_Mutability26</th>\n      <th>MoreauBrotoAuto_Mutability27</th>\n      <th>MoreauBrotoAuto_Mutability28</th>\n      <th>MoreauBrotoAuto_Mutability29</th>\n      <th>MoreauBrotoAuto_Mutability30</th>\n      <th>pH</th>\n    </tr>\n  </thead>\n  <tbody>\n    <tr>\n      <th>0</th>\n      <td>0.073179</td>\n      <td>0.884308</td>\n      <td>-0.540551</td>\n      <td>0.166229</td>\n      <td>0.028724</td>\n      <td>-1.113421</td>\n      <td>-0.280073</td>\n      <td>0.692977</td>\n      <td>-0.764141</td>\n      <td>-0.144585</td>\n      <td>...</td>\n      <td>-1.198806</td>\n      <td>-1.178724</td>\n      <td>-1.136078</td>\n      <td>-1.161830</td>\n      <td>-1.134499</td>\n      <td>-1.111612</td>\n      <td>-1.110298</td>\n      <td>-1.095428</td>\n      <td>-1.111168</td>\n      <td>0.178177</td>\n    </tr>\n    <tr>\n      <th>1</th>\n      <td>-0.210196</td>\n      <td>0.031288</td>\n      <td>1.007495</td>\n      <td>0.101659</td>\n      <td>-0.964606</td>\n      <td>0.580559</td>\n      <td>-0.024101</td>\n      <td>-0.131609</td>\n      <td>1.167583</td>\n      <td>0.065466</td>\n      <td>...</td>\n      <td>-0.021403</td>\n      <td>-0.038921</td>\n      <td>-0.063606</td>\n      <td>-0.107821</td>\n      <td>-0.066506</td>\n      <td>-0.104390</td>\n      <td>-0.136385</td>\n      <td>-0.117148</td>\n      <td>-0.161443</td>\n      <td>0.178177</td>\n    </tr>\n    <tr>\n      <th>2</th>\n      <td>-0.517688</td>\n      <td>-0.199798</td>\n      <td>-0.773025</td>\n      <td>-1.341856</td>\n      <td>0.500202</td>\n      <td>0.276763</td>\n      <td>0.831132</td>\n      <td>-0.705373</td>\n      <td>0.520137</td>\n      <td>-0.285494</td>\n      <td>...</td>\n      <td>0.949954</td>\n      <td>0.967659</td>\n      <td>0.834952</td>\n      <td>0.682685</td>\n      <td>0.430915</td>\n      <td>0.629443</td>\n      <td>0.536761</td>\n      <td>0.407436</td>\n      <td>0.377208</td>\n      <td>0.178177</td>\n    </tr>\n    <tr>\n      <th>3</th>\n      <td>-0.186079</td>\n      <td>-0.215489</td>\n      <td>-0.918656</td>\n      <td>1.479510</td>\n      <td>1.166384</td>\n      <td>-0.883113</td>\n      <td>-0.402876</td>\n      <td>-0.391977</td>\n      <td>0.739490</td>\n      <td>-0.029057</td>\n      <td>...</td>\n      <td>0.846931</td>\n      <td>0.775225</td>\n      <td>0.805967</td>\n      <td>0.770519</td>\n      <td>0.752776</td>\n      <td>0.758942</td>\n      <td>0.808884</td>\n      <td>0.846953</td>\n      <td>0.859158</td>\n      <td>-1.506388</td>\n    </tr>\n    <tr>\n      <th>4</th>\n      <td>-0.262952</td>\n      <td>0.903208</td>\n      <td>0.956725</td>\n      <td>-0.771125</td>\n      <td>-1.913223</td>\n      <td>-0.568711</td>\n      <td>0.471894</td>\n      <td>5.846773</td>\n      <td>-0.604540</td>\n      <td>-0.632079</td>\n      <td>...</td>\n      <td>0.611450</td>\n      <td>0.523580</td>\n      <td>0.429152</td>\n      <td>0.463100</td>\n      <td>0.445545</td>\n      <td>0.413609</td>\n      <td>0.407861</td>\n      <td>0.421614</td>\n      <td>0.391383</td>\n      <td>0.178177</td>\n    </tr>\n  </tbody>\n</table>\n<p>5 rows × 9298 columns</p>\n</div>"
     },
     "execution_count": 118,
     "metadata": {},
     "output_type": "execute_result"
    }
   ],
   "source": [
    "X_train_sc_z.head()"
   ],
   "metadata": {
    "collapsed": false
   }
  },
  {
   "cell_type": "markdown",
   "id": "d27f4ab1-a888-47ce-97a9-2d7322dce4ae",
   "metadata": {},
   "source": [
    "<b>Descriptive statistics</b>"
   ]
  },
  {
   "cell_type": "code",
   "execution_count": 20,
   "id": "801636fc-0dbf-4d69-b8ce-8973a14fdeab",
   "metadata": {},
   "outputs": [],
   "source": [
    "# RealPython -> https://realpython.com/python-statistics/"
   ]
  },
  {
   "cell_type": "code",
   "execution_count": 6,
   "id": "9c938784-1c8d-46fe-9a60-692392c8699a",
   "metadata": {},
   "outputs": [
    {
     "data": {
      "text/plain": "          SeqLength             A             R             N             D  \\\ncount  28689.000000  28689.000000  28689.000000  28689.000000  28689.000000   \nmean     450.659835      7.932307      5.421939      4.263511      5.527313   \nstd      660.541482      2.824282      2.264059      1.838496      1.772440   \nmin        5.000000      0.000000      0.000000      0.000000      0.000000   \n25%      195.000000      5.938000      3.950000      3.061000      4.362000   \n50%      335.000000      7.692000      5.205000      4.110000      5.430000   \n75%      527.000000      9.492000      6.627000      5.263000      6.473000   \nmax    32767.000000     29.866000     24.540000     31.990000     20.530000   \n\n                  C             E             Q             G             H  \\\ncount  28689.000000  28689.000000  28689.000000  28689.000000  28689.000000   \nmean       1.460256      7.106605      4.065240      6.952958      2.161780   \nstd        1.321664      2.512776      1.888225      2.547894      1.146347   \nmin        0.000000      0.000000      0.000000      0.000000      0.000000   \n25%        0.637000      5.556000      2.932000      5.335000      1.403000   \n50%        1.220000      6.923000      3.824000      6.652000      2.090000   \n75%        1.935000      8.451000      5.000000      8.333000      2.817000   \nmax       16.071000     24.658000     24.346000     60.920000     14.634000   \n\n       ...  MoreauBrotoAuto_Mutability22  MoreauBrotoAuto_Mutability23  \\\ncount  ...                  28689.000000                  28689.000000   \nmean   ...                      0.021087                      0.021239   \nstd    ...                      0.068004                      0.067609   \nmin    ...                     -0.887000                     -0.959000   \n25%    ...                     -0.021000                     -0.020000   \n50%    ...                      0.020000                      0.019000   \n75%    ...                      0.062000                      0.062000   \nmax    ...                      0.648000                      0.644000   \n\n       MoreauBrotoAuto_Mutability24  MoreauBrotoAuto_Mutability25  \\\ncount                  28689.000000                  28689.000000   \nmean                       0.021007                      0.020974   \nstd                        0.069043                      0.068376   \nmin                       -2.066000                     -1.015000   \n25%                       -0.020000                     -0.020000   \n50%                        0.019000                      0.019000   \n75%                        0.062000                      0.062000   \nmax                        0.641000                      0.638000   \n\n       MoreauBrotoAuto_Mutability26  MoreauBrotoAuto_Mutability27  \\\ncount                  28689.000000                  28689.000000   \nmean                       0.021149                      0.020868   \nstd                        0.068415                      0.069571   \nmin                       -0.362000                     -0.355000   \n25%                       -0.021000                     -0.021000   \n50%                        0.019000                      0.019000   \n75%                        0.062000                      0.061000   \nmax                        0.700000                      0.638000   \n\n       MoreauBrotoAuto_Mutability28  MoreauBrotoAuto_Mutability29  \\\ncount                  28689.000000                  28689.000000   \nmean                       0.021095                      0.020893   \nstd                        0.069907                      0.070616   \nmin                       -0.366000                     -0.382000   \n25%                       -0.021000                     -0.021000   \n50%                        0.019000                      0.019000   \n75%                        0.061000                      0.061000   \nmax                        0.593000                      0.879000   \n\n       MoreauBrotoAuto_Mutability30            pH  \ncount                  28689.000000  28689.000000  \nmean                       0.021051      6.840779  \nstd                        0.070636      0.890669  \nmin                       -0.399000      1.990000  \n25%                       -0.021000      7.000000  \n50%                        0.019000      7.000000  \n75%                        0.061000      7.000000  \nmax                        0.855000     11.000000  \n\n[8 rows x 9298 columns]",
      "text/html": "<div>\n<style scoped>\n    .dataframe tbody tr th:only-of-type {\n        vertical-align: middle;\n    }\n\n    .dataframe tbody tr th {\n        vertical-align: top;\n    }\n\n    .dataframe thead th {\n        text-align: right;\n    }\n</style>\n<table border=\"1\" class=\"dataframe\">\n  <thead>\n    <tr style=\"text-align: right;\">\n      <th></th>\n      <th>SeqLength</th>\n      <th>A</th>\n      <th>R</th>\n      <th>N</th>\n      <th>D</th>\n      <th>C</th>\n      <th>E</th>\n      <th>Q</th>\n      <th>G</th>\n      <th>H</th>\n      <th>...</th>\n      <th>MoreauBrotoAuto_Mutability22</th>\n      <th>MoreauBrotoAuto_Mutability23</th>\n      <th>MoreauBrotoAuto_Mutability24</th>\n      <th>MoreauBrotoAuto_Mutability25</th>\n      <th>MoreauBrotoAuto_Mutability26</th>\n      <th>MoreauBrotoAuto_Mutability27</th>\n      <th>MoreauBrotoAuto_Mutability28</th>\n      <th>MoreauBrotoAuto_Mutability29</th>\n      <th>MoreauBrotoAuto_Mutability30</th>\n      <th>pH</th>\n    </tr>\n  </thead>\n  <tbody>\n    <tr>\n      <th>count</th>\n      <td>28689.000000</td>\n      <td>28689.000000</td>\n      <td>28689.000000</td>\n      <td>28689.000000</td>\n      <td>28689.000000</td>\n      <td>28689.000000</td>\n      <td>28689.000000</td>\n      <td>28689.000000</td>\n      <td>28689.000000</td>\n      <td>28689.000000</td>\n      <td>...</td>\n      <td>28689.000000</td>\n      <td>28689.000000</td>\n      <td>28689.000000</td>\n      <td>28689.000000</td>\n      <td>28689.000000</td>\n      <td>28689.000000</td>\n      <td>28689.000000</td>\n      <td>28689.000000</td>\n      <td>28689.000000</td>\n      <td>28689.000000</td>\n    </tr>\n    <tr>\n      <th>mean</th>\n      <td>450.659835</td>\n      <td>7.932307</td>\n      <td>5.421939</td>\n      <td>4.263511</td>\n      <td>5.527313</td>\n      <td>1.460256</td>\n      <td>7.106605</td>\n      <td>4.065240</td>\n      <td>6.952958</td>\n      <td>2.161780</td>\n      <td>...</td>\n      <td>0.021087</td>\n      <td>0.021239</td>\n      <td>0.021007</td>\n      <td>0.020974</td>\n      <td>0.021149</td>\n      <td>0.020868</td>\n      <td>0.021095</td>\n      <td>0.020893</td>\n      <td>0.021051</td>\n      <td>6.840779</td>\n    </tr>\n    <tr>\n      <th>std</th>\n      <td>660.541482</td>\n      <td>2.824282</td>\n      <td>2.264059</td>\n      <td>1.838496</td>\n      <td>1.772440</td>\n      <td>1.321664</td>\n      <td>2.512776</td>\n      <td>1.888225</td>\n      <td>2.547894</td>\n      <td>1.146347</td>\n      <td>...</td>\n      <td>0.068004</td>\n      <td>0.067609</td>\n      <td>0.069043</td>\n      <td>0.068376</td>\n      <td>0.068415</td>\n      <td>0.069571</td>\n      <td>0.069907</td>\n      <td>0.070616</td>\n      <td>0.070636</td>\n      <td>0.890669</td>\n    </tr>\n    <tr>\n      <th>min</th>\n      <td>5.000000</td>\n      <td>0.000000</td>\n      <td>0.000000</td>\n      <td>0.000000</td>\n      <td>0.000000</td>\n      <td>0.000000</td>\n      <td>0.000000</td>\n      <td>0.000000</td>\n      <td>0.000000</td>\n      <td>0.000000</td>\n      <td>...</td>\n      <td>-0.887000</td>\n      <td>-0.959000</td>\n      <td>-2.066000</td>\n      <td>-1.015000</td>\n      <td>-0.362000</td>\n      <td>-0.355000</td>\n      <td>-0.366000</td>\n      <td>-0.382000</td>\n      <td>-0.399000</td>\n      <td>1.990000</td>\n    </tr>\n    <tr>\n      <th>25%</th>\n      <td>195.000000</td>\n      <td>5.938000</td>\n      <td>3.950000</td>\n      <td>3.061000</td>\n      <td>4.362000</td>\n      <td>0.637000</td>\n      <td>5.556000</td>\n      <td>2.932000</td>\n      <td>5.335000</td>\n      <td>1.403000</td>\n      <td>...</td>\n      <td>-0.021000</td>\n      <td>-0.020000</td>\n      <td>-0.020000</td>\n      <td>-0.020000</td>\n      <td>-0.021000</td>\n      <td>-0.021000</td>\n      <td>-0.021000</td>\n      <td>-0.021000</td>\n      <td>-0.021000</td>\n      <td>7.000000</td>\n    </tr>\n    <tr>\n      <th>50%</th>\n      <td>335.000000</td>\n      <td>7.692000</td>\n      <td>5.205000</td>\n      <td>4.110000</td>\n      <td>5.430000</td>\n      <td>1.220000</td>\n      <td>6.923000</td>\n      <td>3.824000</td>\n      <td>6.652000</td>\n      <td>2.090000</td>\n      <td>...</td>\n      <td>0.020000</td>\n      <td>0.019000</td>\n      <td>0.019000</td>\n      <td>0.019000</td>\n      <td>0.019000</td>\n      <td>0.019000</td>\n      <td>0.019000</td>\n      <td>0.019000</td>\n      <td>0.019000</td>\n      <td>7.000000</td>\n    </tr>\n    <tr>\n      <th>75%</th>\n      <td>527.000000</td>\n      <td>9.492000</td>\n      <td>6.627000</td>\n      <td>5.263000</td>\n      <td>6.473000</td>\n      <td>1.935000</td>\n      <td>8.451000</td>\n      <td>5.000000</td>\n      <td>8.333000</td>\n      <td>2.817000</td>\n      <td>...</td>\n      <td>0.062000</td>\n      <td>0.062000</td>\n      <td>0.062000</td>\n      <td>0.062000</td>\n      <td>0.062000</td>\n      <td>0.061000</td>\n      <td>0.061000</td>\n      <td>0.061000</td>\n      <td>0.061000</td>\n      <td>7.000000</td>\n    </tr>\n    <tr>\n      <th>max</th>\n      <td>32767.000000</td>\n      <td>29.866000</td>\n      <td>24.540000</td>\n      <td>31.990000</td>\n      <td>20.530000</td>\n      <td>16.071000</td>\n      <td>24.658000</td>\n      <td>24.346000</td>\n      <td>60.920000</td>\n      <td>14.634000</td>\n      <td>...</td>\n      <td>0.648000</td>\n      <td>0.644000</td>\n      <td>0.641000</td>\n      <td>0.638000</td>\n      <td>0.700000</td>\n      <td>0.638000</td>\n      <td>0.593000</td>\n      <td>0.879000</td>\n      <td>0.855000</td>\n      <td>11.000000</td>\n    </tr>\n  </tbody>\n</table>\n<p>8 rows × 9298 columns</p>\n</div>"
     },
     "execution_count": 6,
     "metadata": {},
     "output_type": "execute_result"
    }
   ],
   "source": [
    "X_stats = X_train.describe()\n",
    "X_stats"
   ]
  },
  {
   "cell_type": "code",
   "execution_count": 7,
   "id": "dd707a0a-c88e-41cd-98eb-3ed05bb22040",
   "metadata": {},
   "outputs": [
    {
     "data": {
      "text/plain": "count    28689.000000\nmean        49.091216\nstd         14.192283\nmin         -1.000000\n25%         41.900000\n50%         48.000000\n75%         53.800000\nmax        130.000000\nName: tm, dtype: float64"
     },
     "execution_count": 7,
     "metadata": {},
     "output_type": "execute_result"
    }
   ],
   "source": [
    "y_stats = y_train.describe()\n",
    "y_stats"
   ]
  },
  {
   "cell_type": "code",
   "execution_count": 23,
   "id": "bb9cd537-770e-4fd6-a4d5-bc5260d731f5",
   "metadata": {},
   "outputs": [
    {
     "data": {
      "text/plain": "<Figure size 432x288 with 1 Axes>",
      "image/png": "[encoded data removed]"
     },
     "metadata": {},
     "output_type": "display_data"
    }
   ],
   "source": [
    "# violin plot (tm)\n",
    "plt.violinplot(y_train, vert=False, widths=0.5, showmeans=True)\n",
    "plt.title(\"tm violin plot\") \n",
    "plt.xlabel(\"thermostability\")\n",
    "plt.show()\n",
    "plt.close(\"all\")"
   ]
  },
  {
   "cell_type": "code",
   "execution_count": 24,
   "id": "8c0fb016-55e6-450a-a837-40b97af99b6f",
   "metadata": {
    "tags": []
   },
   "outputs": [
    {
     "data": {
      "text/plain": "<Figure size 432x288 with 1 Axes>",
      "image/png": "[encoded data removed]"
     },
     "metadata": {},
     "output_type": "display_data"
    }
   ],
   "source": [
    "# density curve of label (tm)\n",
    "bins = 100\n",
    "plt.hist(y_train, color=\"b\", bins=bins, density=True)\n",
    "y_mean, y_std = y_stats['mean'], y_stats['std']\n",
    "plt.axvline(y_mean, color=\"r\", label=\"mu\")\n",
    "plt.axvline(y_mean-y_std*1.96, color=\"g\", label=\"mu +/- 1.96 * sigma\")\n",
    "plt.axvline(y_mean+y_std*1.96, color=\"g\")\n",
    "plt.title(f\"tm density curve ({bins} bins) - mu = {y_mean:.2f} - sigma = {y_std:.2f}\")\n",
    "plt.xlabel(\"tm values\"), plt.ylabel(\"relative frequency\")\n",
    "plt.legend()\n",
    "plt.show()\n",
    "plt.close(\"all\")"
   ]
  },
  {
   "cell_type": "code",
   "execution_count": 25,
   "id": "d9f7b782-9b1e-4d21-a3f6-35517cb8c040",
   "metadata": {},
   "outputs": [],
   "source": [
    "# normalize data (?)"
   ]
  },
  {
   "cell_type": "code",
   "execution_count": 43,
   "outputs": [
    {
     "name": "stderr",
     "output_type": "stream",
     "text": [
      "C:\\Users\\rober\\anaconda3\\lib\\site-packages\\outliers\\smirnov_grubbs.py:105: RuntimeWarning: invalid value encountered in double_scalars\n",
      "  g = value / data.std()\n"
     ]
    },
    {
     "ename": "KeyboardInterrupt",
     "evalue": "",
     "output_type": "error",
     "traceback": [
      "\u001B[1;31m---------------------------------------------------------------------------\u001B[0m",
      "\u001B[1;31mKeyboardInterrupt\u001B[0m                         Traceback (most recent call last)",
      "\u001B[1;32m<ipython-input-43-98a4b6e54c0a>\u001B[0m in \u001B[0;36m<module>\u001B[1;34m\u001B[0m\n\u001B[0;32m      5\u001B[0m \u001B[0mresult\u001B[0m \u001B[1;33m=\u001B[0m \u001B[1;33m{\u001B[0m\u001B[1;33m}\u001B[0m\u001B[1;33m\u001B[0m\u001B[1;33m\u001B[0m\u001B[0m\n\u001B[0;32m      6\u001B[0m \u001B[1;32mfor\u001B[0m \u001B[0mcol\u001B[0m \u001B[1;32min\u001B[0m \u001B[0mX_train\u001B[0m\u001B[1;33m.\u001B[0m\u001B[0mcolumns\u001B[0m\u001B[1;33m:\u001B[0m\u001B[1;33m\u001B[0m\u001B[1;33m\u001B[0m\u001B[0m\n\u001B[1;32m----> 7\u001B[1;33m     \u001B[0mresult\u001B[0m\u001B[1;33m[\u001B[0m\u001B[0mcol\u001B[0m\u001B[1;33m]\u001B[0m \u001B[1;33m=\u001B[0m \u001B[0mgrubbs\u001B[0m\u001B[1;33m.\u001B[0m\u001B[0mtwo_sided_test_indices\u001B[0m\u001B[1;33m(\u001B[0m\u001B[0mnp\u001B[0m\u001B[1;33m.\u001B[0m\u001B[0marray\u001B[0m\u001B[1;33m(\u001B[0m\u001B[0mX_train\u001B[0m\u001B[1;33m[\u001B[0m\u001B[0mcol\u001B[0m\u001B[1;33m]\u001B[0m\u001B[1;33m)\u001B[0m\u001B[1;33m,\u001B[0m \u001B[0malpha\u001B[0m\u001B[1;33m=\u001B[0m\u001B[1;36m0.05\u001B[0m\u001B[1;33m)\u001B[0m\u001B[1;33m\u001B[0m\u001B[1;33m\u001B[0m\u001B[0m\n\u001B[0m\u001B[0;32m      8\u001B[0m \u001B[1;33m\u001B[0m\u001B[0m\n\u001B[0;32m      9\u001B[0m \u001B[0mprint\u001B[0m\u001B[1;33m(\u001B[0m\u001B[0mresult\u001B[0m\u001B[1;33m)\u001B[0m\u001B[1;33m\u001B[0m\u001B[1;33m\u001B[0m\u001B[0m\n",
      "\u001B[1;32m~\\anaconda3\\lib\\site-packages\\outliers\\smirnov_grubbs.py\u001B[0m in \u001B[0;36mtwo_sided_test_indices\u001B[1;34m(data, alpha)\u001B[0m\n\u001B[0;32m    209\u001B[0m \u001B[1;33m\u001B[0m\u001B[0m\n\u001B[0;32m    210\u001B[0m \u001B[1;32mdef\u001B[0m \u001B[0mtwo_sided_test_indices\u001B[0m\u001B[1;33m(\u001B[0m\u001B[0mdata\u001B[0m\u001B[1;33m,\u001B[0m \u001B[0malpha\u001B[0m\u001B[1;33m=\u001B[0m\u001B[0mDEFAULT_ALPHA\u001B[0m\u001B[1;33m)\u001B[0m\u001B[1;33m:\u001B[0m\u001B[1;33m\u001B[0m\u001B[1;33m\u001B[0m\u001B[0m\n\u001B[1;32m--> 211\u001B[1;33m     \u001B[1;32mreturn\u001B[0m \u001B[0m_two_sided_test\u001B[0m\u001B[1;33m(\u001B[0m\u001B[0mdata\u001B[0m\u001B[1;33m,\u001B[0m \u001B[0malpha\u001B[0m\u001B[1;33m,\u001B[0m \u001B[0mOutputType\u001B[0m\u001B[1;33m.\u001B[0m\u001B[0mINDICES\u001B[0m\u001B[1;33m)\u001B[0m\u001B[1;33m\u001B[0m\u001B[1;33m\u001B[0m\u001B[0m\n\u001B[0m\u001B[0;32m    212\u001B[0m \u001B[1;33m\u001B[0m\u001B[0m\n\u001B[0;32m    213\u001B[0m \u001B[1;33m\u001B[0m\u001B[0m\n",
      "\u001B[1;32m~\\anaconda3\\lib\\site-packages\\outliers\\smirnov_grubbs.py\u001B[0m in \u001B[0;36m_two_sided_test\u001B[1;34m(data, alpha, output_type)\u001B[0m\n\u001B[0;32m    193\u001B[0m \u001B[1;33m\u001B[0m\u001B[0m\n\u001B[0;32m    194\u001B[0m \u001B[1;32mdef\u001B[0m \u001B[0m_two_sided_test\u001B[0m\u001B[1;33m(\u001B[0m\u001B[0mdata\u001B[0m\u001B[1;33m,\u001B[0m \u001B[0malpha\u001B[0m\u001B[1;33m,\u001B[0m \u001B[0moutput_type\u001B[0m\u001B[1;33m)\u001B[0m\u001B[1;33m:\u001B[0m\u001B[1;33m\u001B[0m\u001B[1;33m\u001B[0m\u001B[0m\n\u001B[1;32m--> 195\u001B[1;33m     \u001B[1;32mreturn\u001B[0m \u001B[0m_test\u001B[0m\u001B[1;33m(\u001B[0m\u001B[0mTwoSidedGrubbsTest\u001B[0m\u001B[1;33m,\u001B[0m \u001B[0mdata\u001B[0m\u001B[1;33m,\u001B[0m \u001B[0malpha\u001B[0m\u001B[1;33m,\u001B[0m \u001B[0moutput_type\u001B[0m\u001B[1;33m)\u001B[0m\u001B[1;33m\u001B[0m\u001B[1;33m\u001B[0m\u001B[0m\n\u001B[0m\u001B[0;32m    196\u001B[0m \u001B[1;33m\u001B[0m\u001B[0m\n\u001B[0;32m    197\u001B[0m \u001B[1;33m\u001B[0m\u001B[0m\n",
      "\u001B[1;32m~\\anaconda3\\lib\\site-packages\\outliers\\smirnov_grubbs.py\u001B[0m in \u001B[0;36m_test\u001B[1;34m(test_class, data, alpha, output_type)\u001B[0m\n\u001B[0;32m    189\u001B[0m \u001B[1;33m\u001B[0m\u001B[0m\n\u001B[0;32m    190\u001B[0m \u001B[1;32mdef\u001B[0m \u001B[0m_test\u001B[0m\u001B[1;33m(\u001B[0m\u001B[0mtest_class\u001B[0m\u001B[1;33m,\u001B[0m \u001B[0mdata\u001B[0m\u001B[1;33m,\u001B[0m \u001B[0malpha\u001B[0m\u001B[1;33m,\u001B[0m \u001B[0moutput_type\u001B[0m\u001B[1;33m)\u001B[0m\u001B[1;33m:\u001B[0m\u001B[1;33m\u001B[0m\u001B[1;33m\u001B[0m\u001B[0m\n\u001B[1;32m--> 191\u001B[1;33m     \u001B[1;32mreturn\u001B[0m \u001B[0mtest_class\u001B[0m\u001B[1;33m(\u001B[0m\u001B[0mdata\u001B[0m\u001B[1;33m)\u001B[0m\u001B[1;33m.\u001B[0m\u001B[0mrun\u001B[0m\u001B[1;33m(\u001B[0m\u001B[0malpha\u001B[0m\u001B[1;33m,\u001B[0m \u001B[0moutput_type\u001B[0m\u001B[1;33m=\u001B[0m\u001B[0moutput_type\u001B[0m\u001B[1;33m)\u001B[0m\u001B[1;33m\u001B[0m\u001B[1;33m\u001B[0m\u001B[0m\n\u001B[0m\u001B[0;32m    192\u001B[0m \u001B[1;33m\u001B[0m\u001B[0m\n\u001B[0;32m    193\u001B[0m \u001B[1;33m\u001B[0m\u001B[0m\n",
      "\u001B[1;32m~\\anaconda3\\lib\\site-packages\\outliers\\smirnov_grubbs.py\u001B[0m in \u001B[0;36mrun\u001B[1;34m(self, alpha, output_type)\u001B[0m\n\u001B[0;32m    125\u001B[0m             \u001B[0moutlier\u001B[0m \u001B[1;33m=\u001B[0m \u001B[0mdata\u001B[0m\u001B[1;33m[\u001B[0m\u001B[0moutlier_index\u001B[0m\u001B[1;33m]\u001B[0m\u001B[1;33m\u001B[0m\u001B[1;33m\u001B[0m\u001B[0m\n\u001B[0;32m    126\u001B[0m             \u001B[0moutliers\u001B[0m\u001B[1;33m.\u001B[0m\u001B[0mappend\u001B[0m\u001B[1;33m(\u001B[0m\u001B[0moutlier\u001B[0m\u001B[1;33m)\u001B[0m\u001B[1;33m\u001B[0m\u001B[1;33m\u001B[0m\u001B[0m\n\u001B[1;32m--> 127\u001B[1;33m             \u001B[0mdata\u001B[0m \u001B[1;33m=\u001B[0m \u001B[0mself\u001B[0m\u001B[1;33m.\u001B[0m\u001B[0m_delete_item\u001B[0m\u001B[1;33m(\u001B[0m\u001B[0mdata\u001B[0m\u001B[1;33m,\u001B[0m \u001B[0moutlier_index\u001B[0m\u001B[1;33m)\u001B[0m\u001B[1;33m\u001B[0m\u001B[1;33m\u001B[0m\u001B[0m\n\u001B[0m\u001B[0;32m    128\u001B[0m \u001B[1;33m\u001B[0m\u001B[0m\n\u001B[0;32m    129\u001B[0m         \u001B[0mreturn_value\u001B[0m \u001B[1;33m=\u001B[0m \u001B[0mdata\u001B[0m\u001B[1;33m\u001B[0m\u001B[1;33m\u001B[0m\u001B[0m\n",
      "\u001B[1;32m~\\anaconda3\\lib\\site-packages\\outliers\\smirnov_grubbs.py\u001B[0m in \u001B[0;36m_delete_item\u001B[1;34m(self, data, index)\u001B[0m\n\u001B[0;32m     59\u001B[0m             \u001B[1;32mreturn\u001B[0m \u001B[0mdata\u001B[0m\u001B[1;33m.\u001B[0m\u001B[0mdrop\u001B[0m\u001B[1;33m(\u001B[0m\u001B[0mindex\u001B[0m\u001B[1;33m)\u001B[0m\u001B[1;33m\u001B[0m\u001B[1;33m\u001B[0m\u001B[0m\n\u001B[0;32m     60\u001B[0m         \u001B[1;32melif\u001B[0m \u001B[0misinstance\u001B[0m\u001B[1;33m(\u001B[0m\u001B[0mdata\u001B[0m\u001B[1;33m,\u001B[0m \u001B[0mnp\u001B[0m\u001B[1;33m.\u001B[0m\u001B[0mndarray\u001B[0m\u001B[1;33m)\u001B[0m\u001B[1;33m:\u001B[0m\u001B[1;33m\u001B[0m\u001B[1;33m\u001B[0m\u001B[0m\n\u001B[1;32m---> 61\u001B[1;33m             \u001B[1;32mreturn\u001B[0m \u001B[0mnp\u001B[0m\u001B[1;33m.\u001B[0m\u001B[0mdelete\u001B[0m\u001B[1;33m(\u001B[0m\u001B[0mdata\u001B[0m\u001B[1;33m,\u001B[0m \u001B[0mindex\u001B[0m\u001B[1;33m)\u001B[0m\u001B[1;33m\u001B[0m\u001B[1;33m\u001B[0m\u001B[0m\n\u001B[0m\u001B[0;32m     62\u001B[0m         \u001B[1;32melse\u001B[0m\u001B[1;33m:\u001B[0m\u001B[1;33m\u001B[0m\u001B[1;33m\u001B[0m\u001B[0m\n\u001B[0;32m     63\u001B[0m             \u001B[1;32mraise\u001B[0m \u001B[0mTypeError\u001B[0m\u001B[1;33m(\u001B[0m\u001B[1;34m'Unsupported data format'\u001B[0m\u001B[1;33m)\u001B[0m\u001B[1;33m\u001B[0m\u001B[1;33m\u001B[0m\u001B[0m\n",
      "\u001B[1;32m<__array_function__ internals>\u001B[0m in \u001B[0;36mdelete\u001B[1;34m(*args, **kwargs)\u001B[0m\n",
      "\u001B[1;32m~\\anaconda3\\lib\\site-packages\\numpy\\lib\\function_base.py\u001B[0m in \u001B[0;36mdelete\u001B[1;34m(arr, obj, axis)\u001B[0m\n\u001B[0;32m   4457\u001B[0m         \u001B[0mnew\u001B[0m \u001B[1;33m=\u001B[0m \u001B[0mempty\u001B[0m\u001B[1;33m(\u001B[0m\u001B[0mnewshape\u001B[0m\u001B[1;33m,\u001B[0m \u001B[0marr\u001B[0m\u001B[1;33m.\u001B[0m\u001B[0mdtype\u001B[0m\u001B[1;33m,\u001B[0m \u001B[0marrorder\u001B[0m\u001B[1;33m)\u001B[0m\u001B[1;33m\u001B[0m\u001B[1;33m\u001B[0m\u001B[0m\n\u001B[0;32m   4458\u001B[0m         \u001B[0mslobj\u001B[0m\u001B[1;33m[\u001B[0m\u001B[0maxis\u001B[0m\u001B[1;33m]\u001B[0m \u001B[1;33m=\u001B[0m \u001B[0mslice\u001B[0m\u001B[1;33m(\u001B[0m\u001B[1;32mNone\u001B[0m\u001B[1;33m,\u001B[0m \u001B[0mobj\u001B[0m\u001B[1;33m)\u001B[0m\u001B[1;33m\u001B[0m\u001B[1;33m\u001B[0m\u001B[0m\n\u001B[1;32m-> 4459\u001B[1;33m         \u001B[0mnew\u001B[0m\u001B[1;33m[\u001B[0m\u001B[0mtuple\u001B[0m\u001B[1;33m(\u001B[0m\u001B[0mslobj\u001B[0m\u001B[1;33m)\u001B[0m\u001B[1;33m]\u001B[0m \u001B[1;33m=\u001B[0m \u001B[0marr\u001B[0m\u001B[1;33m[\u001B[0m\u001B[0mtuple\u001B[0m\u001B[1;33m(\u001B[0m\u001B[0mslobj\u001B[0m\u001B[1;33m)\u001B[0m\u001B[1;33m]\u001B[0m\u001B[1;33m\u001B[0m\u001B[1;33m\u001B[0m\u001B[0m\n\u001B[0m\u001B[0;32m   4460\u001B[0m         \u001B[0mslobj\u001B[0m\u001B[1;33m[\u001B[0m\u001B[0maxis\u001B[0m\u001B[1;33m]\u001B[0m \u001B[1;33m=\u001B[0m \u001B[0mslice\u001B[0m\u001B[1;33m(\u001B[0m\u001B[0mobj\u001B[0m\u001B[1;33m,\u001B[0m \u001B[1;32mNone\u001B[0m\u001B[1;33m)\u001B[0m\u001B[1;33m\u001B[0m\u001B[1;33m\u001B[0m\u001B[0m\n\u001B[0;32m   4461\u001B[0m         \u001B[0mslobj2\u001B[0m \u001B[1;33m=\u001B[0m \u001B[1;33m[\u001B[0m\u001B[0mslice\u001B[0m\u001B[1;33m(\u001B[0m\u001B[1;32mNone\u001B[0m\u001B[1;33m)\u001B[0m\u001B[1;33m]\u001B[0m\u001B[1;33m*\u001B[0m\u001B[0mndim\u001B[0m\u001B[1;33m\u001B[0m\u001B[1;33m\u001B[0m\u001B[0m\n",
      "\u001B[1;31mKeyboardInterrupt\u001B[0m: "
     ]
    }
   ],
   "source": [
    "#!pip install outlier_utils\n",
    "\n",
    "#from outliers import smirnov_grubbs as grubbs\n",
    "\n",
    "#result = {}\n",
    "#for col in X_train.columns:\n",
    "#    result[col] = grubbs.two_sided_test_indices(np.array(X_train_sc[col]), alpha=0.05)\n",
    "\n",
    "#print(result)\n",
    "\n"
   ],
   "metadata": {
    "collapsed": false
   }
  },
  {
   "cell_type": "markdown",
   "id": "6dbf00d4-8085-44ed-b0bf-4357309c68ee",
   "metadata": {},
   "source": [
    "<b>Correlations</b> (with respect to the output variable)"
   ]
  },
  {
   "cell_type": "code",
   "execution_count": 9,
   "id": "9784d330-b01f-456a-8bcb-43482dc6685a",
   "metadata": {},
   "outputs": [],
   "source": [
    "# get k best scores between features and label -> pearson, spearman, f_regression and multi_info_regression\n",
    "def get_k_best_corrs(k, scores):\n",
    "    idxs = np.argsort(scores)[-k:]\n",
    "    feats = X_train_sc.columns[idxs]\n",
    "    scores = np.sort(scores)[-k:]\n",
    "    return {f: c for f, c in zip(feats, scores)}"
   ]
  },
  {
   "cell_type": "code",
   "execution_count": 10,
   "id": "17fbea7d-f9d3-4d6f-a5fa-72210af8dd91",
   "metadata": {},
   "outputs": [],
   "source": [
    "# RealPython -> https://realpython.com/numpy-scipy-pandas-correlation-python/\n",
    "\n",
    "# Linear correlation measures the proximity of the mathematical relationship between variables or dataset features\n",
    "# to a linear function. If the relationship between the two features is closer to some linear function, then their\n",
    "# linear correlation is stronger and the absolute value of the correlation coefficient is higher.\n",
    "\n",
    "# pearson correlations with respect to tm (label) -> measures linear correlations\n",
    "def pearson_correlations(x: np.ndarray):\n",
    "    return abs(scipy.stats.pearsonr(x, y_train)[0])\n",
    "\n",
    "# Rank correlation compares the ranks or the orderings of the data related to two variables or dataset features.\n",
    "# If the orderings are similar, then the correlation is strong, positive, and high. However, if the orderings are\n",
    "# close to reversed, then the correlation is strong, negative, and low. In other words, rank correlation is concerned\n",
    "# only with the order of values, not with the particular values from the dataset.\n",
    "# Allows to capture non-linear relationships (see figure below).\n",
    "\n",
    "# spearman correlations with respect to tm (label) -> compares the ranks of data\n",
    "def spearman_correlations(x: np.ndarray):\n",
    "    return abs(scipy.stats.spearmanr(x, y_train).correlation)"
   ]
  },
  {
   "cell_type": "code",
   "execution_count": 11,
   "id": "17090ef6-5d4b-493c-bf42-88d8f55f2e3e",
   "metadata": {},
   "outputs": [],
   "source": [
    "pearson_corrs = np.apply_along_axis(pearson_correlations, axis=0, arr=X_train_sc)\n",
    "spearman_corrs = np.apply_along_axis(spearman_correlations, axis=0, arr=X_train_sc)"
   ]
  },
  {
   "cell_type": "markdown",
   "id": "728c0206-47e4-4495-bf2f-f87c63543a2e",
   "metadata": {},
   "source": [
    "![title](pearson_spearman.png)"
   ]
  },
  {
   "cell_type": "code",
   "execution_count": 12,
   "id": "95f4297a-8d6f-469a-bf42-ba4720fa5804",
   "metadata": {
    "collapsed": true,
    "jupyter": {
     "outputs_hidden": true
    },
    "scrolled": true,
    "tags": []
   },
   "outputs": [
    {
     "data": {
      "text/plain": "{'DKY': 0.15266814153133518,\n 'GQ': 0.15286365153343026,\n 'EAQ': 0.15289552301813222,\n 'AV': 0.15344493003827891,\n 'FAT': 0.15350338513524256,\n 'KKM': 0.15442712483828158,\n 'AKK': 0.15442951930601523,\n 'QT': 0.1546754948448122,\n 'KLM': 0.15506147575685586,\n 'KPN': 0.15614679682260235,\n 'SCL': 0.15649190277972555,\n 'GQR': 0.15682237066803156,\n 'RTD': 0.15697681444754621,\n 'LHK': 0.157142284572514,\n 'LVM': 0.15716188338196335,\n 'QHL': 0.1572030391749388,\n 'KL': 0.15829185569280568,\n 'YAD': 0.1584168666638824,\n 'GKM': 0.15856469543391877,\n 'SKG': 0.15859564646039082,\n 'ADG': 0.1587400200194572,\n 'HK': 0.15963941435489323,\n 'GDT': 0.16125895341758134,\n 'TK': 0.1613779793990864,\n 'GVN': 0.16198659215162237,\n 'FDK': 0.16301496580571873,\n 'KM': 0.16308080977110492,\n 'THE': 0.16358028851350914,\n 'NAD': 0.16516995458724865,\n 'YIY': 0.1653405413090765,\n 'MVN': 0.16567866339095877,\n 'CM': 0.16576213874417398,\n 'RQG': 0.16612259484366063,\n 'NNT': 0.1662320325215987,\n '_SolventAccessibilityD2025': 0.1663795203988362,\n '_HydrophobicityD1025': 0.1663795203988362,\n 'DN': 0.16662540632843809,\n 'QRT': 0.16684819108492252,\n 'KYG': 0.16790013862926198,\n 'YGR': 0.16801742648684775,\n 'TEY': 0.16825757266898983,\n 'DNA': 0.1683978989752596,\n 'CLV': 0.16842695563884486,\n 'DNG': 0.1684670971662174,\n 'YKP': 0.1684910579437615,\n 'HKE': 0.1691882522378345,\n 'FTK': 0.16965980107031012,\n 'DKG': 0.17075882008240365,\n 'HPK': 0.17160534356016785,\n 'VMT': 0.17185540368894434,\n 'TKH': 0.17251365919039408,\n 'L': 0.17294123718090823,\n 'RL': 0.17321933189239813,\n '_SolventAccessibilityC3': 0.17448767292774933,\n 'TSC': 0.17453366162784117,\n '_PolarityD3025': 0.17554693821240022,\n 'MTE': 0.17586377302911707,\n 'FFF': 0.17596995635823132,\n 'TDN': 0.17689305728505958,\n 'SED': 0.17699520786504994,\n 'ATS': 0.17755888274895162,\n 'IYA': 0.17803292169453505,\n 'HEQ': 0.17955821357569288,\n 'PNN': 0.17966024815225387,\n 'GIC': 0.18129205666928488,\n 'KMV': 0.18158145959740257,\n 'PMT': 0.1816846338038438,\n 'PL': 0.1820052510936252,\n 'KK': 0.18472441604382256,\n 'MTF': 0.1860549934617688,\n 'QTD': 0.18623045532225346,\n 'K': 0.18654800240267072,\n 'S': 0.1868199281998313,\n 'KHP': 0.18910241141519374,\n 'TKK': 0.19130538790939045,\n 'RA': 0.19236663421871336,\n 'EQH': 0.1924393292130661,\n 'LE': 0.19329383612557985,\n 'IWS': 0.19394052968248318,\n 'NTH': 0.19454212925880504,\n 'MYK': 0.1966319885685232,\n 'T': 0.19703776685959035,\n 'WSE': 0.19794258198957057,\n 'SheetSSF': 0.19894453707295545,\n 'IGM': 0.19930074750815063,\n 'ER': 0.19979457778478138,\n 'LG': 0.20135332559530894,\n 'QPM': 0.20383850084146743,\n 'R': 0.20607523845993456,\n 'GE': 0.2073068465356687,\n 'LMY': 0.20859605883048965,\n 'MAI': 0.2098502061617197,\n 'CMA': 0.2102361141843166,\n 'NIW': 0.21033923038841174,\n '_SolventAccessibilityT23': 0.21300734265585397,\n '_SolventAccessibilityC1': 0.21858633645296022,\n 'ICM': 0.21971119131894587,\n 'KGQ': 0.2205654300833148,\n 'AR': 0.24282747044304423,\n 'AL': 0.25215464973986446}"
     },
     "execution_count": 12,
     "metadata": {},
     "output_type": "execute_result"
    }
   ],
   "source": [
    "# highest 100 pearson correlations\n",
    "best_pearson = get_k_best_corrs(100, pearson_corrs)\n",
    "best_pearson"
   ]
  },
  {
   "cell_type": "code",
   "execution_count": 40,
   "id": "82db4ff2-760a-4a02-85f7-d19e9590c16e",
   "metadata": {},
   "outputs": [
    {
     "data": {
      "text/plain": "[<matplotlib.lines.Line2D at 0x21c923da3d0>]"
     },
     "execution_count": 40,
     "metadata": {},
     "output_type": "execute_result"
    },
    {
     "data": {
      "text/plain": "<Figure size 432x288 with 1 Axes>",
      "image/png": "[encoded data removed]"
     },
     "metadata": {},
     "output_type": "display_data"
    }
   ],
   "source": [
    "# highest correlation (pearson) -> 'AL'\n",
    "plt.plot(X_train_sc[\"AL\"], y_train, \"b.\")"
   ]
  },
  {
   "cell_type": "code",
   "execution_count": 13,
   "id": "c1b795e0-80cf-46b6-bee0-e8ddf7351a26",
   "metadata": {
    "collapsed": true,
    "jupyter": {
     "outputs_hidden": true
    },
    "scrolled": true,
    "tags": []
   },
   "outputs": [
    {
     "data": {
      "text/plain": "{'GQR': 0.12962660212067384,\n 'ETK': 0.13004809789779256,\n 'KRF': 0.1303176805773361,\n 'GKM': 0.1303421571404401,\n 'LVM': 0.13047556331329602,\n 'ADG': 0.13071474455829585,\n 'RQG': 0.13098661870594847,\n 'TS': 0.13121349362229823,\n 'SAN': 0.13125223264214886,\n 'NRS': 0.13182856454436126,\n 'RTD': 0.13192560905438364,\n 'GDT': 0.13196690532358818,\n 'VSI': 0.13206023662371805,\n 'HK': 0.13212793065896916,\n 'YIY': 0.13272219915855835,\n 'R': 0.13272362653837938,\n 'MVN': 0.13277013284658468,\n 'ST': 0.13342347819268413,\n 'QT': 0.13358051373961205,\n 'EFD': 0.13370615927206225,\n 'KLM': 0.13372278039552202,\n 'TLI': 0.13403988547059595,\n 'STK': 0.13420492753514432,\n 'EDN': 0.13447137015118002,\n 'KM': 0.13480177065334706,\n 'FAT': 0.13537791704118815,\n 'RA': 0.13581753888988382,\n 'DKG': 0.13605421762315262,\n 'THE': 0.1361808260910424,\n 'YKP': 0.13641926459247944,\n 'KKM': 0.1365192400190705,\n 'GQP': 0.13662112389017164,\n 'TKK': 0.13698864077372286,\n 'KPN': 0.1371519884529183,\n 'CLV': 0.13719551451934017,\n 'GVN': 0.13736638737249368,\n 'YAD': 0.13752910959770148,\n 'TKH': 0.137762298669474,\n 'CL': 0.13791529159322993,\n 'EYL': 0.13796716129289552,\n 'VMT': 0.13816296634982508,\n 'FFF': 0.13837333441667957,\n 'KS': 0.13855670461919273,\n 'KSE': 0.13877134160394788,\n 'AL': 0.1391110093285619,\n 'QHL': 0.13938019525701648,\n 'FDK': 0.13982330997119552,\n 'QRT': 0.13990960439483677,\n 'ATS': 0.14005834252985655,\n 'YGR': 0.140405157531982,\n 'EAQ': 0.14069326295569376,\n 'HPK': 0.14085186118470205,\n 'DNG': 0.14141339348675241,\n 'CM': 0.14162343384703374,\n 'LHK': 0.14217787945257798,\n 'MAI': 0.14281128629880893,\n 'IYA': 0.14292779600903768,\n 'TST': 0.14333246807570577,\n 'TSC': 0.1433801738258743,\n 'DNA': 0.14360282799887317,\n 'GQY': 0.14375475164367674,\n 'TEY': 0.14443603992833884,\n 'NAD': 0.14444000193168216,\n 'AV': 0.14460588603057814,\n 'HEQ': 0.14461027360569045,\n 'GIC': 0.14474969443092636,\n 'MTF': 0.1457508613592253,\n 'NNT': 0.14671971339381965,\n 'MTE': 0.14689412630616858,\n 'TDN': 0.14689623598732662,\n 'S': 0.14719515071510747,\n 'KK': 0.14745940241889877,\n 'PMT': 0.14747057767007035,\n 'SKG': 0.14793057796079345,\n 'FTK': 0.14831430688599637,\n 'KL': 0.15023880442959944,\n 'HKE': 0.15034994745391414,\n 'SS': 0.15221145401569905,\n 'PNN': 0.15235491351350935,\n 'DN': 0.15255612937015095,\n 'GE': 0.15283538490055804,\n 'WSE': 0.1532962307162211,\n 'IWS': 0.1535302946042737,\n 'EQH': 0.15362545050517953,\n 'AR': 0.15435658376281985,\n 'NTH': 0.1547725685316063,\n 'PKK': 0.1554762958157815,\n 'KHP': 0.1555367803206601,\n 'QTD': 0.15583484667431138,\n 'MYK': 0.15742487902922675,\n 'IGM': 0.15949995501591946,\n '_SolventAccessibilityT23': 0.16130325910679302,\n 'QPM': 0.16222914043458805,\n 'NIW': 0.1622475590563388,\n 'T': 0.16238018121382103,\n 'CMA': 0.1630329662959836,\n 'K': 0.16305691936479175,\n 'LMY': 0.16725274183361946,\n 'ICM': 0.1714719834168786,\n '_SolventAccessibilityC1': 0.17256894129742167}"
     },
     "execution_count": 13,
     "metadata": {},
     "output_type": "execute_result"
    }
   ],
   "source": [
    "# highest 100 spearman correlations\n",
    "best_spearman = get_k_best_corrs(100, spearman_corrs)\n",
    "best_spearman"
   ]
  },
  {
   "cell_type": "code",
   "execution_count": 43,
   "id": "78ac70f2-34dd-4d54-9195-82e7504cffeb",
   "metadata": {},
   "outputs": [
    {
     "data": {
      "text/plain": "[<matplotlib.lines.Line2D at 0x21c926ce0a0>]"
     },
     "execution_count": 43,
     "metadata": {},
     "output_type": "execute_result"
    },
    {
     "data": {
      "text/plain": "<Figure size 432x288 with 1 Axes>",
      "image/png": "[encoded data removed]"
     },
     "metadata": {},
     "output_type": "display_data"
    }
   ],
   "source": [
    "# highest correlation (spearman) -> '_SolventAccessibilityC1'\n",
    "plt.plot(X_train_sc[\"_SolventAccessibilityC1\"], y_train, \"r.\")"
   ]
  },
  {
   "cell_type": "markdown",
   "id": "d0ff037e-a1ee-4454-9db0-0bc2900dfc1f",
   "metadata": {},
   "source": [
    "<b>Univariate linear regression</b> (F-statistic)"
   ]
  },
  {
   "cell_type": "code",
   "execution_count": 51,
   "id": "6aa38703-c2da-466c-84f8-b19b05763b77",
   "metadata": {},
   "outputs": [],
   "source": [
    "# From sklearn docs:\n",
    "# Univariate linear regression tests returning F-statistic and p-values.\n",
    "# f_regression is derived from r_regression (Pearson) and will rank features in the same order if all the features are\n",
    "# positively correlated with the target."
   ]
  },
  {
   "cell_type": "code",
   "execution_count": 14,
   "id": "6835e0cd-017a-493f-9412-337af8decd59",
   "metadata": {},
   "outputs": [],
   "source": [
    "from sklearn.feature_selection import f_regression"
   ]
  },
  {
   "cell_type": "code",
   "execution_count": 15,
   "id": "935851bc-306e-433e-b2d8-ac2a87835ce6",
   "metadata": {
    "collapsed": true,
    "jupyter": {
     "outputs_hidden": true
    },
    "tags": []
   },
   "outputs": [
    {
     "data": {
      "text/plain": "{'DKY': 677.7548655886151,\n 'GQ': 679.5334313693767,\n 'EAQ': 679.8236045240703,\n 'AV': 684.8360905787098,\n 'FAT': 685.3705627438148,\n 'KKM': 693.8462378127172,\n 'AKK': 693.868280511569,\n 'QT': 696.1346512690616,\n 'KLM': 699.6989893213982,\n 'KPN': 709.7737074147782,\n 'SCL': 712.9934198698834,\n 'GQR': 716.0838965508586,\n 'RTD': 717.530688006666,\n 'LHK': 719.0825116491569,\n 'LVM': 719.2664338454196,\n 'QHL': 719.65273666001,\n 'KL': 729.913238679588,\n 'YAD': 731.0962812094432,\n 'GKM': 732.4965895679909,\n 'SKG': 732.7899556485584,\n 'ADG': 734.1592199896194,\n 'HK': 742.7202083706278,\n 'GDT': 758.2708012596833,\n 'TK': 759.4205227833365,\n 'GVN': 765.3140484966805,\n 'FDK': 775.3282179645197,\n 'KM': 775.9717917863237,\n 'THE': 780.8632013504014,\n 'NAD': 796.5414539573109,\n 'YIY': 798.2338990504911,\n 'MVN': 801.5942604308842,\n 'CM': 802.4250400403686,\n 'RQG': 806.0177902826666,\n 'NNT': 807.1103008408148,\n '_SolventAccessibilityD2025': 808.583932196203,\n '_HydrophobicityD1025': 808.583932196203,\n 'DN': 811.0439487015393,\n 'QRT': 813.2763402673174,\n 'KYG': 823.8622083136323,\n 'YGR': 825.0470891818163,\n 'TEY': 827.4760073660343,\n 'DNA': 828.8971072283903,\n 'CLV': 829.191532572971,\n 'DNG': 829.5983719426206,\n 'YKP': 829.841269007738,\n 'HKE': 836.9258230712707,\n 'FTK': 841.7360171652779,\n 'DKG': 853.0050908413249,\n 'HPK': 861.740716331837,\n 'VMT': 864.3304575008405,\n 'TKH': 871.1678941306643,\n 'L': 875.6249590457512,\n 'RL': 878.5304652800459,\n '_SolventAccessibilityC3': 891.8485436406631,\n 'TSC': 892.333496896694,\n '_PolarityD3025': 903.0550805233376,\n 'MTE': 906.4218982191529,\n 'FFF': 907.5517777811261,\n 'TDN': 917.4067730330921,\n 'SED': 918.5009065095221,\n 'ATS': 924.5512538904703,\n 'IYA': 929.6563050664898,\n 'HEQ': 946.1871226271202,\n 'PNN': 947.2986541775728,\n 'GIC': 965.1724032663412,\n 'KMV': 968.3614905884056,\n 'PMT': 969.499820665431,\n 'PL': 973.0419105420452,\n 'KK': 1003.3684972644348,\n 'MTF': 1018.3953394088171,\n 'QTD': 1020.3861137372086,\n 'K': 1023.9944318502153,\n 'S': 1027.0899421630204,\n 'KHP': 1053.2767483205353,\n 'TKK': 1078.8979787977796,\n 'RA': 1091.3625755427502,\n 'EQH': 1092.219306408546,\n 'LE': 1102.317924977679,\n 'IWS': 1109.9949597187642,\n 'NTH': 1117.1633016063913,\n 'MYK': 1142.2648984318562,\n 'T': 1147.174840591625,\n 'WSE': 1158.165520022684,\n 'SheetSSF': 1170.4045147262298,\n 'IGM': 1174.7730083376812,\n 'ER': 1180.8443136536305,\n 'LG': 1200.123122077416,\n 'QPM': 1231.2228424229859,\n 'R': 1259.5966748548035,\n 'GE': 1275.375740830104,\n 'LMY': 1292.0117009873143,\n 'MAI': 1308.3122213838833,\n 'CMA': 1313.3512585966198,\n 'NIW': 1314.6995672034313,\n '_SolventAccessibilityT23': 1349.8598206451077,\n '_SolventAccessibilityC1': 1425.0901859532564,\n 'ICM': 1440.5409319277835,\n 'KGQ': 1452.3383077925096,\n 'AR': 1779.6048070841844,\n 'AL': 1928.4031199952333}"
     },
     "execution_count": 15,
     "metadata": {},
     "output_type": "execute_result"
    }
   ],
   "source": [
    "# highest 100 f-values\n",
    "f_values, _ = f_regression(X_train_sc, y_train)\n",
    "best_f_scores = get_k_best_corrs(100, f_values)\n",
    "best_f_scores"
   ]
  },
  {
   "cell_type": "markdown",
   "id": "0f31984a-accf-4f5a-bbf0-4b792427c377",
   "metadata": {},
   "source": [
    "<b>Mutual information regression</b> (MI)"
   ]
  },
  {
   "cell_type": "code",
   "execution_count": 55,
   "outputs": [],
   "source": [
    "# From sklearn docs:\n",
    "# Estimate mutual information for a continuous target variable.\n",
    "# Mutual information (MI) (https://en.wikipedia.org/wiki/Mutual_information) between two random variables is\n",
    "# a non-negative value, which measures the dependency between the variables. It is equal to zero if and only\n",
    "# if two random variables are independent, and higher values mean higher dependency."
   ],
   "metadata": {
    "collapsed": false
   }
  },
  {
   "cell_type": "code",
   "execution_count": 16,
   "id": "3af22040-c707-4c73-8bbd-66e961e482d4",
   "metadata": {},
   "outputs": [],
   "source": [
    "from sklearn.feature_selection import mutual_info_regression as mir"
   ]
  },
  {
   "cell_type": "code",
   "execution_count": 21,
   "id": "b1c5a0a6-3137-481d-825d-26a40a248962",
   "metadata": {
    "collapsed": true,
    "jupyter": {
     "outputs_hidden": true
    },
    "tags": []
   },
   "outputs": [
    {
     "data": {
      "text/plain": "{'_SecondaryStrD1075': 0.32921775016853516,\n 'TurnSSF': 0.3296591526807173,\n '_PolarizabilityD1050': 0.3298092153036709,\n '_SecondaryStrD3050': 0.33026090259165297,\n '_NormalizedVDWVD1050': 0.3307653036226652,\n '_NormalizedVDWVD2075': 0.3308574738212009,\n '_HydrophobicityD2025': 0.33152389437897245,\n '_ChargeD2075': 0.33187616152431954,\n 'H': 0.33223241376345225,\n '_SecondaryStrD1050': 0.3339508718233777,\n '_PolarizabilityD1025': 0.3347491233806341,\n '_PolarityD3075': 0.33562253219804106,\n '_NormalizedVDWVD1075': 0.3362183214899712,\n '_PolarityD3050': 0.3364496686149234,\n '_SecondaryStrD2075': 0.3370228803204647,\n '_PolarityD2025': 0.337060228579257,\n '_PolarityD2050': 0.33730736031379926,\n '_HydrophobicityD3075': 0.33781547020327984,\n '_SecondaryStrD1025': 0.3382097036845959,\n '_PolarityD2075': 0.3384328277470967,\n '_NormalizedVDWVD1025': 0.33881137715184906,\n '_NormalizedVDWVD3075': 0.33883984528159505,\n '_SecondaryStrD2050': 0.33902360299854184,\n '_PolarizabilityD1075': 0.3393717989422651,\n '_SecondaryStrD3025': 0.3396064691514926,\n '_PolarizabilityD3075': 0.33991369531056126,\n '_SolventAccessibilityD3075': 0.3399823177853669,\n '_SolventAccessibilityD3025': 0.34037088101765356,\n 'M': 0.3403847311812278,\n '_SolventAccessibilityD3050': 0.3405954258744961,\n 'V': 0.34093794884432604,\n '_SolventAccessibilityD2075': 0.3413229163729179,\n '_PolarityD1050': 0.3418043228909253,\n '_HydrophobicityD1075': 0.3423695501940571,\n '_SolventAccessibilityD1025': 0.3427304540971843,\n '_PolarizabilityD2025': 0.3432827552856539,\n 'Y': 0.34407626829237525,\n 'G': 0.3441677367899958,\n 'Aromaticity': 0.3442212785464287,\n 'HelixSSF': 0.3447305702370276,\n '_HydrophobicityD1050': 0.3452410241199928,\n '_NormalizedVDWVD2025': 0.34566097650712724,\n '_SolventAccessibilityD2050': 0.3460565561632283,\n '_SolventAccessibilityD3100': 0.3461155299670038,\n '_PolarizabilityD3050': 0.3462433501657207,\n '_NormalizedVDWVD3001': 0.34629835534974607,\n '_NormalizedVDWVD3050': 0.34649360162293785,\n '_PolarizabilityD3001': 0.34775064984604676,\n '_SecondaryStrD3075': 0.3478350784741453,\n 'T': 0.34829191212033184,\n '_SecondaryStrD2025': 0.34874102289147846,\n '_PolarityD1075': 0.3490044507133456,\n '_SecondaryStrD1001': 0.349071872642158,\n 'C': 0.3505145903606728,\n '_PolarizabilityD3025': 0.35053986560914385,\n '_PolarityD3025': 0.3506038373841118,\n '_NormalizedVDWVD3025': 0.35060505099691497,\n 'E': 0.3509405524333902,\n '_SolventAccessibilityD3001': 0.3511414948606433,\n '_SolventAccessibilityD2025': 0.3512893059899822,\n '_ChargeD1001': 0.35131420243943623,\n '_HydrophobicityD3001': 0.3515268507182032,\n 'L': 0.3517319129336025,\n '_PolarityD1001': 0.35206553397678686,\n '_HydrophobicityD1025': 0.35209579773306476,\n '_HydrophobicityD3050': 0.35219923506329653,\n 'R': 0.352615955618238,\n '_SolventAccessibilityD2001': 0.35405879913354266,\n '_HydrophobicityD1001': 0.3542239697433853,\n 'A': 0.35562754611518166,\n '_PolarityD3001': 0.3557402565077199,\n '_ChargeD1075': 0.35606021501013174,\n '_ChargeD3075': 0.35631510119571086,\n 'D': 0.35716066133050184,\n 'SheetSSF': 0.3581065342077192,\n '_PolarityD1025': 0.358186518277928,\n '_PolarizabilityD2001': 0.35827161278146846,\n '_ChargeD2001': 0.35909026263826416,\n '_SecondaryStrD2001': 0.359620993519699,\n '_ChargeD3050': 0.359747694160526,\n '_HydrophobicityD3025': 0.3601972093978931,\n 'P': 0.36144314655260423,\n '_NormalizedVDWVD2001': 0.3627898742850135,\n '_ChargeD1050': 0.36293646047794414,\n '_ChargeD1025': 0.3632482395151495,\n 'K': 0.3636137202761658,\n '_ChargeD3025': 0.36393783529886026,\n 'SeqLength': 0.3661564045603818,\n '_SolventAccessibilityD1001': 0.36652525391781765,\n '_ChargeD3001': 0.3677583256993824,\n '_SecondaryStrD3001': 0.3716952739076609,\n '_HydrophobicityD2001': 0.374155982809004,\n 'MolecularWeight': 0.3744120109518745,\n '_PolarityD2001': 0.3758526741301331,\n '_PolarizabilityD1001': 0.3771536713078403,\n '_NormalizedVDWVD1001': 0.3819718673106367,\n 'S': 0.38346833943938563,\n 'N': 0.39319661793990246,\n 'I': 0.3987892567488105,\n 'Q': 0.40809892337317866}"
     },
     "execution_count": 21,
     "metadata": {},
     "output_type": "execute_result"
    }
   ],
   "source": [
    "# highest 100 mi's (by default, n_neighbors=3 -> explore)\n",
    "mis = mir(X_train_sc, y_train)\n",
    "best_mis = get_k_best_corrs(100, mis)\n",
    "best_mis"
   ]
  },
  {
   "cell_type": "markdown",
   "source": [
    "#### Defining the most significant variables"
   ],
   "metadata": {
    "collapsed": false
   }
  },
  {
   "cell_type": "code",
   "execution_count": 16,
   "outputs": [],
   "source": [
    "# Create new training data based on the top 100 features (for both spearman and pearson)\n",
    "\n",
    "X_train_SM = X_train_sc_z.loc[:,best_spearman.keys()]\n",
    "X_train_PS = X_train_sc_z.loc[:,best_pearson.keys()]"
   ],
   "metadata": {
    "collapsed": false
   }
  },
  {
   "cell_type": "code",
   "execution_count": 128,
   "outputs": [
    {
     "data": {
      "text/plain": "        GQR       ETK       KRF       GKM      LVM       ADG       RQG  \\\n0 -0.287743 -0.301368 -0.289975 -0.248041 -0.26803  1.817367 -0.300111   \n1 -0.287743 -0.301368 -0.289975 -0.248041 -0.26803 -0.335474 -0.300111   \n2 -0.287743 -0.301368 -0.289975 -0.248041 -0.26803 -0.335474 -0.300111   \n3 -0.287743 -0.301368 -0.289975 -0.248041 -0.26803 -0.335474 -0.300111   \n4 -0.287743 -0.301368 -0.289975 -0.248041 -0.26803 -0.335474 -0.300111   \n\n         TS       SAN       NRS  ...       IGM  _SolventAccessibilityT23  \\\n0 -0.921269 -0.315313 -0.279966  ... -0.248737                  0.151038   \n1 -0.073354 -0.315313 -0.279966  ... -0.248737                 -0.458539   \n2 -0.921269 -0.315313 -0.279966  ... -0.248737                 -0.702369   \n3 -0.126348 -0.315313 -0.279966  ... -0.248737                 -0.214708   \n4  0.032636 -0.315313 -0.279966  ... -0.248737                  1.705457   \n\n        QPM       NIW         T       CMA         K       LMY       ICM  \\\n0 -0.218189 -0.192412  0.309394 -0.193642 -0.378718 -0.226035 -0.185827   \n1 -0.218189 -0.192412 -0.678440 -0.193642 -1.029394 -0.226035 -0.185827   \n2 -0.218189 -0.192412 -0.970259 -0.193642  0.950440 -0.226035 -0.185827   \n3 -0.218189 -0.192412 -0.065802 -0.193642  0.366500 -0.226035 -0.185827   \n4 -0.218189 -0.192412  1.810782 -0.193642 -0.450274 -0.226035 -0.185827   \n\n   _SolventAccessibilityC1  \n0                -0.107799  \n1                 1.151108  \n2                 0.243955  \n3                -0.589146  \n4                -1.644406  \n\n[5 rows x 100 columns]",
      "text/html": "<div>\n<style scoped>\n    .dataframe tbody tr th:only-of-type {\n        vertical-align: middle;\n    }\n\n    .dataframe tbody tr th {\n        vertical-align: top;\n    }\n\n    .dataframe thead th {\n        text-align: right;\n    }\n</style>\n<table border=\"1\" class=\"dataframe\">\n  <thead>\n    <tr style=\"text-align: right;\">\n      <th></th>\n      <th>GQR</th>\n      <th>ETK</th>\n      <th>KRF</th>\n      <th>GKM</th>\n      <th>LVM</th>\n      <th>ADG</th>\n      <th>RQG</th>\n      <th>TS</th>\n      <th>SAN</th>\n      <th>NRS</th>\n      <th>...</th>\n      <th>IGM</th>\n      <th>_SolventAccessibilityT23</th>\n      <th>QPM</th>\n      <th>NIW</th>\n      <th>T</th>\n      <th>CMA</th>\n      <th>K</th>\n      <th>LMY</th>\n      <th>ICM</th>\n      <th>_SolventAccessibilityC1</th>\n    </tr>\n  </thead>\n  <tbody>\n    <tr>\n      <th>0</th>\n      <td>-0.287743</td>\n      <td>-0.301368</td>\n      <td>-0.289975</td>\n      <td>-0.248041</td>\n      <td>-0.26803</td>\n      <td>1.817367</td>\n      <td>-0.300111</td>\n      <td>-0.921269</td>\n      <td>-0.315313</td>\n      <td>-0.279966</td>\n      <td>...</td>\n      <td>-0.248737</td>\n      <td>0.151038</td>\n      <td>-0.218189</td>\n      <td>-0.192412</td>\n      <td>0.309394</td>\n      <td>-0.193642</td>\n      <td>-0.378718</td>\n      <td>-0.226035</td>\n      <td>-0.185827</td>\n      <td>-0.107799</td>\n    </tr>\n    <tr>\n      <th>1</th>\n      <td>-0.287743</td>\n      <td>-0.301368</td>\n      <td>-0.289975</td>\n      <td>-0.248041</td>\n      <td>-0.26803</td>\n      <td>-0.335474</td>\n      <td>-0.300111</td>\n      <td>-0.073354</td>\n      <td>-0.315313</td>\n      <td>-0.279966</td>\n      <td>...</td>\n      <td>-0.248737</td>\n      <td>-0.458539</td>\n      <td>-0.218189</td>\n      <td>-0.192412</td>\n      <td>-0.678440</td>\n      <td>-0.193642</td>\n      <td>-1.029394</td>\n      <td>-0.226035</td>\n      <td>-0.185827</td>\n      <td>1.151108</td>\n    </tr>\n    <tr>\n      <th>2</th>\n      <td>-0.287743</td>\n      <td>-0.301368</td>\n      <td>-0.289975</td>\n      <td>-0.248041</td>\n      <td>-0.26803</td>\n      <td>-0.335474</td>\n      <td>-0.300111</td>\n      <td>-0.921269</td>\n      <td>-0.315313</td>\n      <td>-0.279966</td>\n      <td>...</td>\n      <td>-0.248737</td>\n      <td>-0.702369</td>\n      <td>-0.218189</td>\n      <td>-0.192412</td>\n      <td>-0.970259</td>\n      <td>-0.193642</td>\n      <td>0.950440</td>\n      <td>-0.226035</td>\n      <td>-0.185827</td>\n      <td>0.243955</td>\n    </tr>\n    <tr>\n      <th>3</th>\n      <td>-0.287743</td>\n      <td>-0.301368</td>\n      <td>-0.289975</td>\n      <td>-0.248041</td>\n      <td>-0.26803</td>\n      <td>-0.335474</td>\n      <td>-0.300111</td>\n      <td>-0.126348</td>\n      <td>-0.315313</td>\n      <td>-0.279966</td>\n      <td>...</td>\n      <td>-0.248737</td>\n      <td>-0.214708</td>\n      <td>-0.218189</td>\n      <td>-0.192412</td>\n      <td>-0.065802</td>\n      <td>-0.193642</td>\n      <td>0.366500</td>\n      <td>-0.226035</td>\n      <td>-0.185827</td>\n      <td>-0.589146</td>\n    </tr>\n    <tr>\n      <th>4</th>\n      <td>-0.287743</td>\n      <td>-0.301368</td>\n      <td>-0.289975</td>\n      <td>-0.248041</td>\n      <td>-0.26803</td>\n      <td>-0.335474</td>\n      <td>-0.300111</td>\n      <td>0.032636</td>\n      <td>-0.315313</td>\n      <td>-0.279966</td>\n      <td>...</td>\n      <td>-0.248737</td>\n      <td>1.705457</td>\n      <td>-0.218189</td>\n      <td>-0.192412</td>\n      <td>1.810782</td>\n      <td>-0.193642</td>\n      <td>-0.450274</td>\n      <td>-0.226035</td>\n      <td>-0.185827</td>\n      <td>-1.644406</td>\n    </tr>\n  </tbody>\n</table>\n<p>5 rows × 100 columns</p>\n</div>"
     },
     "execution_count": 128,
     "metadata": {},
     "output_type": "execute_result"
    }
   ],
   "source": [
    "X_train_SM.head()"
   ],
   "metadata": {
    "collapsed": false
   }
  },
  {
   "cell_type": "code",
   "execution_count": 48,
   "outputs": [
    {
     "data": {
      "text/plain": "        DKY        GQ       EAQ        AV       FAT       KKM       AKK  \\\n0 -0.267463 -0.235935 -0.346617  0.824652 -0.283886 -0.269837 -0.391064   \n1 -0.267463  0.743002 -0.346617 -0.989898 -0.283886 -0.269837 -0.391064   \n2 -0.267463 -0.680907 -0.346617 -0.989898 -0.283886 -0.269837 -0.391064   \n3 -0.267463 -0.680907 -0.346617 -0.445533 -0.283886 -0.269837 -0.391064   \n4 -0.267463 -0.680907 -0.346617 -0.336660 -0.283886 -0.269837 -0.391064   \n\n         QT       KLM       KPN  ...       LMY       MAI       CMA       NIW  \\\n0 -0.760302 -0.280619 -0.252688  ... -0.225019 -0.241228 -0.192832 -0.191415   \n1  0.337159 -0.280619 -0.252688  ... -0.225019 -0.241228 -0.192832 -0.191415   \n2  2.429193 -0.280619 -0.252688  ... -0.225019 -0.241228 -0.192832 -0.191415   \n3 -0.760302 -0.280619 -0.252688  ... -0.225019 -0.241228 -0.192832 -0.191415   \n4  4.178271 -0.280619 -0.252688  ... -0.225019 -0.241228 -0.192832 -0.191415   \n\n   _SolventAccessibilityT23  _SolventAccessibilityC1       ICM       KGQ  \\\n0                  0.161105                -0.117881 -0.184867 -0.257779   \n1                 -0.445497                 1.130644 -0.184867 -0.257779   \n2                 -0.688137                 0.230972 -0.184867 -0.257779   \n3                 -0.202856                -0.595258 -0.184867 -0.257779   \n4                  1.707939                -1.641816 -0.184867 -0.257779   \n\n         AR        AL  \n0  0.009605  1.140561  \n1  3.146741 -1.184397  \n2 -0.815957  0.166985  \n3 -0.815957  0.588383  \n4 -0.072951 -1.184397  \n\n[5 rows x 100 columns]",
      "text/html": "<div>\n<style scoped>\n    .dataframe tbody tr th:only-of-type {\n        vertical-align: middle;\n    }\n\n    .dataframe tbody tr th {\n        vertical-align: top;\n    }\n\n    .dataframe thead th {\n        text-align: right;\n    }\n</style>\n<table border=\"1\" class=\"dataframe\">\n  <thead>\n    <tr style=\"text-align: right;\">\n      <th></th>\n      <th>DKY</th>\n      <th>GQ</th>\n      <th>EAQ</th>\n      <th>AV</th>\n      <th>FAT</th>\n      <th>KKM</th>\n      <th>AKK</th>\n      <th>QT</th>\n      <th>KLM</th>\n      <th>KPN</th>\n      <th>...</th>\n      <th>LMY</th>\n      <th>MAI</th>\n      <th>CMA</th>\n      <th>NIW</th>\n      <th>_SolventAccessibilityT23</th>\n      <th>_SolventAccessibilityC1</th>\n      <th>ICM</th>\n      <th>KGQ</th>\n      <th>AR</th>\n      <th>AL</th>\n    </tr>\n  </thead>\n  <tbody>\n    <tr>\n      <th>0</th>\n      <td>-0.267463</td>\n      <td>-0.235935</td>\n      <td>-0.346617</td>\n      <td>0.824652</td>\n      <td>-0.283886</td>\n      <td>-0.269837</td>\n      <td>-0.391064</td>\n      <td>-0.760302</td>\n      <td>-0.280619</td>\n      <td>-0.252688</td>\n      <td>...</td>\n      <td>-0.225019</td>\n      <td>-0.241228</td>\n      <td>-0.192832</td>\n      <td>-0.191415</td>\n      <td>0.161105</td>\n      <td>-0.117881</td>\n      <td>-0.184867</td>\n      <td>-0.257779</td>\n      <td>0.009605</td>\n      <td>1.140561</td>\n    </tr>\n    <tr>\n      <th>1</th>\n      <td>-0.267463</td>\n      <td>0.743002</td>\n      <td>-0.346617</td>\n      <td>-0.989898</td>\n      <td>-0.283886</td>\n      <td>-0.269837</td>\n      <td>-0.391064</td>\n      <td>0.337159</td>\n      <td>-0.280619</td>\n      <td>-0.252688</td>\n      <td>...</td>\n      <td>-0.225019</td>\n      <td>-0.241228</td>\n      <td>-0.192832</td>\n      <td>-0.191415</td>\n      <td>-0.445497</td>\n      <td>1.130644</td>\n      <td>-0.184867</td>\n      <td>-0.257779</td>\n      <td>3.146741</td>\n      <td>-1.184397</td>\n    </tr>\n    <tr>\n      <th>2</th>\n      <td>-0.267463</td>\n      <td>-0.680907</td>\n      <td>-0.346617</td>\n      <td>-0.989898</td>\n      <td>-0.283886</td>\n      <td>-0.269837</td>\n      <td>-0.391064</td>\n      <td>2.429193</td>\n      <td>-0.280619</td>\n      <td>-0.252688</td>\n      <td>...</td>\n      <td>-0.225019</td>\n      <td>-0.241228</td>\n      <td>-0.192832</td>\n      <td>-0.191415</td>\n      <td>-0.688137</td>\n      <td>0.230972</td>\n      <td>-0.184867</td>\n      <td>-0.257779</td>\n      <td>-0.815957</td>\n      <td>0.166985</td>\n    </tr>\n    <tr>\n      <th>3</th>\n      <td>-0.267463</td>\n      <td>-0.680907</td>\n      <td>-0.346617</td>\n      <td>-0.445533</td>\n      <td>-0.283886</td>\n      <td>-0.269837</td>\n      <td>-0.391064</td>\n      <td>-0.760302</td>\n      <td>-0.280619</td>\n      <td>-0.252688</td>\n      <td>...</td>\n      <td>-0.225019</td>\n      <td>-0.241228</td>\n      <td>-0.192832</td>\n      <td>-0.191415</td>\n      <td>-0.202856</td>\n      <td>-0.595258</td>\n      <td>-0.184867</td>\n      <td>-0.257779</td>\n      <td>-0.815957</td>\n      <td>0.588383</td>\n    </tr>\n    <tr>\n      <th>4</th>\n      <td>-0.267463</td>\n      <td>-0.680907</td>\n      <td>-0.346617</td>\n      <td>-0.336660</td>\n      <td>-0.283886</td>\n      <td>-0.269837</td>\n      <td>-0.391064</td>\n      <td>4.178271</td>\n      <td>-0.280619</td>\n      <td>-0.252688</td>\n      <td>...</td>\n      <td>-0.225019</td>\n      <td>-0.241228</td>\n      <td>-0.192832</td>\n      <td>-0.191415</td>\n      <td>1.707939</td>\n      <td>-1.641816</td>\n      <td>-0.184867</td>\n      <td>-0.257779</td>\n      <td>-0.072951</td>\n      <td>-1.184397</td>\n    </tr>\n  </tbody>\n</table>\n<p>5 rows × 100 columns</p>\n</div>"
     },
     "execution_count": 48,
     "metadata": {},
     "output_type": "execute_result"
    }
   ],
   "source": [
    "X_train_PS.head()"
   ],
   "metadata": {
    "collapsed": false
   }
  },
  {
   "cell_type": "markdown",
   "source": [
    "<b>Correlations</b> (pairs of variables)"
   ],
   "metadata": {
    "collapsed": false
   }
  },
  {
   "cell_type": "markdown",
   "source": [
    "Um problema que pode ocorrer nos dados é a multicolinearidade, quando se observa correlações elevadas entre variáveis independentes. Isto pode fazer com que os resultados obtidos de análises de machine leraning, como na aplicação de regressões lineares, não sejam fidedígnos. **(explicar?)** Desta forma, deve-se remover uma das variáveis altamente correlacionadas, de preferência a que está menos correlacionada com a variável alvo.\n",
    "\n",
    "Desta forma, criou-se uma função para averiguar a possibilidade de multicolinearidade (usando as correlações de pearson e spearman) e devolvendo os pares de variáveis com correlações elevadas. Na generalidade, considera-se uma correlação elevada quando se obtém um valor absoluto igual ou superior a 0.8.\n",
    "\n",
    "Após ser analisado uma correlação elevada, compara-se cada variável independente com a dependente, de forma a averiguar qual é a que está menos correlacionada e, portanto, deve ser removida. A função devolve, assim, os pares de variáveis altamente correlacionados, e ainda qual a variável desse par que deverá ser removida."
   ],
   "metadata": {
    "collapsed": false
   }
  },
  {
   "cell_type": "code",
   "execution_count": 23,
   "outputs": [],
   "source": [
    "# Function to determine the independent variables that are highly correlated with one another\n",
    "# (they result in less reliable statistical inference)\n",
    "\n",
    "def _check_xy_corr(y_data:pd.DataFrame, var1:str, var2:str):\n",
    "    \"\"\"\n",
    "    Returns the name of the variable worse correlated to y\n",
    "    \"\"\"\n",
    "    corr1 = y_data.loc[var1,:]\n",
    "    corr2 = y_data.loc[var2,:]\n",
    "\n",
    "    if corr1 < corr2:\n",
    "        return var1\n",
    "    else:\n",
    "        return var2\n",
    "\n",
    "\n",
    "def multicolinearity(x_data:pd.DataFrame, y_data:pd.DataFrame, perc:float=0.8, method=\"pearson\") -> list:\n",
    "    \"\"\"\n",
    "    Selects pair os variables with collinearity above a given threshold.\n",
    "\n",
    "    Parameters\n",
    "    ----------\n",
    "    :param x_data: Dataframe with independent variables\n",
    "    :param y_var: Indicates column index or name of the dependent variable. If non-existent, define this parameter as None.\n",
    "    :param perc: Collinearity percentage threshold\n",
    "    :param method: Method to determine correlation between variables ('pearson', 'kendall', 'spearman')\n",
    "    \"\"\"\n",
    "\n",
    "    corr = x_data.corr(method=method.lower())\n",
    "    result = []\n",
    "    check = 1\n",
    "    for l in corr:\n",
    "        for ix,val in enumerate(corr[l][check:]):\n",
    "            if val>=perc:\n",
    "                var1, var2 = (l, corr.index[ix])\n",
    "                if y_data:\n",
    "                    least_corr = _check_xy_corr(y_data, var1, var2)\n",
    "                    result.append(((var1, var2), least_corr))\n",
    "                else:\n",
    "                    result.append((var1, var2))\n",
    "            check += 1\n",
    "    return result"
   ],
   "metadata": {
    "collapsed": false
   }
  },
  {
   "cell_type": "code",
   "execution_count": 24,
   "outputs": [],
   "source": [
    "multicol_sm = multicolinearity(X_train_SM, y_train, perc=0.8, method=\"spearman\")\n",
    "\n",
    "for elem in multicol_sm:\n",
    "    print(elem)\n",
    "#Multicollinearity non-existent"
   ],
   "metadata": {
    "collapsed": false
   }
  },
  {
   "cell_type": "code",
   "execution_count": 25,
   "outputs": [],
   "source": [
    "multicol_ps = multicolinearity(X_train_PS, y_train, perc=0.8, method=\"pearson\")\n",
    "\n",
    "for elem in multicol_ps:\n",
    "    print(elem)\n",
    "#Multicollinearity non-existent"
   ],
   "metadata": {
    "collapsed": false
   }
  },
  {
   "cell_type": "markdown",
   "source": [
    "Em nenhum dos casos (considerando os 100 descritores mais relevantes pelo método de spearman e pearson) se observou multicolinearidade.\n",
    "\n",
    "Caso tivesse sido observado, utilizaríamos o seguinte bloco de código para remover as variáveis menos correlacionadas com a variável dependente."
   ],
   "metadata": {
    "collapsed": false
   }
  },
  {
   "cell_type": "code",
   "execution_count": 67,
   "outputs": [],
   "source": [
    "# Eliminate variables with multicollinearity\n",
    "\n",
    "#pairs, least_corr = list(zip(*multicol))\n",
    "#least_corr = set(least_corr)\n",
    "\n",
    "#for elem in least_corr:\n",
    "#    del X_train[elem]"
   ],
   "metadata": {
    "collapsed": false
   }
  },
  {
   "cell_type": "markdown",
   "source": [
    "# Unsupervised learning"
   ],
   "metadata": {
    "collapsed": false
   }
  },
  {
   "cell_type": "markdown",
   "source": [
    "Passando para a análise dos dados, começamos aplicar algoritmos de aprendizagem não-supervisionada, ou seja, que não tem em conta a variável dependente. Retiram inferências apenas a partir dos descritores, podendo ser aplicados para reduzir a dimensionalidade do dataset, e até mesmo agrupar os dados de acordo com a sua proximidade.\n",
    "\n",
    "Os algoritmos de aprendizagem não-supervivionada, como o PCA, são sensíveis às escalas dos valores e outliers. Uma vez que já se efetuou a standardização dos dados, não é necessário efetuar esse passo novamente. Relativamente aos outliers, procuraram-se as linhas que contêm apenas valores inferiores a 3, ou seja, que contêm valores inferiores a 3 vezes o desvio padrão (considerando-se outlier). Desta forma, são removidas as linhas que não satisfazem esta condição."
   ],
   "metadata": {
    "collapsed": false
   }
  },
  {
   "cell_type": "code",
   "execution_count": 17,
   "outputs": [
    {
     "name": "stdout",
     "output_type": "stream",
     "text": [
      "(28403, 100)\n",
      "(5948, 100)\n",
      "(5948,)\n",
      "\n",
      "(28403, 100)\n",
      "(6477, 100)\n",
      "(6477,)\n"
     ]
    }
   ],
   "source": [
    "#Removing outliers\n",
    "\n",
    "\n",
    "\n",
    "X_train_PS_clean = X_train_PS[(np.abs(X_train_PS) < 3).all(axis=1)]\n",
    "X_train_PS_clean.index = range(len(X_train_PS_clean))\n",
    "X_train_SM_clean = X_train_SM[(np.abs(X_train_SM) < 3).all(axis=1)]\n",
    "X_train_SM_clean.index = range(len(X_train_SM_clean))\n",
    "\n",
    "y_train_PS = y_train.loc[list((np.abs(X_train_PS) < 3).all(axis=1))]\n",
    "y_train_PS.index = range(len(y_train_PS))\n",
    "y_train_SM = y_train.loc[list((np.abs(X_train_SM) < 3).all(axis=1))]\n",
    "y_train_SM.index = range(len(y_train_SM))\n",
    "\n",
    "print(X_train_PS.shape)\n",
    "print(X_train_PS_clean.shape)\n",
    "print(y_train_PS.shape)\n",
    "print()\n",
    "print(X_train_SM.shape)\n",
    "print(X_train_SM_clean.shape)\n",
    "print(y_train_SM.shape)\n",
    "#df[(np.abs(stats.zscore(df)) < 3).all(axis=1)]"
   ],
   "metadata": {
    "collapsed": false
   }
  },
  {
   "cell_type": "code",
   "execution_count": 30,
   "id": "236e9d10",
   "metadata": {
    "collapsed": false,
    "jupyter": {
     "outputs_hidden": false
    }
   },
   "outputs": [
    {
     "data": {
      "text/plain": "         DKY        GQ       EAQ        AV       FAT       KKM       AKK  \\\n15 -0.267463  0.431522 -0.346617 -0.082623 -0.283886 -0.269837 -0.391064   \n16 -0.267463  0.720753 -0.346617  0.389160 -0.283886 -0.269837 -0.391064   \n19 -0.267463 -0.146941 -0.346617 -0.554406 -0.283886 -0.269837 -0.391064   \n29 -0.267463 -0.680907 -0.346617 -0.391097 -0.283886 -0.269837 -0.391064   \n31 -0.267463  0.387025 -0.346617 -0.554406 -0.283886 -0.269837 -0.391064   \n\n          QT       KLM       KPN  ...       LMY       MAI       CMA       NIW  \\\n15  0.954480 -0.280619 -0.252688  ... -0.225019 -0.241228 -0.192832 -0.191415   \n16 -0.314459 -0.280619 -0.252688  ... -0.225019 -0.241228 -0.192832 -0.191415   \n19  0.062793 -0.280619 -0.252688  ... -0.225019 -0.241228 -0.192832 -0.191415   \n29 -0.760302 -0.280619 -0.252688  ... -0.225019 -0.241228 -0.192832 -0.191415   \n31 -0.760302 -0.280619 -0.252688  ... -0.225019 -0.241228 -0.192832 -0.191415   \n\n    _SolventAccessibilityT23  _SolventAccessibilityC1       ICM       KGQ  \\\n15                  0.464406                -0.521816 -0.184867 -0.257779   \n16                 -0.384836                 0.084086 -0.184867 -0.257779   \n19                  0.858697                -0.852308 -0.184867 -0.257779   \n29                 -0.263516                 0.561464 -0.184867 -0.257779   \n31                 -0.172526                -0.319848 -0.184867 -0.257779   \n\n          AR        AL  \n15  0.215995  0.254170  \n16 -0.299981  0.094330  \n19 -0.320620 -0.835654  \n29  0.546220  0.239639  \n31  0.174717 -0.138166  \n\n[5 rows x 100 columns]",
      "text/html": "<div>\n<style scoped>\n    .dataframe tbody tr th:only-of-type {\n        vertical-align: middle;\n    }\n\n    .dataframe tbody tr th {\n        vertical-align: top;\n    }\n\n    .dataframe thead th {\n        text-align: right;\n    }\n</style>\n<table border=\"1\" class=\"dataframe\">\n  <thead>\n    <tr style=\"text-align: right;\">\n      <th></th>\n      <th>DKY</th>\n      <th>GQ</th>\n      <th>EAQ</th>\n      <th>AV</th>\n      <th>FAT</th>\n      <th>KKM</th>\n      <th>AKK</th>\n      <th>QT</th>\n      <th>KLM</th>\n      <th>KPN</th>\n      <th>...</th>\n      <th>LMY</th>\n      <th>MAI</th>\n      <th>CMA</th>\n      <th>NIW</th>\n      <th>_SolventAccessibilityT23</th>\n      <th>_SolventAccessibilityC1</th>\n      <th>ICM</th>\n      <th>KGQ</th>\n      <th>AR</th>\n      <th>AL</th>\n    </tr>\n  </thead>\n  <tbody>\n    <tr>\n      <th>15</th>\n      <td>-0.267463</td>\n      <td>0.431522</td>\n      <td>-0.346617</td>\n      <td>-0.082623</td>\n      <td>-0.283886</td>\n      <td>-0.269837</td>\n      <td>-0.391064</td>\n      <td>0.954480</td>\n      <td>-0.280619</td>\n      <td>-0.252688</td>\n      <td>...</td>\n      <td>-0.225019</td>\n      <td>-0.241228</td>\n      <td>-0.192832</td>\n      <td>-0.191415</td>\n      <td>0.464406</td>\n      <td>-0.521816</td>\n      <td>-0.184867</td>\n      <td>-0.257779</td>\n      <td>0.215995</td>\n      <td>0.254170</td>\n    </tr>\n    <tr>\n      <th>16</th>\n      <td>-0.267463</td>\n      <td>0.720753</td>\n      <td>-0.346617</td>\n      <td>0.389160</td>\n      <td>-0.283886</td>\n      <td>-0.269837</td>\n      <td>-0.391064</td>\n      <td>-0.314459</td>\n      <td>-0.280619</td>\n      <td>-0.252688</td>\n      <td>...</td>\n      <td>-0.225019</td>\n      <td>-0.241228</td>\n      <td>-0.192832</td>\n      <td>-0.191415</td>\n      <td>-0.384836</td>\n      <td>0.084086</td>\n      <td>-0.184867</td>\n      <td>-0.257779</td>\n      <td>-0.299981</td>\n      <td>0.094330</td>\n    </tr>\n    <tr>\n      <th>19</th>\n      <td>-0.267463</td>\n      <td>-0.146941</td>\n      <td>-0.346617</td>\n      <td>-0.554406</td>\n      <td>-0.283886</td>\n      <td>-0.269837</td>\n      <td>-0.391064</td>\n      <td>0.062793</td>\n      <td>-0.280619</td>\n      <td>-0.252688</td>\n      <td>...</td>\n      <td>-0.225019</td>\n      <td>-0.241228</td>\n      <td>-0.192832</td>\n      <td>-0.191415</td>\n      <td>0.858697</td>\n      <td>-0.852308</td>\n      <td>-0.184867</td>\n      <td>-0.257779</td>\n      <td>-0.320620</td>\n      <td>-0.835654</td>\n    </tr>\n    <tr>\n      <th>29</th>\n      <td>-0.267463</td>\n      <td>-0.680907</td>\n      <td>-0.346617</td>\n      <td>-0.391097</td>\n      <td>-0.283886</td>\n      <td>-0.269837</td>\n      <td>-0.391064</td>\n      <td>-0.760302</td>\n      <td>-0.280619</td>\n      <td>-0.252688</td>\n      <td>...</td>\n      <td>-0.225019</td>\n      <td>-0.241228</td>\n      <td>-0.192832</td>\n      <td>-0.191415</td>\n      <td>-0.263516</td>\n      <td>0.561464</td>\n      <td>-0.184867</td>\n      <td>-0.257779</td>\n      <td>0.546220</td>\n      <td>0.239639</td>\n    </tr>\n    <tr>\n      <th>31</th>\n      <td>-0.267463</td>\n      <td>0.387025</td>\n      <td>-0.346617</td>\n      <td>-0.554406</td>\n      <td>-0.283886</td>\n      <td>-0.269837</td>\n      <td>-0.391064</td>\n      <td>-0.760302</td>\n      <td>-0.280619</td>\n      <td>-0.252688</td>\n      <td>...</td>\n      <td>-0.225019</td>\n      <td>-0.241228</td>\n      <td>-0.192832</td>\n      <td>-0.191415</td>\n      <td>-0.172526</td>\n      <td>-0.319848</td>\n      <td>-0.184867</td>\n      <td>-0.257779</td>\n      <td>0.174717</td>\n      <td>-0.138166</td>\n    </tr>\n  </tbody>\n</table>\n<p>5 rows × 100 columns</p>\n</div>"
     },
     "execution_count": 30,
     "metadata": {},
     "output_type": "execute_result"
    }
   ],
   "source": [
    "X_train_PS_clean.head()"
   ]
  },
  {
   "cell_type": "markdown",
   "source": [
    "Foi possível remover 22222 amostras do dataset do pearson, e 21726 amostras do dataset do spearman. As novas variáveis criadas têm valores mais homogênios que vão permitir uma prestação mais fidedígna dos algoritmos de aprendizagem não-supervisionada. Vamos analisar o efeito de 2 algoritmos: **PCA** e **tSNE**."
   ],
   "metadata": {
    "collapsed": false
   }
  },
  {
   "cell_type": "markdown",
   "id": "467d52c2",
   "metadata": {},
   "source": [
    "#### PCA"
   ]
  },
  {
   "cell_type": "markdown",
   "source": [
    "Começamos com o algorítmo do PCA (Principal Components Analysis). Este algoritmo tem o objetivo de reduzir a dimensionalidade, ao encontrar uma nova forma de representar os dados que explique o máximo da variância possível. Desta forma, é geralmente possível eliminar informação que não contribui muito para a variabilidade dos dados, fornecendo dados menos ruidosos aos eventuais algoritmos de aprendizagem aplicados."
   ],
   "metadata": {
    "collapsed": false
   }
  },
  {
   "cell_type": "code",
   "execution_count": 130,
   "id": "9d818e4e",
   "metadata": {
    "collapsed": false,
    "jupyter": {
     "outputs_hidden": false
    }
   },
   "outputs": [],
   "source": [
    "from sklearn.decomposition import PCA\n",
    "\n",
    "pca_SM = PCA()\n",
    "pca_SM.fit(X_train_SM_clean)\n",
    "x_reduced_SM = pca_SM.transform(X_train_SM_clean)\n",
    "\n",
    "pca_PS = PCA()\n",
    "pca_PS.fit(X_train_PS_clean)\n",
    "x_reduced_PS = pca_PS.transform(X_train_PS_clean)"
   ]
  },
  {
   "cell_type": "code",
   "execution_count": 131,
   "id": "5936e78c",
   "metadata": {
    "collapsed": true,
    "jupyter": {
     "outputs_hidden": true
    },
    "tags": []
   },
   "outputs": [
    {
     "name": "stdout",
     "output_type": "stream",
     "text": [
      "[1.58349946e+01 1.19868417e+01 7.69860902e+00 5.78776121e+00\n",
      " 4.55715104e+00 3.61589294e+00 3.09353735e+00 2.80958183e+00\n",
      " 2.66072014e+00 2.34178112e+00 2.09030455e+00 1.95181483e+00\n",
      " 1.92950259e+00 1.77384607e+00 1.70977808e+00 1.68653116e+00\n",
      " 1.57966308e+00 1.48635047e+00 1.36186695e+00 1.30986550e+00\n",
      " 1.25323662e+00 1.10317744e+00 1.07231966e+00 1.00774743e+00\n",
      " 9.86784333e-01 9.46418059e-01 9.26852830e-01 8.92194457e-01\n",
      " 8.77838259e-01 8.48371205e-01 8.46325056e-01 8.29659537e-01\n",
      " 8.01798273e-01 7.94884979e-01 7.80413081e-01 7.67277296e-01\n",
      " 7.44147847e-01 7.16520115e-01 7.05616514e-01 6.92158194e-01\n",
      " 6.65515813e-01 5.57787611e-01 5.55566651e-01 5.27902376e-01\n",
      " 5.06248142e-01 4.82487518e-01 4.39759189e-01 4.06054190e-01\n",
      " 4.02015064e-01 3.83264184e-01 2.13263837e-01 3.12417291e-30\n",
      " 1.00606850e-30 9.32823811e-31 6.77004404e-31 4.91479842e-31\n",
      " 4.90945494e-31 3.03792203e-31 2.53950748e-31 2.40682866e-31\n",
      " 1.30506360e-31 9.62562489e-32 8.45212637e-32 8.45212637e-32\n",
      " 8.45212637e-32 8.45212637e-32 8.45212637e-32 8.45212637e-32\n",
      " 8.45212637e-32 8.45212637e-32 8.45212637e-32 8.45212637e-32\n",
      " 8.45212637e-32 8.45212637e-32 8.45212637e-32 8.45212637e-32\n",
      " 8.45212637e-32 8.45212637e-32 8.45212637e-32 8.45212637e-32\n",
      " 8.45212637e-32 8.45212637e-32 8.45212637e-32 8.45212637e-32\n",
      " 8.45212637e-32 8.45212637e-32 8.45212637e-32 8.45212637e-32\n",
      " 8.45212637e-32 8.45212637e-32 8.45212637e-32 8.45212637e-32\n",
      " 8.45212637e-32 8.45212637e-32 8.45212637e-32 8.45212637e-32\n",
      " 8.30633775e-32 4.79376546e-32 2.81308248e-32 1.09771841e-32]\n",
      "\n",
      "Spearman:\n",
      "Número total de PCs: 100\n",
      "Número de PCs necessários para explicar 95% da variância: 41\n"
     ]
    },
    {
     "data": {
      "text/plain": "<Figure size 432x288 with 1 Axes>",
      "image/png": "[encoded data removed]"
     },
     "metadata": {},
     "output_type": "display_data"
    }
   ],
   "source": [
    "print(pca_SM.explained_variance_ratio_*100)\n",
    "\n",
    "print()\n",
    "print(\"Spearman:\")\n",
    "print(f\"Número total de PCs: {pca_SM.n_components_}\")\n",
    "print(f\"Número de PCs necessários para explicar 95% da variância: \\\n",
    "{sum(pca_SM.explained_variance_ratio_.cumsum() < 0.95) + 1}\")\n",
    "\n",
    "plt.bar(range(4), pca_SM.explained_variance_ratio_[:4]*100)\n",
    "plt.xticks(range(4), ['PC'+str(i) for i in range(1,5)])\n",
    "plt.title(\"Variância explicada por PC\")\n",
    "plt.ylabel(\"Percentagem\")\n",
    "plt.show()"
   ]
  },
  {
   "cell_type": "code",
   "execution_count": 132,
   "id": "c65706fe",
   "metadata": {
    "collapsed": true,
    "jupyter": {
     "outputs_hidden": true
    },
    "tags": []
   },
   "outputs": [
    {
     "name": "stdout",
     "output_type": "stream",
     "text": [
      "[1.37852940e+01 1.16982816e+01 9.24791356e+00 6.62364218e+00\n",
      " 5.17924856e+00 4.23030726e+00 3.15678657e+00 2.96802570e+00\n",
      " 2.75196204e+00 2.59458985e+00 2.07394720e+00 2.06367677e+00\n",
      " 1.93450496e+00 1.87517368e+00 1.78896947e+00 1.67624857e+00\n",
      " 1.56575690e+00 1.53979298e+00 1.48090454e+00 1.44162142e+00\n",
      " 1.34480829e+00 1.20400829e+00 1.12530345e+00 1.09938136e+00\n",
      " 9.86151953e-01 9.26902232e-01 8.61259244e-01 8.56166813e-01\n",
      " 8.48130658e-01 8.13589295e-01 7.91618237e-01 7.36713830e-01\n",
      " 7.26963634e-01 7.06370113e-01 6.50835634e-01 6.21134742e-01\n",
      " 5.93519139e-01 5.72303308e-01 5.35604244e-01 5.14758114e-01\n",
      " 5.03816602e-01 4.96057283e-01 4.45902545e-01 4.34321668e-01\n",
      " 4.02778364e-01 3.97518502e-01 3.81252062e-01 2.98513360e-01\n",
      " 2.56083975e-01 1.91585319e-01 2.71890802e-30 7.99448038e-31\n",
      " 6.01647897e-31 4.84908893e-31 4.28612401e-31 4.08482469e-31\n",
      " 3.30915483e-31 2.52591868e-31 1.93035826e-31 1.55499273e-31\n",
      " 9.69289533e-32 6.17276016e-32 6.17276016e-32 6.17276016e-32\n",
      " 6.17276016e-32 6.17276016e-32 6.17276016e-32 6.17276016e-32\n",
      " 6.17276016e-32 6.17276016e-32 6.17276016e-32 6.17276016e-32\n",
      " 6.17276016e-32 6.17276016e-32 6.17276016e-32 6.17276016e-32\n",
      " 6.17276016e-32 6.17276016e-32 6.17276016e-32 6.17276016e-32\n",
      " 6.17276016e-32 6.17276016e-32 6.17276016e-32 6.17276016e-32\n",
      " 6.17276016e-32 6.17276016e-32 6.17276016e-32 6.17276016e-32\n",
      " 6.17276016e-32 6.17276016e-32 6.17276016e-32 6.17276016e-32\n",
      " 6.17276016e-32 6.17276016e-32 6.17276016e-32 6.14515070e-32\n",
      " 5.33539671e-32 2.50275243e-32 2.33903103e-32 1.77107162e-33]\n",
      "\n",
      "Pearson:\n",
      "Número total de PCs: 100\n",
      "Número de PCs necessários para explicar 95% da variância: 38\n"
     ]
    },
    {
     "data": {
      "text/plain": "<Figure size 432x288 with 1 Axes>",
      "image/png": "[encoded data removed]"
     },
     "metadata": {},
     "output_type": "display_data"
    }
   ],
   "source": [
    "print(pca_PS.explained_variance_ratio_*100)\n",
    "\n",
    "print()\n",
    "print(\"Pearson:\")\n",
    "print(f\"Número total de PCs: {pca_PS.n_components_}\")\n",
    "print(f\"Número de PCs necessários para explicar 95% da variância: \\\n",
    "{sum(pca_PS.explained_variance_ratio_.cumsum() < 0.95) + 1}\")\n",
    "\n",
    "plt.bar(range(4), pca_PS.explained_variance_ratio_[:4]*100)\n",
    "plt.xticks(range(4), ['PC'+str(i) for i in range(1,5)])\n",
    "plt.title(\"Variância explicada por PC\")\n",
    "plt.ylabel(\"Percentagem\")\n",
    "plt.show()"
   ]
  },
  {
   "cell_type": "markdown",
   "source": [
    "Os resultados demonstram que, para os 100 melhores features selecionados pelo método de spearman, é possível utilizar apenas 41 componentes para explicar 95% da variância, e para os 100 features selecionados pelo método de spearman, é possível utilizar apenas 38 componentes.\n",
    "\n",
    "*NOTA: ao utilizar os dados isentos de outliers (valores standardizados superiores a 3), obtivemos resultados muito insatisfatórios na aprendizagem supervisionada, pelo que decidimos não utilizar estes dados, nem os reduzidos pelo PCA.*"
   ],
   "metadata": {
    "collapsed": false
   }
  },
  {
   "cell_type": "markdown",
   "id": "fb95d947",
   "metadata": {},
   "source": [
    "#### t-SNE"
   ]
  },
  {
   "cell_type": "markdown",
   "source": [
    "tSNE ('t-distributed Stochastic Neighbor Embedding') aplica um método de redução de dimensionalidade semelhante ao PCA, mas tem como principal foco a visualização dos dados transformados. Neste caso, é necessário definir em quantos grupos deverão ser separados os dados. Como a variável dependente se trata de de valores contínuos, não é óbvio o número de grupos que se deverá separar os dados. Desta forma, optou-se por separá-los em 3 grupos baseados na variável dependente:\n",
    "\n",
    "- os que estão próximos da média;\n",
    "- os que estão acima de um desvio-padrão da média;\n",
    "- os que estão abaixo de um desvio-padrão da média.\n",
    "\n",
    "Apesar deste algoritmo não ser tão sensível a outliers como no caso do PCA, vamos efetuar a análise sem outliers para visualizar melhor os gráficos resultantes. É, contudo, um algoritmo com elevado peso computacional, pelo que pode demorar bastante tempo a correr."
   ],
   "metadata": {
    "collapsed": false
   }
  },
  {
   "cell_type": "code",
   "execution_count": 80,
   "outputs": [],
   "source": [
    "mean = y_train.mean()\n",
    "std = y_train.std()\n",
    "\n",
    "ub = mean+std\n",
    "lb = mean-std"
   ],
   "metadata": {
    "collapsed": false
   }
  },
  {
   "cell_type": "code",
   "execution_count": 87,
   "id": "d0c13e48",
   "metadata": {
    "collapsed": true,
    "jupyter": {
     "outputs_hidden": true
    },
    "tags": []
   },
   "outputs": [
    {
     "name": "stderr",
     "output_type": "stream",
     "text": [
      "C:\\Users\\rober\\anaconda3\\lib\\site-packages\\sklearn\\manifold\\_t_sne.py:800: FutureWarning: The default initialization in TSNE will change from 'random' to 'pca' in 1.2.\n",
      "  warnings.warn(\n",
      "C:\\Users\\rober\\anaconda3\\lib\\site-packages\\sklearn\\manifold\\_t_sne.py:810: FutureWarning: The default learning rate in TSNE will change from 200.0 to 'auto' in 1.2.\n",
      "  warnings.warn(\n",
      "C:\\Users\\rober\\anaconda3\\lib\\site-packages\\sklearn\\manifold\\_t_sne.py:800: FutureWarning: The default initialization in TSNE will change from 'random' to 'pca' in 1.2.\n",
      "  warnings.warn(\n",
      "C:\\Users\\rober\\anaconda3\\lib\\site-packages\\sklearn\\manifold\\_t_sne.py:810: FutureWarning: The default learning rate in TSNE will change from 200.0 to 'auto' in 1.2.\n",
      "  warnings.warn(\n"
     ]
    }
   ],
   "source": [
    "from sklearn.manifold import TSNE\n",
    "tsne = TSNE(n_components=2, n_iter=1000)\n",
    "\n",
    "points_sm = tsne.fit_transform(X_train_SM_clean)\n",
    "points_ps = tsne.fit_transform(X_train_PS_clean)\n",
    "\n",
    "group1_sm = y_train_SM.index[y_train_SM > ub]\n",
    "group2_sm = y_train_SM.index[(y_train_SM <= lb) & (y_train_SM > lb)]\n",
    "group3_sm = y_train_SM.index[y_train_SM <= lb]\n",
    "\n",
    "group1_ps = y_train_PS.index[y_train_PS > ub]\n",
    "group2_ps = y_train_PS.index[(y_train_PS <= lb) & (y_train_PS > lb)]\n",
    "group3_ps = y_train_PS.index[y_train_PS <= lb]"
   ]
  },
  {
   "cell_type": "code",
   "execution_count": 88,
   "id": "a59d6d71",
   "metadata": {
    "collapsed": true,
    "jupyter": {
     "outputs_hidden": true
    },
    "tags": []
   },
   "outputs": [
    {
     "data": {
      "text/plain": "<Figure size 432x288 with 1 Axes>",
      "image/png": "[encoded data removed]"
     },
     "metadata": {},
     "output_type": "display_data"
    }
   ],
   "source": [
    "for group, lab in zip((group1_sm, group2_sm, group3_sm), (\"> mean+std\", \"> mean-std\", \"< mean-std\")):\n",
    "    plt.plot(points_sm[group,0], points_sm[group,1], \"o\", label=lab)\n",
    "plt.title(\"tSNE (Spearman)\")\n",
    "plt.legend(loc=\"best\")\n",
    "plt.show()"
   ]
  },
  {
   "cell_type": "code",
   "execution_count": 89,
   "id": "66f2f54c",
   "metadata": {
    "collapsed": true,
    "jupyter": {
     "outputs_hidden": true
    },
    "tags": []
   },
   "outputs": [
    {
     "data": {
      "text/plain": "<Figure size 432x288 with 1 Axes>",
      "image/png": "[encoded data removed]"
     },
     "metadata": {},
     "output_type": "display_data"
    }
   ],
   "source": [
    "for group, lab in zip((group1_ps, group2_ps, group3_ps), (\"> mean+std\", \"> mean-std\", \"< mean-std\")):\n",
    "    plt.plot(points_ps[group,0], points_ps[group,1], \"o\", label=lab)\n",
    "plt.title(\"tSNE (Pearson)\")\n",
    "plt.legend(loc=\"best\")\n",
    "plt.show()"
   ]
  },
  {
   "cell_type": "markdown",
   "source": [
    "Os resultados demonstram que não é possível separar de forma clara os pontos com base nos grupos definidos."
   ],
   "metadata": {
    "collapsed": false
   }
  },
  {
   "cell_type": "markdown",
   "id": "5725a1ab-4187-4b44-9100-e4dd166f0d8e",
   "metadata": {
    "jupyter": {
     "outputs_hidden": false
    }
   },
   "source": [
    "# Supervised learning"
   ]
  },
  {
   "cell_type": "markdown",
   "id": "bc515b9c-8d8f-4772-9153-b700e8454baa",
   "metadata": {},
   "source": [
    "#### Get best combination dataset-model"
   ]
  },
  {
   "cell_type": "code",
   "execution_count": 17,
   "id": "e2ff20ec-333d-426f-a9fb-7531c1658800",
   "metadata": {},
   "outputs": [],
   "source": [
    "from sklearn.ensemble import RandomForestRegressor as RFR\n",
    "from sklearn.ensemble import AdaBoostRegressor as ADA\n",
    "from sklearn.model_selection import cross_validate\n",
    "from sklearn.neural_network import MLPRegressor as MLPR\n",
    "from sklearn.preprocessing import StandardScaler\n",
    "from sklearn.svm import SVR\n",
    "from sklearn.linear_model import LinearRegression as LR"
   ]
  },
  {
   "cell_type": "code",
   "execution_count": 18,
   "id": "62077a11-790f-431f-8422-b78393b31403",
   "metadata": {},
   "outputs": [],
   "source": [
    "DEFAULT_NUMS = [100, 400, 800, 1200]"
   ]
  },
  {
   "cell_type": "code",
   "execution_count": 19,
   "id": "cd667d78-a525-4f69-9a23-adf08ba73cca",
   "metadata": {},
   "outputs": [],
   "source": [
    "def test_corr_models(model, method, scores, cv=5, num_feats=DEFAULT_NUMS):\n",
    "    print(f\"Getting results for {model.__class__.__name__} using {method}...\\n\")\n",
    "    for k in num_feats:\n",
    "        best_scores = get_k_best_corrs(k, scores) #Get best features\n",
    "        #data_scaled = StandardScaler().fit_transform(X_train_sc.loc[:,best_scores.keys()]) #Select data of best features\n",
    "        result = cross_validate(model, X_train_sc.loc[:, best_scores.keys()], y_train, cv=cv, return_train_score=True)\n",
    "        mean_train = np.sum(result[\"train_score\"]) / cv\n",
    "        mean_test = np.sum(result[\"test_score\"]) / cv\n",
    "        print(f\"Results for {k} best features\")\n",
    "        print(f\"Train scores: {result['train_score']} -> {mean_train = :.4f}\")\n",
    "        print(f\"Test scores: {result['test_score']} -> {mean_test = :.4f}\\n\")"
   ]
  },
  {
   "cell_type": "markdown",
   "id": "13ab4536-e6b1-422f-b881-8e9f5b8b87e9",
   "metadata": {},
   "source": [
    "##### Pearson"
   ]
  },
  {
   "cell_type": "code",
   "execution_count": 20,
   "outputs": [
    {
     "name": "stdout",
     "output_type": "stream",
     "text": [
      "Getting results for MLPRegressor using Pearson correlation...\n",
      "\n"
     ]
    },
    {
     "name": "stderr",
     "output_type": "stream",
     "text": [
      "C:\\Users\\rober\\anaconda3\\lib\\site-packages\\sklearn\\neural_network\\_multilayer_perceptron.py:702: ConvergenceWarning: Stochastic Optimizer: Maximum iterations (200) reached and the optimization hasn't converged yet.\n",
      "  warnings.warn(\n",
      "C:\\Users\\rober\\anaconda3\\lib\\site-packages\\sklearn\\neural_network\\_multilayer_perceptron.py:702: ConvergenceWarning: Stochastic Optimizer: Maximum iterations (200) reached and the optimization hasn't converged yet.\n",
      "  warnings.warn(\n",
      "C:\\Users\\rober\\anaconda3\\lib\\site-packages\\sklearn\\neural_network\\_multilayer_perceptron.py:702: ConvergenceWarning: Stochastic Optimizer: Maximum iterations (200) reached and the optimization hasn't converged yet.\n",
      "  warnings.warn(\n",
      "C:\\Users\\rober\\anaconda3\\lib\\site-packages\\sklearn\\neural_network\\_multilayer_perceptron.py:702: ConvergenceWarning: Stochastic Optimizer: Maximum iterations (200) reached and the optimization hasn't converged yet.\n",
      "  warnings.warn(\n",
      "C:\\Users\\rober\\anaconda3\\lib\\site-packages\\sklearn\\neural_network\\_multilayer_perceptron.py:702: ConvergenceWarning: Stochastic Optimizer: Maximum iterations (200) reached and the optimization hasn't converged yet.\n",
      "  warnings.warn(\n"
     ]
    },
    {
     "name": "stdout",
     "output_type": "stream",
     "text": [
      "Results for 100 best features\n",
      "Train scores: [0.45202777 0.43871447 0.45321541 0.45765465 0.45912327] -> mean_train = 0.4521\n",
      "Test scores: [ 0.2031334   0.16033084 -0.08987277  0.2116972   0.15462226] -> mean_test = 0.1280\n",
      "\n"
     ]
    },
    {
     "name": "stderr",
     "output_type": "stream",
     "text": [
      "C:\\Users\\rober\\anaconda3\\lib\\site-packages\\sklearn\\neural_network\\_multilayer_perceptron.py:702: ConvergenceWarning: Stochastic Optimizer: Maximum iterations (200) reached and the optimization hasn't converged yet.\n",
      "  warnings.warn(\n",
      "C:\\Users\\rober\\anaconda3\\lib\\site-packages\\sklearn\\neural_network\\_multilayer_perceptron.py:702: ConvergenceWarning: Stochastic Optimizer: Maximum iterations (200) reached and the optimization hasn't converged yet.\n",
      "  warnings.warn(\n",
      "C:\\Users\\rober\\anaconda3\\lib\\site-packages\\sklearn\\neural_network\\_multilayer_perceptron.py:702: ConvergenceWarning: Stochastic Optimizer: Maximum iterations (200) reached and the optimization hasn't converged yet.\n",
      "  warnings.warn(\n",
      "C:\\Users\\rober\\anaconda3\\lib\\site-packages\\sklearn\\neural_network\\_multilayer_perceptron.py:702: ConvergenceWarning: Stochastic Optimizer: Maximum iterations (200) reached and the optimization hasn't converged yet.\n",
      "  warnings.warn(\n",
      "C:\\Users\\rober\\anaconda3\\lib\\site-packages\\sklearn\\neural_network\\_multilayer_perceptron.py:702: ConvergenceWarning: Stochastic Optimizer: Maximum iterations (200) reached and the optimization hasn't converged yet.\n",
      "  warnings.warn(\n"
     ]
    },
    {
     "name": "stdout",
     "output_type": "stream",
     "text": [
      "Results for 400 best features\n",
      "Train scores: [0.47475198 0.4923954  0.50451639 0.50400392 0.47938821] -> mean_train = 0.4910\n",
      "Test scores: [0.23719782 0.36519414 0.2931955  0.35681098 0.23217787] -> mean_test = 0.2969\n",
      "\n"
     ]
    },
    {
     "name": "stderr",
     "output_type": "stream",
     "text": [
      "C:\\Users\\rober\\anaconda3\\lib\\site-packages\\sklearn\\neural_network\\_multilayer_perceptron.py:702: ConvergenceWarning: Stochastic Optimizer: Maximum iterations (200) reached and the optimization hasn't converged yet.\n",
      "  warnings.warn(\n",
      "C:\\Users\\rober\\anaconda3\\lib\\site-packages\\sklearn\\neural_network\\_multilayer_perceptron.py:702: ConvergenceWarning: Stochastic Optimizer: Maximum iterations (200) reached and the optimization hasn't converged yet.\n",
      "  warnings.warn(\n",
      "C:\\Users\\rober\\anaconda3\\lib\\site-packages\\sklearn\\neural_network\\_multilayer_perceptron.py:702: ConvergenceWarning: Stochastic Optimizer: Maximum iterations (200) reached and the optimization hasn't converged yet.\n",
      "  warnings.warn(\n",
      "C:\\Users\\rober\\anaconda3\\lib\\site-packages\\sklearn\\neural_network\\_multilayer_perceptron.py:702: ConvergenceWarning: Stochastic Optimizer: Maximum iterations (200) reached and the optimization hasn't converged yet.\n",
      "  warnings.warn(\n",
      "C:\\Users\\rober\\anaconda3\\lib\\site-packages\\sklearn\\neural_network\\_multilayer_perceptron.py:702: ConvergenceWarning: Stochastic Optimizer: Maximum iterations (200) reached and the optimization hasn't converged yet.\n",
      "  warnings.warn(\n"
     ]
    },
    {
     "name": "stdout",
     "output_type": "stream",
     "text": [
      "Results for 800 best features\n",
      "Train scores: [0.55805531 0.56752787 0.54657214 0.52045875 0.54403841] -> mean_train = 0.5473\n",
      "Test scores: [0.14783581 0.36859843 0.27241315 0.3401092  0.34026483] -> mean_test = 0.2938\n",
      "\n"
     ]
    },
    {
     "name": "stderr",
     "output_type": "stream",
     "text": [
      "C:\\Users\\rober\\anaconda3\\lib\\site-packages\\sklearn\\neural_network\\_multilayer_perceptron.py:702: ConvergenceWarning: Stochastic Optimizer: Maximum iterations (200) reached and the optimization hasn't converged yet.\n",
      "  warnings.warn(\n",
      "C:\\Users\\rober\\anaconda3\\lib\\site-packages\\sklearn\\neural_network\\_multilayer_perceptron.py:702: ConvergenceWarning: Stochastic Optimizer: Maximum iterations (200) reached and the optimization hasn't converged yet.\n",
      "  warnings.warn(\n",
      "C:\\Users\\rober\\anaconda3\\lib\\site-packages\\sklearn\\neural_network\\_multilayer_perceptron.py:702: ConvergenceWarning: Stochastic Optimizer: Maximum iterations (200) reached and the optimization hasn't converged yet.\n",
      "  warnings.warn(\n",
      "C:\\Users\\rober\\anaconda3\\lib\\site-packages\\sklearn\\neural_network\\_multilayer_perceptron.py:702: ConvergenceWarning: Stochastic Optimizer: Maximum iterations (200) reached and the optimization hasn't converged yet.\n",
      "  warnings.warn(\n",
      "C:\\Users\\rober\\anaconda3\\lib\\site-packages\\sklearn\\neural_network\\_multilayer_perceptron.py:702: ConvergenceWarning: Stochastic Optimizer: Maximum iterations (200) reached and the optimization hasn't converged yet.\n",
      "  warnings.warn(\n"
     ]
    },
    {
     "name": "stdout",
     "output_type": "stream",
     "text": [
      "Results for 1200 best features\n",
      "Train scores: [0.60004007 0.60734283 0.6379186  0.53613144 0.58864283] -> mean_train = 0.5940\n",
      "Test scores: [0.18884443 0.32031392 0.36322389 0.28063518 0.31413352] -> mean_test = 0.2934\n",
      "\n",
      "--------------------------------------------------------------------------------\n",
      "\n"
     ]
    }
   ],
   "source": [
    "for i, Model in enumerate([MLPR]): #LR, RFR, ADA, SVR\n",
    "    test_corr_models(model=Model(), method=\"Pearson correlation\", scores=pearson_corrs)\n",
    "    if i < 4:\n",
    "        print(\"--------------------------------------------------------------------------------\\n\")"
   ],
   "metadata": {
    "collapsed": false
   }
  },
  {
   "cell_type": "markdown",
   "source": [
    "(MinMaxScaler)\n",
    "\n",
    "Getting results for LinearRegression using Pearson correlation...\n",
    "\n",
    "Results for 100 best features\n",
    "Train scores: [0.27011736 0.28650022 0.22313226 0.26490225 0.26940456] -> mean_train = 0.2628\n",
    "Test scores: [0.14711361 0.10705096 0.27218331 0.20173697 0.18240789] -> mean_test = 0.1821\n",
    "\n",
    "Results for 400 best features\n",
    "Train scores: [0.41665499 0.39386691 0.3850985  0.39537238 0.41242381] -> mean_train = 0.4007\n",
    "Test scores: [0.08573871 0.2893108  0.33210872 0.30932031 0.1514813 ] -> mean_test = 0.2336\n",
    "\n",
    "Results for 800 best features\n",
    "Train scores: [0.44620921 0.43236111 0.43381858 0.43981191 0.4531923 ] -> mean_train = 0.4411\n",
    "Test scores: [0.06293847 0.27328139 0.33204977 0.30332439 0.17662368] -> mean_test = 0.2296\n",
    "\n",
    "Results for 1200 best features\n",
    "Train scores: [0.47941186 0.45920366 0.44087096 0.46595271 0.46848766] -> mean_train = 0.4628\n",
    "Test scores: [0.08041124 0.27869326 0.287661   0.29106935 0.1168009 ] -> mean_test = 0.2109\n",
    "\n",
    "--------------------------------------------------------------------------------\n",
    "\n",
    "Getting results for RandomForestRegressor using Pearson correlation...\n",
    "\n",
    "Results for 100 best features\n",
    "Train scores: [0.81861813 0.84025213 0.85172038 0.81723961 0.82355589] -> mean_train = 0.8303\n",
    "Test scores: [0.22094994 0.23278113 0.25640221 0.31260307 0.2571411 ] -> mean_test = 0.2560\n",
    "\n",
    "Results for 400 best features\n",
    "Train scores: [0.84739424 0.86756812 0.87518231 0.84538561 0.85187832] -> mean_train = 0.8575\n",
    "Test scores: [0.23421498 0.35857337 0.24336712 0.36769986 0.31232961] -> mean_test = 0.3032\n",
    "\n",
    "Results for 800 best features\n",
    "Train scores: [0.84771979 0.86827125 0.87595901 0.8461804  0.85253105] -> mean_train = 0.8581\n",
    "Test scores: [0.22143367 0.32069786 0.19008172 0.38143426 0.31148471] -> mean_test = 0.2850\n",
    "\n",
    "Results for 1200 best features\n",
    "Train scores: [0.87676433 0.90002164 0.89224492 0.87385361 0.87793775] -> mean_train = 0.8842\n",
    "Test scores: [0.27083525 0.33920909 0.20056345 0.38527337 0.27747011] -> mean_test = 0.2947\n",
    "\n",
    "--------------------------------------------------------------------------------\n",
    "\n",
    "Getting results for AdaBoostRegressor using Pearson correlation...\n",
    "\n",
    "Results for 100 best features\n",
    "Train scores: [0.21789023 0.24789051 0.1688259  0.1946165  0.24299579] -> mean_train = 0.2144\n",
    "Test scores: [0.0217743  0.0393838  0.06749173 0.11066504 0.1454537 ] -> mean_test = 0.0770\n",
    "\n",
    "Results for 400 best features\n",
    "Train scores: [0.32242365 0.32898748 0.27168506 0.28805197 0.30137941] -> mean_train = 0.3025\n",
    "Test scores: [0.12702293 0.20443145 0.13614342 0.22957511 0.14922126] -> mean_test = 0.1693\n",
    "\n",
    "Results for 800 best features\n",
    "Train scores: [0.29640638 0.31946727 0.28776308 0.29008702 0.32292222] -> mean_train = 0.3033\n",
    "Test scores: [0.09409807 0.17705651 0.13124845 0.21650374 0.18319332] -> mean_test = 0.1604\n",
    "\n",
    "Results for 1200 best features\n",
    "Train scores: [0.30405968 0.21448556 0.23909915 0.28300452 0.30514278] -> mean_train = 0.2692\n",
    "Test scores: [0.07639932 0.08501833 0.0728567  0.18245674 0.12884878] -> mean_test = 0.1091\n",
    "\n",
    "--------------------------------------------------------------------------------\n",
    "\n",
    "Getting results for SVR using Pearson correlation...\n",
    "\n",
    "Results for 100 best features\n",
    "Train scores: [0.31371592 0.31834536 0.3022404  0.31092042 0.31666435] -> mean_train = 0.3124\n",
    "Test scores: [0.21283891 0.16427215 0.07069547 0.25263497 0.24485791] -> mean_test = 0.1891\n",
    "\n",
    "Results for 400 best features\n",
    "Train scores: [0.28378963 0.26807723 0.24905719 0.26710835 0.28725249] -> mean_train = 0.2711\n",
    "Test scores: [0.18274096 0.15177209 0.24838459 0.22915948 0.18186443] -> mean_test = 0.1988\n",
    "\n",
    "Results for 800 best features\n",
    "Train scores: [0.27629772 0.25743841 0.23863574 0.26184484 0.27565766] -> mean_train = 0.2620\n",
    "Test scores: [0.17035563 0.15027543 0.22394396 0.19866285 0.16760289] -> mean_test = 0.1822\n",
    "\n",
    "Results for 1200 best features\n",
    "Train scores: [0.26972242 0.25406078 0.23311293 0.25886046 0.27116362] -> mean_train = 0.2574\n",
    "Test scores: [0.16767649 0.14030832 0.19821048 0.1878921  0.1576652 ] -> mean_test = 0.1704\n",
    "\n",
    "--------------------------------------------------------------------------------\n",
    "\n",
    "Getting results for MLPRegressor using Pearson correlation...\n",
    "\n",
    "Results for 100 best features\n",
    "Train scores: [0.45202777 0.43871447 0.45321541 0.45765465 0.45912327] -> mean_train = 0.4521\n",
    "Test scores: [ 0.2031334   0.16033084 -0.08987277  0.2116972   0.15462226] -> mean_test = 0.1280\n",
    "\n",
    "Results for 400 best features\n",
    "Train scores: [0.47475198 0.4923954  0.50451639 0.50400392 0.47938821] -> mean_train = 0.4910\n",
    "Test scores: [0.23719782 0.36519414 0.2931955  0.35681098 0.23217787] -> mean_test = 0.2969\n",
    "\n",
    "Results for 800 best features\n",
    "Train scores: [0.55805531 0.56752787 0.54657214 0.52045875 0.54403841] -> mean_train = 0.5473\n",
    "Test scores: [0.14783581 0.36859843 0.27241315 0.3401092  0.34026483] -> mean_test = 0.2938\n",
    "\n",
    "Results for 1200 best features\n",
    "Train scores: [0.60004007 0.60734283 0.6379186  0.53613144 0.58864283] -> mean_train = 0.5940\n",
    "Test scores: [0.18884443 0.32031392 0.36322389 0.28063518 0.31413352] -> mean_test = 0.2934\n",
    "\n",
    "\n",
    "\n",
    "\n",
    "(Z-scores)\n",
    "\n",
    "Getting results for LinearRegression using Pearson correlation...\n",
    "\n",
    "Results for 100 best features\n",
    "Train scores: [0.67160102 0.6689632  0.68186929 0.66149608 0.67386646] -> mean_train = 0.6716\n",
    "Test scores: [-1.07791337 -0.18159527 -0.02480662 -0.27529876 -1.04734993] -> mean_test = -0.5214\n",
    "\n",
    "Results for 400 best features\n",
    "Train scores: [0.67160102 0.6689632  0.68186929 0.66149608 0.67386646] -> mean_train = 0.6716\n",
    "Test scores: [-1.07791337 -0.18159527 -0.02480662 -0.27529876 -1.04734993] -> mean_test = -0.5214\n",
    "\n",
    "Results for 800 best features\n",
    "Train scores: [0.67160102 0.6689632  0.68186929 0.66149608 0.67386646] -> mean_train = 0.6716\n",
    "Test scores: [-1.07791337 -0.18159527 -0.02480662 -0.27529876 -1.04734993] -> mean_test = -0.5214\n",
    "\n",
    "--------------------------------------------------------------------------------\n",
    "\n",
    "Getting results for RandomForestRegressor using Pearson correlation...\n",
    "\n",
    "Results for 100 best features\n",
    "Train scores: [0.80727911 0.83041557 0.84220175 0.80666646 0.81338696] -> mean_train = 0.8200\n",
    "Test scores: [0.1891794  0.18649405 0.18417251 0.27658475 0.22553633] -> mean_test = 0.2124\n",
    "\n",
    "Results for 400 best features\n",
    "Train scores: [0.84161805 0.86398035 0.86833273 0.84003347 0.84644822] -> mean_train = 0.8521\n",
    "Test scores: [0.19887344 0.31872482 0.23552122 0.35482832 0.28120151] -> mean_test = 0.2778\n",
    "\n",
    "Results for 800 best features\n",
    "Train scores: [0.84235855 0.86518026 0.86934521 0.8409079  0.84660065] -> mean_train = 0.8529\n",
    "Test scores: [0.18125953 0.29988959 0.12022268 0.3604441  0.2963378 ] -> mean_test = 0.2516\n",
    "\n",
    "--------------------------------------------------------------------------------\n",
    "\n",
    "Getting results for AdaBoostRegressor using Pearson correlation...\n",
    "\n",
    "Results for 100 best features\n",
    "Train scores: [0.24087864 0.23950204 0.16925286 0.19086963 0.25147329] -> mean_train = 0.2184\n",
    "Test scores: [0.08491198 0.0297712  0.16957604 0.10801696 0.14612454] -> mean_test = 0.1077\n",
    "\n",
    "Results for 400 best features\n",
    "Train scores: [0.29832073 0.31678918 0.27567914 0.30577065 0.30121334] -> mean_train = 0.2996\n",
    "Test scores: [0.0998887  0.18089942 0.15771938 0.25511451 0.15684757] -> mean_test = 0.1701\n",
    "\n",
    "Results for 800 best features\n",
    "Train scores: [0.34946497 0.26841796 0.33437571 0.29196208 0.33172762] -> mean_train = 0.3152\n",
    "Test scores: [0.1768113  0.12819227 0.15462779 0.20862672 0.19958328] -> mean_test = 0.1736\n",
    "\n",
    "--------------------------------------------------------------------------------\n",
    "\n",
    "Getting results for SVR using Pearson correlation...\n",
    "\n",
    "Results for 100 best features\n",
    "Train scores: [0.3470447  0.34487087 0.35734174 0.34269595 0.35251758] -> mean_train = 0.3489\n",
    "Test scores: [0.18790998 0.14018134 0.10888095 0.225853   0.22270535] -> mean_test = 0.1771\n",
    "\n",
    "Results for 400 best features\n",
    "Train scores: [0.40986956 0.39526794 0.41410988 0.39641576 0.41763621] -> mean_train = 0.4067\n",
    "Test scores: [0.206643   0.18902751 0.11136261 0.27958821 0.22978204] -> mean_test = 0.2033\n",
    "\n",
    "Results for 800 best features\n",
    "Train scores: [0.42662508 0.4044915  0.4269925  0.40696331 0.42792255] -> mean_train = 0.4186\n",
    "Test scores: [0.20535089 0.19830048 0.1409307  0.28567528 0.23900059] -> mean_test = 0.2139\n",
    "\n",
    "--------------------------------------------------------------------------------\n",
    "\n",
    "Getting results for MLPRegressor using Pearson correlation...\n",
    "\n",
    "Results for 100 best features\n",
    "Train scores: [0.53202    0.52313445 0.57137021 0.53976422 0.54659028] -> mean_train = 0.5426\n",
    "Test scores: [-0.05543219  0.1250431   0.2640586   0.1859917   0.05506732] -> mean_test = 0.1149\n",
    "\n",
    "Results for 400 best features\n",
    "Train scores: [0.78213761 0.78802413 0.82398603 0.7461426  0.77420503] -> mean_train = 0.7829\n",
    "Test scores: [-0.17832807  0.17922449 -0.82818129  0.17095727 -0.17155348] -> mean_test = -0.1656\n",
    "\n",
    "Results for 800 best features\n",
    "Train scores: [0.65240063 0.81298679 0.85650392 0.80202072 0.81944741] -> mean_train = 0.7887\n",
    "Test scores: [-0.3428903   0.13659494 -6.15435645  0.14391498 -0.25913343] -> mean_test = -1.2952\n"
   ],
   "metadata": {
    "collapsed": false
   }
  },
  {
   "cell_type": "markdown",
   "id": "d0042a47-91d1-4508-9b9b-bd500b38bb57",
   "metadata": {},
   "source": [
    "##### Spearman"
   ]
  },
  {
   "cell_type": "code",
   "execution_count": 21,
   "id": "f1d76400-cfd1-471f-bee0-c1a2df54e35e",
   "metadata": {},
   "outputs": [
    {
     "name": "stdout",
     "output_type": "stream",
     "text": [
      "Getting results for LinearRegression using Spearman correlation...\n",
      "\n",
      "Results for 100 best features\n",
      "Train scores: [0.24921425 0.27093374 0.19917184 0.24836267 0.25260701] -> mean_train = 0.2441\n",
      "Test scores: [0.12833164 0.08071247 0.30922312 0.16954245 0.07740915] -> mean_test = 0.1530\n",
      "\n",
      "Results for 400 best features\n",
      "Train scores: [0.4025985  0.38290001 0.36831767 0.39148884 0.40252618] -> mean_train = 0.3896\n",
      "Test scores: [ 0.11624326  0.23527244  0.35650679  0.27089772 -0.14652723] -> mean_test = 0.1665\n",
      "\n",
      "Results for 800 best features\n",
      "Train scores: [0.44845567 0.43248325 0.4326496  0.44199982 0.45568573] -> mean_train = 0.4423\n",
      "Test scores: [0.16300762 0.30164229 0.31059724 0.31290982 0.07484427] -> mean_test = 0.2326\n",
      "\n",
      "Results for 1200 best features\n",
      "Train scores: [0.48010521 0.45825764 0.46333424 0.45450236 0.47633618] -> mean_train = 0.4665\n",
      "Test scores: [0.10893423 0.28829533 0.29607386 0.27848742 0.10913831] -> mean_test = 0.2162\n",
      "\n",
      "--------------------------------------------------------------------------------\n",
      "\n",
      "Getting results for RandomForestRegressor using Spearman correlation...\n",
      "\n",
      "Results for 100 best features\n",
      "Train scores: [0.79790694 0.81899067 0.83845994 0.79660533 0.8045238 ] -> mean_train = 0.8113\n",
      "Test scores: [ 0.18483478  0.15368858 -0.25720172  0.2958112   0.21631886] -> mean_test = 0.1187\n",
      "\n",
      "Results for 400 best features\n",
      "Train scores: [0.8474152  0.86798361 0.87595374 0.84598044 0.85213325] -> mean_train = 0.8579\n",
      "Test scores: [0.22281325 0.31339996 0.18994458 0.37560868 0.32661866] -> mean_test = 0.2857\n",
      "\n",
      "Results for 800 best features\n",
      "Train scores: [0.8477982  0.86835485 0.87645327 0.84625799 0.85241732] -> mean_train = 0.8583\n",
      "Test scores: [0.24889581 0.34326805 0.16376661 0.37541566 0.31084247] -> mean_test = 0.2884\n",
      "\n",
      "Results for 1200 best features\n",
      "Train scores: [0.84772302 0.86877618 0.87635444 0.84619647 0.85224971] -> mean_train = 0.8583\n",
      "Test scores: [0.25188013 0.34737981 0.19047434 0.37756621 0.29847012] -> mean_test = 0.2932\n",
      "\n",
      "--------------------------------------------------------------------------------\n",
      "\n",
      "Getting results for AdaBoostRegressor using Spearman correlation...\n",
      "\n",
      "Results for 100 best features\n",
      "Train scores: [0.24821102 0.25230277 0.21134905 0.21002211 0.23393682] -> mean_train = 0.2312\n",
      "Test scores: [0.1175337  0.03529187 0.08088012 0.16061473 0.14581597] -> mean_test = 0.1080\n",
      "\n",
      "Results for 400 best features\n",
      "Train scores: [0.29865158 0.31315385 0.25569119 0.33387219 0.32322424] -> mean_train = 0.3049\n",
      "Test scores: [0.07679387 0.17580784 0.10835713 0.28114289 0.21491714] -> mean_test = 0.1714\n",
      "\n",
      "Results for 800 best features\n",
      "Train scores: [0.3076953  0.3517414  0.32845105 0.34109796 0.31832754] -> mean_train = 0.3295\n",
      "Test scores: [0.08846429 0.20249093 0.13341789 0.27885762 0.17941891] -> mean_test = 0.1765\n",
      "\n",
      "Results for 1200 best features\n",
      "Train scores: [0.31154677 0.30782744 0.27839546 0.29130889 0.32315659] -> mean_train = 0.3024\n",
      "Test scores: [0.11880103 0.18370943 0.11145375 0.21734129 0.174815  ] -> mean_test = 0.1612\n",
      "\n",
      "--------------------------------------------------------------------------------\n",
      "\n",
      "Getting results for SVR using Spearman correlation...\n",
      "\n",
      "Results for 100 best features\n",
      "Train scores: [0.30884939 0.32273583 0.30089287 0.3053253  0.31058927] -> mean_train = 0.3097\n",
      "Test scores: [0.21621466 0.12125812 0.1112789  0.25380752 0.23638237] -> mean_test = 0.1878\n",
      "\n",
      "Results for 400 best features\n",
      "Train scores: [0.26754801 0.25625888 0.22697208 0.25103663 0.26315251] -> mean_train = 0.2530\n",
      "Test scores: [0.1723757  0.13718039 0.25440779 0.20893442 0.17647675] -> mean_test = 0.1899\n",
      "\n",
      "Results for 800 best features\n",
      "Train scores: [0.27200646 0.25702211 0.23535592 0.25894348 0.27205739] -> mean_train = 0.2591\n",
      "Test scores: [0.18259951 0.14574259 0.21460884 0.20840586 0.16562045] -> mean_test = 0.1834\n",
      "\n",
      "Results for 1200 best features\n",
      "Train scores: [0.27213732 0.25572714 0.23750669 0.25962499 0.27161214] -> mean_train = 0.2593\n",
      "Test scores: [0.17233394 0.13768511 0.17746137 0.19825448 0.15705791] -> mean_test = 0.1686\n",
      "\n",
      "--------------------------------------------------------------------------------\n",
      "\n",
      "Getting results for MLPRegressor using Spearman correlation...\n",
      "\n"
     ]
    },
    {
     "name": "stderr",
     "output_type": "stream",
     "text": [
      "C:\\Users\\rober\\anaconda3\\lib\\site-packages\\sklearn\\neural_network\\_multilayer_perceptron.py:702: ConvergenceWarning: Stochastic Optimizer: Maximum iterations (200) reached and the optimization hasn't converged yet.\n",
      "  warnings.warn(\n",
      "C:\\Users\\rober\\anaconda3\\lib\\site-packages\\sklearn\\neural_network\\_multilayer_perceptron.py:702: ConvergenceWarning: Stochastic Optimizer: Maximum iterations (200) reached and the optimization hasn't converged yet.\n",
      "  warnings.warn(\n",
      "C:\\Users\\rober\\anaconda3\\lib\\site-packages\\sklearn\\neural_network\\_multilayer_perceptron.py:702: ConvergenceWarning: Stochastic Optimizer: Maximum iterations (200) reached and the optimization hasn't converged yet.\n",
      "  warnings.warn(\n",
      "C:\\Users\\rober\\anaconda3\\lib\\site-packages\\sklearn\\neural_network\\_multilayer_perceptron.py:702: ConvergenceWarning: Stochastic Optimizer: Maximum iterations (200) reached and the optimization hasn't converged yet.\n",
      "  warnings.warn(\n",
      "C:\\Users\\rober\\anaconda3\\lib\\site-packages\\sklearn\\neural_network\\_multilayer_perceptron.py:702: ConvergenceWarning: Stochastic Optimizer: Maximum iterations (200) reached and the optimization hasn't converged yet.\n",
      "  warnings.warn(\n"
     ]
    },
    {
     "name": "stdout",
     "output_type": "stream",
     "text": [
      "Results for 100 best features\n",
      "Train scores: [0.46308    0.43662746 0.44424994 0.43677552 0.44358956] -> mean_train = 0.4449\n",
      "Test scores: [ 0.03581221  0.13530282 -0.8988539   0.23407946  0.05936877] -> mean_test = -0.0869\n",
      "\n"
     ]
    },
    {
     "name": "stderr",
     "output_type": "stream",
     "text": [
      "C:\\Users\\rober\\anaconda3\\lib\\site-packages\\sklearn\\neural_network\\_multilayer_perceptron.py:702: ConvergenceWarning: Stochastic Optimizer: Maximum iterations (200) reached and the optimization hasn't converged yet.\n",
      "  warnings.warn(\n",
      "C:\\Users\\rober\\anaconda3\\lib\\site-packages\\sklearn\\neural_network\\_multilayer_perceptron.py:702: ConvergenceWarning: Stochastic Optimizer: Maximum iterations (200) reached and the optimization hasn't converged yet.\n",
      "  warnings.warn(\n",
      "C:\\Users\\rober\\anaconda3\\lib\\site-packages\\sklearn\\neural_network\\_multilayer_perceptron.py:702: ConvergenceWarning: Stochastic Optimizer: Maximum iterations (200) reached and the optimization hasn't converged yet.\n",
      "  warnings.warn(\n",
      "C:\\Users\\rober\\anaconda3\\lib\\site-packages\\sklearn\\neural_network\\_multilayer_perceptron.py:702: ConvergenceWarning: Stochastic Optimizer: Maximum iterations (200) reached and the optimization hasn't converged yet.\n",
      "  warnings.warn(\n",
      "C:\\Users\\rober\\anaconda3\\lib\\site-packages\\sklearn\\neural_network\\_multilayer_perceptron.py:702: ConvergenceWarning: Stochastic Optimizer: Maximum iterations (200) reached and the optimization hasn't converged yet.\n",
      "  warnings.warn(\n"
     ]
    },
    {
     "name": "stdout",
     "output_type": "stream",
     "text": [
      "Results for 400 best features\n",
      "Train scores: [0.52548503 0.5186544  0.55516421 0.52769569 0.44315011] -> mean_train = 0.5140\n",
      "Test scores: [0.25086634 0.37064945 0.35341974 0.34305033 0.11683819] -> mean_test = 0.2870\n",
      "\n"
     ]
    },
    {
     "name": "stderr",
     "output_type": "stream",
     "text": [
      "C:\\Users\\rober\\anaconda3\\lib\\site-packages\\sklearn\\neural_network\\_multilayer_perceptron.py:702: ConvergenceWarning: Stochastic Optimizer: Maximum iterations (200) reached and the optimization hasn't converged yet.\n",
      "  warnings.warn(\n",
      "C:\\Users\\rober\\anaconda3\\lib\\site-packages\\sklearn\\neural_network\\_multilayer_perceptron.py:702: ConvergenceWarning: Stochastic Optimizer: Maximum iterations (200) reached and the optimization hasn't converged yet.\n",
      "  warnings.warn(\n",
      "C:\\Users\\rober\\anaconda3\\lib\\site-packages\\sklearn\\neural_network\\_multilayer_perceptron.py:702: ConvergenceWarning: Stochastic Optimizer: Maximum iterations (200) reached and the optimization hasn't converged yet.\n",
      "  warnings.warn(\n",
      "C:\\Users\\rober\\anaconda3\\lib\\site-packages\\sklearn\\neural_network\\_multilayer_perceptron.py:702: ConvergenceWarning: Stochastic Optimizer: Maximum iterations (200) reached and the optimization hasn't converged yet.\n",
      "  warnings.warn(\n",
      "C:\\Users\\rober\\anaconda3\\lib\\site-packages\\sklearn\\neural_network\\_multilayer_perceptron.py:702: ConvergenceWarning: Stochastic Optimizer: Maximum iterations (200) reached and the optimization hasn't converged yet.\n",
      "  warnings.warn(\n"
     ]
    },
    {
     "name": "stdout",
     "output_type": "stream",
     "text": [
      "Results for 800 best features\n",
      "Train scores: [0.56269636 0.57803714 0.55488283 0.5593286  0.52405762] -> mean_train = 0.5558\n",
      "Test scores: [0.15751221 0.37946022 0.29111232 0.37348009 0.30562286] -> mean_test = 0.3014\n",
      "\n"
     ]
    },
    {
     "name": "stderr",
     "output_type": "stream",
     "text": [
      "C:\\Users\\rober\\anaconda3\\lib\\site-packages\\sklearn\\neural_network\\_multilayer_perceptron.py:702: ConvergenceWarning: Stochastic Optimizer: Maximum iterations (200) reached and the optimization hasn't converged yet.\n",
      "  warnings.warn(\n",
      "C:\\Users\\rober\\anaconda3\\lib\\site-packages\\sklearn\\neural_network\\_multilayer_perceptron.py:702: ConvergenceWarning: Stochastic Optimizer: Maximum iterations (200) reached and the optimization hasn't converged yet.\n",
      "  warnings.warn(\n",
      "C:\\Users\\rober\\anaconda3\\lib\\site-packages\\sklearn\\neural_network\\_multilayer_perceptron.py:702: ConvergenceWarning: Stochastic Optimizer: Maximum iterations (200) reached and the optimization hasn't converged yet.\n",
      "  warnings.warn(\n",
      "C:\\Users\\rober\\anaconda3\\lib\\site-packages\\sklearn\\neural_network\\_multilayer_perceptron.py:702: ConvergenceWarning: Stochastic Optimizer: Maximum iterations (200) reached and the optimization hasn't converged yet.\n",
      "  warnings.warn(\n",
      "C:\\Users\\rober\\anaconda3\\lib\\site-packages\\sklearn\\neural_network\\_multilayer_perceptron.py:702: ConvergenceWarning: Stochastic Optimizer: Maximum iterations (200) reached and the optimization hasn't converged yet.\n",
      "  warnings.warn(\n"
     ]
    },
    {
     "name": "stdout",
     "output_type": "stream",
     "text": [
      "Results for 1200 best features\n",
      "Train scores: [0.59737034 0.55466742 0.59562882 0.5875031  0.53883696] -> mean_train = 0.5748\n",
      "Test scores: [0.19248025 0.32994159 0.20769372 0.32922724 0.26530933] -> mean_test = 0.2649\n",
      "\n"
     ]
    }
   ],
   "source": [
    "for i, Model in enumerate([LR, RFR, ADA, SVR, MLPR]):\n",
    "    test_corr_models(model=Model(), method=\"Spearman correlation\", scores=spearman_corrs)\n",
    "    if i < 4:\n",
    "        print(\"--------------------------------------------------------------------------------\\n\")"
   ]
  },
  {
   "cell_type": "markdown",
   "source": [
    "Getting results for LinearRegression using Spearman correlation...\n",
    "\n",
    "Results for 100 best features\n",
    "Train scores: [0.24921425 0.27093374 0.19917184 0.24836267 0.25260701] -> mean_train = 0.2441\n",
    "Test scores: [0.12833164 0.08071247 0.30922312 0.16954245 0.07740915] -> mean_test = 0.1530\n",
    "\n",
    "Results for 400 best features\n",
    "Train scores: [0.4025985  0.38290001 0.36831767 0.39148884 0.40252618] -> mean_train = 0.3896\n",
    "Test scores: [ 0.11624326  0.23527244  0.35650679  0.27089772 -0.14652723] -> mean_test = 0.1665\n",
    "\n",
    "Results for 800 best features\n",
    "Train scores: [0.44845567 0.43248325 0.4326496  0.44199982 0.45568573] -> mean_train = 0.4423\n",
    "Test scores: [0.16300762 0.30164229 0.31059724 0.31290982 0.07484427] -> mean_test = 0.2326\n",
    "\n",
    "Results for 1200 best features\n",
    "Train scores: [0.48010521 0.45825764 0.46333424 0.45450236 0.47633618] -> mean_train = 0.4665\n",
    "Test scores: [0.10893423 0.28829533 0.29607386 0.27848742 0.10913831] -> mean_test = 0.2162\n",
    "\n",
    "--------------------------------------------------------------------------------\n",
    "\n",
    "Getting results for RandomForestRegressor using Spearman correlation...\n",
    "\n",
    "Results for 100 best features\n",
    "Train scores: [0.79790694 0.81899067 0.83845994 0.79660533 0.8045238 ] -> mean_train = 0.8113\n",
    "Test scores: [ 0.18483478  0.15368858 -0.25720172  0.2958112   0.21631886] -> mean_test = 0.1187\n",
    "\n",
    "Results for 400 best features\n",
    "Train scores: [0.8474152  0.86798361 0.87595374 0.84598044 0.85213325] -> mean_train = 0.8579\n",
    "Test scores: [0.22281325 0.31339996 0.18994458 0.37560868 0.32661866] -> mean_test = 0.2857\n",
    "\n",
    "Results for 800 best features\n",
    "Train scores: [0.8477982  0.86835485 0.87645327 0.84625799 0.85241732] -> mean_train = 0.8583\n",
    "Test scores: [0.24889581 0.34326805 0.16376661 0.37541566 0.31084247] -> mean_test = 0.2884\n",
    "\n",
    "Results for 1200 best features\n",
    "Train scores: [0.84772302 0.86877618 0.87635444 0.84619647 0.85224971] -> mean_train = 0.8583\n",
    "Test scores: [0.25188013 0.34737981 0.19047434 0.37756621 0.29847012] -> mean_test = 0.2932\n",
    "\n",
    "--------------------------------------------------------------------------------\n",
    "\n",
    "Getting results for AdaBoostRegressor using Spearman correlation...\n",
    "\n",
    "Results for 100 best features\n",
    "Train scores: [0.24821102 0.25230277 0.21134905 0.21002211 0.23393682] -> mean_train = 0.2312\n",
    "Test scores: [0.1175337  0.03529187 0.08088012 0.16061473 0.14581597] -> mean_test = 0.1080\n",
    "\n",
    "Results for 400 best features\n",
    "Train scores: [0.29865158 0.31315385 0.25569119 0.33387219 0.32322424] -> mean_train = 0.3049\n",
    "Test scores: [0.07679387 0.17580784 0.10835713 0.28114289 0.21491714] -> mean_test = 0.1714\n",
    "\n",
    "Results for 800 best features\n",
    "Train scores: [0.3076953  0.3517414  0.32845105 0.34109796 0.31832754] -> mean_train = 0.3295\n",
    "Test scores: [0.08846429 0.20249093 0.13341789 0.27885762 0.17941891] -> mean_test = 0.1765\n",
    "\n",
    "Results for 1200 best features\n",
    "Train scores: [0.31154677 0.30782744 0.27839546 0.29130889 0.32315659] -> mean_train = 0.3024\n",
    "Test scores: [0.11880103 0.18370943 0.11145375 0.21734129 0.174815  ] -> mean_test = 0.1612\n",
    "\n",
    "--------------------------------------------------------------------------------\n",
    "\n",
    "Getting results for SVR using Spearman correlation...\n",
    "\n",
    "Results for 100 best features\n",
    "Train scores: [0.30884939 0.32273583 0.30089287 0.3053253  0.31058927] -> mean_train = 0.3097\n",
    "Test scores: [0.21621466 0.12125812 0.1112789  0.25380752 0.23638237] -> mean_test = 0.1878\n",
    "\n",
    "Results for 400 best features\n",
    "Train scores: [0.26754801 0.25625888 0.22697208 0.25103663 0.26315251] -> mean_train = 0.2530\n",
    "Test scores: [0.1723757  0.13718039 0.25440779 0.20893442 0.17647675] -> mean_test = 0.1899\n",
    "\n",
    "Results for 800 best features\n",
    "Train scores: [0.27200646 0.25702211 0.23535592 0.25894348 0.27205739] -> mean_train = 0.2591\n",
    "Test scores: [0.18259951 0.14574259 0.21460884 0.20840586 0.16562045] -> mean_test = 0.1834\n",
    "\n",
    "Results for 1200 best features\n",
    "Train scores: [0.27213732 0.25572714 0.23750669 0.25962499 0.27161214] -> mean_train = 0.2593\n",
    "Test scores: [0.17233394 0.13768511 0.17746137 0.19825448 0.15705791] -> mean_test = 0.1686\n",
    "\n",
    "--------------------------------------------------------------------------------\n",
    "\n",
    "Getting results for MLPRegressor using Spearman correlation...\n",
    "\n",
    "Results for 100 best features\n",
    "Train scores: [0.46308    0.43662746 0.44424994 0.43677552 0.44358956] -> mean_train = 0.4449\n",
    "Test scores: [ 0.03581221  0.13530282 -0.8988539   0.23407946  0.05936877] -> mean_test = -0.0869\n",
    "\n",
    "Results for 400 best features\n",
    "Train scores: [0.52548503 0.5186544  0.55516421 0.52769569 0.44315011] -> mean_train = 0.5140\n",
    "Test scores: [0.25086634 0.37064945 0.35341974 0.34305033 0.11683819] -> mean_test = 0.2870\n",
    "\n",
    "Results for 800 best features\n",
    "Train scores: [0.56269636 0.57803714 0.55488283 0.5593286  0.52405762] -> mean_train = 0.5558\n",
    "Test scores: [0.15751221 0.37946022 0.29111232 0.37348009 0.30562286] -> mean_test = 0.3014\n",
    "\n",
    "Results for 1200 best features\n",
    "Train scores: [0.59737034 0.55466742 0.59562882 0.5875031  0.53883696] -> mean_train = 0.5748\n",
    "Test scores: [0.19248025 0.32994159 0.20769372 0.32922724 0.26530933] -> mean_test = 0.2649"
   ],
   "metadata": {
    "collapsed": false
   }
  },
  {
   "cell_type": "markdown",
   "id": "bbe710b8-4e41-460a-adf9-b0ed082bcedc",
   "metadata": {},
   "source": [
    "##### Univariate linear regression"
   ]
  },
  {
   "cell_type": "code",
   "execution_count": null,
   "id": "3e31188f-10eb-4487-b50c-92d23e3d0d8c",
   "metadata": {
    "pycharm": {
     "is_executing": true
    }
   },
   "outputs": [
    {
     "name": "stdout",
     "output_type": "stream",
     "text": [
      "Getting results for LinearRegression using univariate linear regression...\n",
      "\n",
      "Results for 100 best features\n",
      "Train scores: [0.27011736 0.28650022 0.22313226 0.26490225 0.26940456] -> mean_train = 0.2628\n",
      "Test scores: [0.14711361 0.10705096 0.27218331 0.20173697 0.18240789] -> mean_test = 0.1821\n",
      "\n",
      "Results for 400 best features\n",
      "Train scores: [0.41665499 0.39386691 0.3850985  0.39537238 0.41242381] -> mean_train = 0.4007\n",
      "Test scores: [0.08573871 0.2893108  0.33210872 0.30932031 0.1514813 ] -> mean_test = 0.2336\n",
      "\n",
      "Results for 800 best features\n",
      "Train scores: [0.44620921 0.43236111 0.43381858 0.43981191 0.4531923 ] -> mean_train = 0.4411\n",
      "Test scores: [0.06293847 0.27328139 0.33204977 0.30332439 0.17662368] -> mean_test = 0.2296\n",
      "\n",
      "Results for 1200 best features\n",
      "Train scores: [0.47941186 0.45920366 0.44087096 0.46595271 0.46848766] -> mean_train = 0.4628\n",
      "Test scores: [0.08041124 0.27869326 0.287661   0.29106935 0.1168009 ] -> mean_test = 0.2109\n",
      "\n",
      "--------------------------------------------------------------------------------\n",
      "\n",
      "Getting results for RandomForestRegressor using univariate linear regression...\n",
      "\n",
      "Results for 100 best features\n",
      "Train scores: [0.81795693 0.84025533 0.85198261 0.81714764 0.82326083] -> mean_train = 0.8301\n",
      "Test scores: [0.21917305 0.22767398 0.18495574 0.31694255 0.26834709] -> mean_test = 0.2434\n",
      "\n"
     ]
    }
   ],
   "source": [
    "for i, Model in enumerate([LR, RFR, ADA, SVR, MLPR]):\n",
    "    test_corr_models(model=Model(), method=\"univariate linear regression\", scores=f_values)\n",
    "    if i < 4:\n",
    "        print(\"--------------------------------------------------------------------------------\\n\")"
   ]
  },
  {
   "cell_type": "markdown",
   "id": "bfc819be-5e0c-4259-b4f9-a9def391667b",
   "metadata": {},
   "source": [
    "##### Mutual information (MI) regression"
   ]
  },
  {
   "cell_type": "code",
   "execution_count": null,
   "id": "2bf73db1-01af-41de-a9f2-481dd3aa1e4b",
   "metadata": {},
   "outputs": [],
   "source": [
    "for i, Model in enumerate([LR, RFR, ADA, SVR, MLPR]):\n",
    "    test_corr_models(model=Model(), method=\"mutual information regression\", scores=mis)\n",
    "    if i < 4:\n",
    "        print(\"--------------------------------------------------------------------------------\\n\")"
   ]
  },
  {
   "cell_type": "markdown",
   "id": "c97ed228-585d-49d0-9a08-a1ff5b767044",
   "metadata": {},
   "source": [
    "##### SelectFromModel -> TODO"
   ]
  },
  {
   "cell_type": "code",
   "execution_count": 38,
   "id": "0b0d066a-b075-48f2-b362-32e56bcbe079",
   "metadata": {},
   "outputs": [],
   "source": [
    "from sklearn.feature_selection import SelectFromModel"
   ]
  },
  {
   "cell_type": "code",
   "execution_count": null,
   "outputs": [],
   "source": [
    "def cv_select_from_model(models: list, cv=5):\n",
    "    \"\"\"\n",
    "    Cross-validates models using features outputed by sklearn's SelectFromModel using a Random Forest\n",
    "    Regressor as estimator. Returns the computed feature mask for further use.\n",
    "\n",
    "    Parameters\n",
    "    ----------\n",
    "    models: list\n",
    "        A list object containing uninitialized sklearn models\n",
    "    cv: int (default=5)\n",
    "        Number of folds used in cross-validation\n",
    "    \"\"\"\n",
    "    # select best features according to RFR feature importances\n",
    "    # features whose absolute importance value is greater or equal to the mean importance are kept\n",
    "    selector = SelectFromModel(estimator=RFR())\n",
    "    selector.fit(X_train_sc, y_train)\n",
    "    feature_mask = selector.get_support()\n",
    "    # new dataframe containing the features selected by SelectFromModel\n",
    "    X_train_new = X_train_sc[feature_mask]\n",
    "    # iterate through models and cross-validate\n",
    "    for Model in models:\n",
    "        result = cross_validate(Model, X_train_new, y_train, cv=cv, return_train_score=True)\n",
    "        mean_train = np.sum(result[\"train_score\"]) / cv\n",
    "        mean_test = np.sum(result[\"test_score\"]) / cv\n",
    "        print(f\"Train scores: {result['train_score']} -> {mean_train = :.4f}\")\n",
    "        print(f\"Test scores: {result['test_score']} -> {mean_test = :.4f}\\n\")\n",
    "    return feature_mask"
   ],
   "metadata": {
    "collapsed": false
   }
  },
  {
   "cell_type": "code",
   "execution_count": null,
   "outputs": [],
   "source": [
    "feature_mask = cv_select_from_model([LR, RFR, ADA, SVR, MLPR])"
   ],
   "metadata": {
    "collapsed": false
   }
  },
  {
   "cell_type": "markdown",
   "source": [
    "#### Optimize hyperparameters of the best models"
   ],
   "metadata": {
    "collapsed": false
   }
  },
  {
   "cell_type": "code",
   "execution_count": 40,
   "outputs": [],
   "source": [
    "from sklearn.model_selection import GridSearchCV"
   ],
   "metadata": {
    "collapsed": false
   }
  },
  {
   "cell_type": "code",
   "execution_count": null,
   "outputs": [],
   "source": [
    "HYPER = {\"LinearRegression\": {\"fit_intercept\": [True, False], \"positive\": [True, False]},\n",
    "         \"RandomForestRegressor\": {\"n_estimators\": [100, 200], \"criterion\": [\"squared_error\", \"friedman_mse\"],\n",
    "                                   \"min_samples_split\": [2, 3, 4], \"min_samples_leaf\": [2, 3, 4],\n",
    "                                   \"max_features\": [\"sqrt\", \"log2\", 1.0], \"bootstrap\": [True, False]},\n",
    "         \"SVR\": {\"kernel\": [\"linear\", \"poly\", \"rbf\", \"sigmoid\"], \"degree\": [2, 3, 4], \"gamma\": [\"scale\", \"auto\"],\n",
    "                 \"coef0\": [0.0, 1.0], \"C\": [0.1, 1, 2, 10]},\n",
    "         \"MLPRegressor\": {\"hidden_layer_sizes\": [(100,), (200,), (400,)], \"activation\": [\"relu\", \"logistic\"],\n",
    "                          \"solver\": [\"sgd\", \"adam\", \"rmsprop\"], \"batch_size\": [32, 64, 128],\n",
    "                          \"learning_rate\": [\"constant\", \"adaptive\"], \"early_stopping\": [True, False]}}"
   ],
   "metadata": {
    "collapsed": false
   }
  },
  {
   "cell_type": "code",
   "execution_count": null,
   "outputs": [],
   "source": [
    "def grid_search(models:list, methods:list, corrs:list, num_feats:list):\n",
    "    results = []\n",
    "    for mo, me, co, nf in zip(models, methods, corrs, num_feats):\n",
    "        print(f\"Optimizing {mo.__class__.__name__} using {me} ({nf} features)...\")\n",
    "        x_train = StandardScaler().fit_transform(X_train.loc[:,get_k_best_scores(nf, co).keys()])\n",
    "        param_grid = HYPER[mo.__class__.__name__]\n",
    "        estimator = mo()\n",
    "        gs = GridSearchCV(estimator, param_grid, cv=5)\n",
    "        gs.fit(x_train, y_train)\n",
    "        results.append(gs.best_params_)\n",
    "        print(f\"Best parameters: {gs.best_params_}\\n\")\n",
    "    return results"
   ],
   "metadata": {
    "collapsed": false
   }
  },
  {
   "cell_type": "code",
   "execution_count": null,
   "outputs": [],
   "source": [
    "# preencher 'models' de acordo com os resultados anteriores\n",
    "models = [...]\n",
    "methods = [\"Pearson correlation\", \"Spearman correlation\", \"univariate linear regression\", \"mutual information regression\"]\n",
    "corrs = [pearson_corrs, spearman_corrs, f_values, mis]\n",
    "# preencher 'num_feats' de acordo com os resultados anteriores\n",
    "num_feats = [...]\n",
    "\n",
    "best_params = grid_search(models, methods, corrs, num_feats)"
   ],
   "metadata": {
    "collapsed": false
   }
  },
  {
   "cell_type": "markdown",
   "source": [
    "#### Cross-validate best models (with optimized hyperparameters)"
   ],
   "metadata": {
    "collapsed": false
   }
  },
  {
   "cell_type": "code",
   "execution_count": null,
   "outputs": [],
   "source": [
    "def cv_best(models: list, params: list, methods: list, corrs: list, num_feats: list, cv=5):\n",
    "    for mo, pr, me, co, nf in zip(models, params, methods, corrs, num_feats):\n",
    "        print(f\"Cross-validating ({cv}-fold) {mo.__class__.__name__} using {me} ({nf} features)...\")\n",
    "        x_train = StandardScaler().fit_transform(X_train.loc[:,get_k_best_corrs(nf, co).keys()])\n",
    "        result = cross_validate(mo, x_train, y_train, cv=cv, return_train_score=True)\n",
    "        mean_train = np.sum(result[\"train_score\"]) / cv\n",
    "        mean_test = np.sum(result[\"test_score\"]) / cv\n",
    "        print(f\"Train scores: {result['train_score']} -> {mean_train = :.4f}\")\n",
    "        print(f\"Test scores: {result['test_score']} -> {mean_test = :.4f}\\n\")"
   ],
   "metadata": {
    "collapsed": false
   }
  },
  {
   "cell_type": "code",
   "execution_count": null,
   "outputs": [],
   "source": [
    "cv_best(models, best_params, methods, corrs, num_feats)"
   ],
   "metadata": {
    "collapsed": false
   }
  },
  {
   "cell_type": "markdown",
   "source": [
    "#### Use best model to predict labels in test.csv"
   ],
   "metadata": {
    "collapsed": false
   }
  },
  {
   "cell_type": "code",
   "execution_count": null,
   "outputs": [],
   "source": [
    "# indicar qual foi o melhor modelo, os respetivos hiper-parâmetros, método de escolha de features e número de features"
   ],
   "metadata": {
    "collapsed": false
   }
  },
  {
   "cell_type": "code",
   "execution_count": null,
   "outputs": [],
   "source": [
    "# vai demorar bastante a correr...\n",
    "test = pd.read_csv(\"test.csv\")\n",
    "test_data = get_dataset_with_features(test)\n",
    "test_data.to_csv(\"test_data.csv\")"
   ],
   "metadata": {
    "collapsed": false
   }
  },
  {
   "cell_type": "code",
   "execution_count": null,
   "outputs": [],
   "source": [
    "test_data = pd.read_csv(\"test_data.csv\")"
   ],
   "metadata": {
    "collapsed": false
   }
  },
  {
   "cell_type": "code",
   "execution_count": null,
   "outputs": [],
   "source": [
    "# split features and label\n",
    "X_test = test_data.iloc[:,2:-1]\n",
    "y_test = test_data[\"tm\"]"
   ],
   "metadata": {
    "collapsed": false
   }
  },
  {
   "cell_type": "code",
   "execution_count": null,
   "outputs": [],
   "source": [
    "# preencher de acordo com os resultados anteriores\n",
    "features = get_k_best_scores(..., ...)"
   ],
   "metadata": {
    "collapsed": false
   }
  },
  {
   "cell_type": "code",
   "execution_count": null,
   "outputs": [],
   "source": [
    "# reduce datasets to the best features\n",
    "X_train = X_train.loc[:, features.keys()]\n",
    "X_test = X_test.loc[:, features.keys()]"
   ],
   "metadata": {
    "collapsed": false
   }
  },
  {
   "cell_type": "code",
   "execution_count": null,
   "outputs": [],
   "source": [
    "# scale both datasets (X_test is scaled according to X_train)\n",
    "sc = StandardScaler().fit(X_train)\n",
    "X_train_scaled = sc.transform(X_train)\n",
    "X_test_scaled = sc.transform(X_test)"
   ],
   "metadata": {
    "collapsed": false
   }
  },
  {
   "cell_type": "code",
   "execution_count": null,
   "outputs": [],
   "source": [
    "# preencher 'estimator' e 'params' de acordo com os resultados anteriores\n",
    "estimator = ...\n",
    "params = ...\n",
    "# fit model\n",
    "model = estimator(**params)\n",
    "model.fit(X_train_scaled, y_train)"
   ],
   "metadata": {
    "collapsed": false
   }
  },
  {
   "cell_type": "code",
   "execution_count": null,
   "outputs": [],
   "source": [
    "# get predictions\n",
    "preds = model.predict(X_test_scaled)\n",
    "print(f\"Predictions:\\n{preds}\")"
   ],
   "metadata": {
    "collapsed": false
   }
  },
  {
   "cell_type": "code",
   "execution_count": null,
   "outputs": [],
   "source": [
    "# get score\n",
    "score = model.score(X_test_scaled, y_test)\n",
    "print(f\"Test score: {score:.2%}\")"
   ],
   "metadata": {
    "collapsed": false
   }
  }
 ],
 "metadata": {
  "kernelspec": {
   "display_name": "Python 3 (ipykernel)",
   "language": "python",
   "name": "python3"
  },
  "language_info": {
   "codemirror_mode": {
    "name": "ipython",
    "version": 3
   },
   "file_extension": ".py",
   "mimetype": "text/x-python",
   "name": "python",
   "nbconvert_exporter": "python",
   "pygments_lexer": "ipython3",
   "version": "3.9.12"
  }
 },
 "nbformat": 4,
 "nbformat_minor": 5
}

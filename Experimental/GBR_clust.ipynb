{
 "cells": [
  {
   "cell_type": "markdown",
   "id": "2924dc37-a9b0-4cd1-8e0d-b9c34ea09bd4",
   "metadata": {},
   "source": [
    "# Supervised Learning"
   ]
  },
  {
   "cell_type": "code",
   "execution_count": 1,
   "id": "8dba2b56-d9e8-4987-a5d7-b74e625cbf96",
   "metadata": {},
   "outputs": [],
   "source": [
    "import numpy as np\n",
    "import pandas as pd"
   ]
  },
  {
   "cell_type": "code",
   "execution_count": 2,
   "id": "41dd9856-a4f6-4d51-8722-9f19d8e258e7",
   "metadata": {},
   "outputs": [],
   "source": [
    "import warnings\n",
    "warnings.filterwarnings(\"ignore\")"
   ]
  },
  {
   "cell_type": "markdown",
   "id": "c50510d0-a738-4df6-b131-f060b51a76bb",
   "metadata": {},
   "source": [
    "## Step 1 - Fit GBR models"
   ]
  },
  {
   "cell_type": "markdown",
   "id": "dfd1cf45-a1a6-4bb0-bb32-8b675b04d271",
   "metadata": {},
   "source": [
    "#### Read training data"
   ]
  },
  {
   "cell_type": "code",
   "execution_count": 3,
   "id": "700f4339-f148-40a8-a84d-0047835231b6",
   "metadata": {},
   "outputs": [],
   "source": [
    "X_train_sc = pd.read_csv(\"Files/X_train_sc.csv\", index_col=0)"
   ]
  },
  {
   "cell_type": "code",
   "execution_count": 4,
   "id": "4a551c0c-9ff3-486b-b420-53f13cd85cc1",
   "metadata": {},
   "outputs": [],
   "source": [
    "y_train = pd.read_csv(\"Files/y_train.csv\", index_col=0)\n",
    "y_train = pd.Series(y_train[\"tm\"])"
   ]
  },
  {
   "cell_type": "markdown",
   "id": "67e00c81-5eac-43c9-89f3-a3dd3a2e7073",
   "metadata": {},
   "source": [
    "#### Select features"
   ]
  },
  {
   "cell_type": "code",
   "execution_count": 5,
   "id": "d84cccbf-ac31-44d3-aeb1-d2252350448c",
   "metadata": {},
   "outputs": [],
   "source": [
    "mutual_info = [float(elem.strip()) for elem in open(\"Files/mutual_info.txt\").readlines()]"
   ]
  },
  {
   "cell_type": "code",
   "execution_count": 6,
   "id": "662f3688-0b80-492c-b83b-06d4aa8b2cb4",
   "metadata": {},
   "outputs": [],
   "source": [
    "num_features = 200\n",
    "best_features = np.argsort(mutual_info)[-num_features:]"
   ]
  },
  {
   "cell_type": "code",
   "execution_count": 7,
   "id": "152d7a08-695b-4b37-a8db-6988ee6cdc71",
   "metadata": {},
   "outputs": [],
   "source": [
    "X_train_sc_best = X_train_sc.iloc[:, best_features]"
   ]
  },
  {
   "cell_type": "markdown",
   "id": "76c39bb8-93f1-42eb-b1ad-bc9fa9949b39",
   "metadata": {},
   "source": [
    "#### Method 1 - Run KMeans and fit GBR models"
   ]
  },
  {
   "cell_type": "code",
   "execution_count": 8,
   "id": "203f628f-d5de-4f52-ba59-2889402e7f14",
   "metadata": {},
   "outputs": [],
   "source": [
    "from sklearn.cluster import KMeans\n",
    "from sklearn.ensemble import GradientBoostingRegressor as GBR"
   ]
  },
  {
   "cell_type": "code",
   "execution_count": 9,
   "id": "e474d8b6-3806-4c00-8bca-242b8c2d4897",
   "metadata": {},
   "outputs": [],
   "source": [
    "n_clusters_km = 6\n",
    "km = KMeans(n_clusters=n_clusters_km, n_init=20, max_iter=400)"
   ]
  },
  {
   "cell_type": "code",
   "execution_count": 10,
   "id": "0d88f993-4a0e-4409-8fb9-ecec037b3e34",
   "metadata": {},
   "outputs": [
    {
     "data": {
      "text/plain": [
       "KMeans(max_iter=400, n_clusters=6, n_init=20)"
      ]
     },
     "execution_count": 10,
     "metadata": {},
     "output_type": "execute_result"
    }
   ],
   "source": [
    "km.fit(X_train_sc_best)"
   ]
  },
  {
   "cell_type": "code",
   "execution_count": 11,
   "id": "feb25a8c-b383-449b-87f6-9a51e2607e58",
   "metadata": {
    "tags": []
   },
   "outputs": [
    {
     "name": "stdout",
     "output_type": "stream",
     "text": [
      "2670\n",
      "4743\n",
      "3747\n",
      "10289\n",
      "838\n",
      "6116\n"
     ]
    }
   ],
   "source": [
    "for i in range(n_clusters_km):\n",
    "    print(len(km.labels_[km.labels_ == i]))"
   ]
  },
  {
   "cell_type": "code",
   "execution_count": 12,
   "id": "8c6c3189-a2a1-48d4-ace6-06b2331371f4",
   "metadata": {},
   "outputs": [],
   "source": [
    "models_km = {}\n",
    "for i in range(n_clusters_km):\n",
    "    x_train_cluster = X_train_sc_best[km.labels_ == i]\n",
    "    y_train_cluster = y_train[km.labels_ == i]\n",
    "    model = GBR()\n",
    "    models_km[i] = model.fit(x_train_cluster, y_train_cluster)"
   ]
  },
  {
   "cell_type": "markdown",
   "id": "96160487-6830-45f6-9230-7279bb009225",
   "metadata": {},
   "source": [
    "#### Method 2 - Run KNN Regressor and fit GBR models"
   ]
  },
  {
   "cell_type": "code",
   "execution_count": 13,
   "id": "95a2094b-619c-43cc-9712-0ed32577ffee",
   "metadata": {},
   "outputs": [],
   "source": [
    "from sklearn.neighbors import KNeighborsRegressor as KNR"
   ]
  },
  {
   "cell_type": "code",
   "execution_count": 14,
   "id": "8752e3db-595f-48c1-8163-5d461100898e",
   "metadata": {},
   "outputs": [],
   "source": [
    "# prepare choice of examples\n",
    "n_clusters_knn = 6\n",
    "len_ = X_train_sc_best.shape[0]\n",
    "range_ = len_ // n_clusters_knn"
   ]
  },
  {
   "cell_type": "code",
   "execution_count": 15,
   "id": "17af510b-1669-4fa8-b428-da6d0ebb6880",
   "metadata": {},
   "outputs": [
    {
     "data": {
      "text/plain": [
       "KNeighborsRegressor(n_neighbors=4733, p=1)"
      ]
     },
     "execution_count": 15,
     "metadata": {},
     "output_type": "execute_result"
    }
   ],
   "source": [
    "# fit knn regressor model (n neighbors)\n",
    "n_neighbors = len_ // n_clusters_knn\n",
    "knn = KNR(n_neighbors=n_neighbors, p=1)\n",
    "knn.fit(X_train_sc_best, y_train)"
   ]
  },
  {
   "cell_type": "code",
   "execution_count": 16,
   "id": "6a570056-016f-482e-8618-d9fce7d57ad9",
   "metadata": {},
   "outputs": [],
   "source": [
    "models_knn = {}\n",
    "for i in range(0, len_, range_):\n",
    "    # get example\n",
    "    example = X_train_sc_best.iloc[i, :].to_numpy().reshape(1, -1)\n",
    "    # get distances and indices of k closest neighbors to example\n",
    "    _, indices = knn.kneighbors(example)\n",
    "    # mask X_train and y_train\n",
    "    x_train_cluster = X_train_sc_best.iloc[indices[0], :]\n",
    "    y_train_cluster = y_train.iloc[indices[0]]\n",
    "    # compute \"centroid\" for each cluster\n",
    "    centroid = np.mean(x_train_cluster, axis=0)\n",
    "    # update models\n",
    "    models_knn[i] = [centroid, GBR().fit(x_train_cluster, y_train_cluster)]"
   ]
  },
  {
   "cell_type": "markdown",
   "id": "63a08c0e-ad44-445a-846b-ca15e9ecc087",
   "metadata": {},
   "source": [
    "## Step 2 - Predict labels"
   ]
  },
  {
   "cell_type": "markdown",
   "id": "bd11efc1-ea54-4228-bf2e-8884affb2cdd",
   "metadata": {},
   "source": [
    "#### Read testing data"
   ]
  },
  {
   "cell_type": "code",
   "execution_count": 17,
   "id": "49673bbb-dd89-40c0-9ac3-5d851bf72f56",
   "metadata": {},
   "outputs": [],
   "source": [
    "data_test = pd.read_csv(\"data_test.csv\")"
   ]
  },
  {
   "cell_type": "code",
   "execution_count": 18,
   "id": "16409ff4-f618-483e-ae2b-6ea438bcfffe",
   "metadata": {},
   "outputs": [],
   "source": [
    "X_test = data_test.iloc[:, 2:-1]"
   ]
  },
  {
   "cell_type": "markdown",
   "id": "45bace5c-a9b8-4abf-a3af-8562155a7018",
   "metadata": {},
   "source": [
    "#### Scale testing data"
   ]
  },
  {
   "cell_type": "code",
   "execution_count": 19,
   "id": "20b47530-4e34-47f8-8a81-1d69b165f78f",
   "metadata": {},
   "outputs": [],
   "source": [
    "from sklearn.preprocessing import MinMaxScaler"
   ]
  },
  {
   "cell_type": "code",
   "execution_count": 20,
   "id": "14e2dfa1-d9b6-477f-b534-af4915c3cbbd",
   "metadata": {},
   "outputs": [],
   "source": [
    "X_test_arr = MinMaxScaler().fit_transform(X_test)\n",
    "X_test_sc = pd.DataFrame(data=X_test_arr, columns=X_test.columns)"
   ]
  },
  {
   "cell_type": "markdown",
   "id": "bbe405cd-70db-4752-9d53-cebb2695204c",
   "metadata": {},
   "source": [
    "#### Mask testing data"
   ]
  },
  {
   "cell_type": "code",
   "execution_count": 21,
   "id": "d85d3f52-92fa-4614-a88f-daf144e877c0",
   "metadata": {},
   "outputs": [],
   "source": [
    "X_test_sc_best = X_test_sc.iloc[:, best_features]"
   ]
  },
  {
   "cell_type": "markdown",
   "id": "be755fea-53e5-47d4-b61b-80707492daa5",
   "metadata": {},
   "source": [
    "#### Method 1 - Predict testing data labels (KMeans)"
   ]
  },
  {
   "cell_type": "code",
   "execution_count": 22,
   "id": "cdd146ff-2461-4148-a26a-e01f8232fa95",
   "metadata": {},
   "outputs": [],
   "source": [
    "y_preds_km = []\n",
    "for i, row in X_test_sc_best.iterrows():\n",
    "    example = row.to_numpy().reshape(1, -1)\n",
    "    label = km.predict(example)[0]\n",
    "    model = models_km[label]\n",
    "    y_pred = model.predict(example)[0]\n",
    "    y_preds_km.append(y_pred)"
   ]
  },
  {
   "cell_type": "code",
   "execution_count": 23,
   "id": "99df93b1-3942-49fd-a383-932f100a3d25",
   "metadata": {},
   "outputs": [
    {
     "data": {
      "text/plain": [
       "(22.8400196340927, 102.43688639568039)"
      ]
     },
     "execution_count": 23,
     "metadata": {},
     "output_type": "execute_result"
    }
   ],
   "source": [
    "min(y_preds_km), max(y_preds_km)"
   ]
  },
  {
   "cell_type": "markdown",
   "id": "74e1bc42-a85a-41f3-bc15-f37245621844",
   "metadata": {},
   "source": [
    "#### Method 2 - Predict testing data labels (KNN Regressor)"
   ]
  },
  {
   "cell_type": "code",
   "execution_count": 24,
   "id": "f95df7f6-6257-4400-9a7d-7b2748c0bd46",
   "metadata": {},
   "outputs": [],
   "source": [
    "from sklearn.metrics.pairwise import euclidean_distances"
   ]
  },
  {
   "cell_type": "code",
   "execution_count": 25,
   "id": "2e8e6138-af8b-448d-b315-162925d10ad4",
   "metadata": {},
   "outputs": [],
   "source": [
    "y_preds_knn = []\n",
    "for i, row in X_test_sc_best.iterrows():\n",
    "    # convert to numpy and reshape\n",
    "    example = row.to_numpy().reshape(1, -1)\n",
    "    # compute distance of row to all clusters and get min_cluster\n",
    "    min_dist = np.inf\n",
    "    min_cluster = None\n",
    "    for model in models_knn:\n",
    "        centroid = models_knn[model][0].to_numpy().reshape(1, -1)\n",
    "        dist = euclidean_distances(centroid, example)\n",
    "        if dist < min_dist:\n",
    "            min_dist = dist\n",
    "            min_cluster = model\n",
    "    # get prediction\n",
    "    gbr = models_knn[min_cluster][1]\n",
    "    y_pred = gbr.predict(example)[0]\n",
    "    y_preds_knn.append(y_pred)"
   ]
  },
  {
   "cell_type": "code",
   "execution_count": 26,
   "id": "412f84b5-a24a-4bbe-b636-2e9d2869a8fb",
   "metadata": {},
   "outputs": [
    {
     "data": {
      "text/plain": [
       "(34.27549116967443, 107.35855377349316)"
      ]
     },
     "execution_count": 26,
     "metadata": {},
     "output_type": "execute_result"
    }
   ],
   "source": [
    "min(y_preds_knn), max(y_preds_knn)"
   ]
  },
  {
   "cell_type": "markdown",
   "id": "df385d3f-7a2d-44fc-9094-c4d97876078a",
   "metadata": {},
   "source": [
    "#### Create csv files with predictions"
   ]
  },
  {
   "cell_type": "markdown",
   "id": "6cc5439d-51c8-4e12-a217-f17fdc06a8c5",
   "metadata": {},
   "source": [
    "##### KMeans"
   ]
  },
  {
   "cell_type": "code",
   "execution_count": 27,
   "id": "a1d7350b-5780-43b2-b529-2c5e7da7861c",
   "metadata": {
    "tags": []
   },
   "outputs": [],
   "source": [
    "preds_km = pd.concat([data_test[\"seq_id\"], pd.Series(y_preds_km, name=\"tm\")], axis=1)"
   ]
  },
  {
   "cell_type": "code",
   "execution_count": 28,
   "id": "8868d4ca-9aa4-427c-9dea-1214675a935a",
   "metadata": {},
   "outputs": [],
   "source": [
    "preds_km.to_csv(\"novozymes_km.csv\", index=False)"
   ]
  },
  {
   "cell_type": "markdown",
   "id": "67f50aae-55c6-4f23-962d-d68a7e87e676",
   "metadata": {},
   "source": [
    "##### KNN Regressor"
   ]
  },
  {
   "cell_type": "code",
   "execution_count": 29,
   "id": "0b82b573-83e6-43ea-8ddd-1ec3afc12695",
   "metadata": {},
   "outputs": [],
   "source": [
    "preds_knn = pd.concat([data_test[\"seq_id\"], pd.Series(y_preds_knn, name=\"tm\")], axis=1)"
   ]
  },
  {
   "cell_type": "code",
   "execution_count": 30,
   "id": "4aad1eff-067c-433f-85c7-df6ae62bbcb1",
   "metadata": {},
   "outputs": [],
   "source": [
    "preds_knn.to_csv(\"novozymes_knn.csv\", index=False)"
   ]
  },
  {
   "cell_type": "code",
   "execution_count": null,
   "id": "65e19d64-4864-46d1-9a20-72e5f2d2c565",
   "metadata": {},
   "outputs": [],
   "source": []
  }
 ],
 "metadata": {
  "kernelspec": {
   "display_name": "Python 3 (ipykernel)",
   "language": "python",
   "name": "python3"
  },
  "language_info": {
   "codemirror_mode": {
    "name": "ipython",
    "version": 3
   },
   "file_extension": ".py",
   "mimetype": "text/x-python",
   "name": "python",
   "nbconvert_exporter": "python",
   "pygments_lexer": "ipython3",
   "version": "3.9.12"
  }
 },
 "nbformat": 4,
 "nbformat_minor": 5
}
